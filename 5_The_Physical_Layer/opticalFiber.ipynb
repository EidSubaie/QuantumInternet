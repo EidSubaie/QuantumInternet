{
 "cells": [
  {
   "cell_type": "markdown",
   "metadata": {},
   "source": [
    "Optical fibers are used to transmit photons around, e.g., between repeaters.\n",
    "\n",
    "Physically, a photon passing through an optical fiber can be modelled by a quantum channel acting on the state of the qubit."
   ]
  },
  {
   "cell_type": "code",
   "execution_count": 1,
   "metadata": {},
   "outputs": [
    {
     "name": "stdout",
     "output_type": "stream",
     "text": [
      "Writing opticalFiber.py\n"
     ]
    }
   ],
   "source": [
    "%%writefile opticalFiber.py\n",
    "\n",
    "class opticalFiber(object):\n",
    "    def __init__(length, node1, node2):\n",
    "        self.length = length\n",
    "        # The two nodes at the two ends of the fiber.\n",
    "        # A node can be a repeater, a user node, a heralding station, \n",
    "        # etc.\n",
    "        self.node1 = node1\n",
    "        self.node2 = node2\n",
    "        \n",
    "    \n",
    "    def carryPhoton(state, sender, receiver):  # Here there will be a quantum channel applied to the state\n",
    "        # apply channel here\n",
    "        \n",
    "        # send output state to the receiver\n",
    "        "
   ]
  },
  {
   "cell_type": "code",
   "execution_count": null,
   "metadata": {},
   "outputs": [],
   "source": []
  }
 ],
 "metadata": {
  "kernelspec": {
   "display_name": "Python 3",
   "language": "python",
   "name": "python3"
  },
  "language_info": {
   "codemirror_mode": {
    "name": "ipython",
    "version": 3
   },
   "file_extension": ".py",
   "mimetype": "text/x-python",
   "name": "python",
   "nbconvert_exporter": "python",
   "pygments_lexer": "ipython3",
   "version": "3.7.4"
  }
 },
 "nbformat": 4,
 "nbformat_minor": 2
}
