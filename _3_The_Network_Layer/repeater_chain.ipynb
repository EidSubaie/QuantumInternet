{
 "cells": [
  {
   "cell_type": "markdown",
   "metadata": {},
   "source": [
    "The network layer can ask specific repeaters to swap, because it's the first layer that has information about the entire network.\n",
    "\n",
    "The network layer can also ask repeaters to create links with a given minimum fidelity.\n",
    "\n",
    "In our simulations, the network layer will also contain a GUI object and a globalState object that together show graphically what the global state of the network is. Note that this information is only available to us because we are running a simulation. In realiy, we practically never know exactly the state we are using, unless we do a lot of measurements to try to figure it out. This is called [quantum state tomography](https://en.wikipedia.org/wiki/Quantum_tomography)."
   ]
  },
  {
   "cell_type": "code",
   "execution_count": 1,
   "metadata": {},
   "outputs": [],
   "source": [
    "%load_ext autoreload\n",
    "%autoreload 2"
   ]
  },
  {
   "cell_type": "code",
   "execution_count": 2,
   "metadata": {},
   "outputs": [
    {
     "name": "stdout",
     "output_type": "stream",
     "text": [
      "Overwriting repeater_chain.py\n"
     ]
    }
   ],
   "source": [
    "%%writefile repeater_chain.py\n",
    "import sys\n",
    "\n",
    "sys.path.append(\"..\")\n",
    "from _4_The_Link_Layer.repeater import Repeater\n",
    "from _4_The_Link_Layer.cable import Cable\n",
    "# import globalState\n",
    "\n",
    "class RepeaterChain(object):\n",
    "    def __init__(self, length):\n",
    "        self.length = length\n",
    "        self.repeaters = [Repeater(self) for i in range(length)]\n",
    "#         self.connectedEndnodes = []\n",
    "        # connect the repeaters with cables\n",
    "        for i in range(length):\n",
    "            # for every repeater create a new cable to the right\n",
    "            if i < length-1:\n",
    "                new_cable = Cable(self.repeaters[i], self.repeaters[i+1])\n",
    "                self.repeaters[i].connect_right_cable(new_cable)\n",
    "            if i > 0:\n",
    "                self.repeaters[i].connect_left_cable(self.repeaters[i-1].right_cable)\n",
    "\n",
    "    def attempt_swap(self, repeater):\n",
    "        #ask repeater to do a swap\n",
    "        repeater.attempt_swap() #specify the links to swap#\n",
    "\n",
    "    def attempt_link_creation(self, repeater1, repeater2):\n",
    "        repeater1.attempt_link_creation(repeater2)\n",
    "\n",
    "    def connect(self, endnode): #endnode is a link layer object\n",
    "        if self.repeaters[0].left_cable == None: # in the future choose where to connect in a better way\n",
    "            new_cable = Cable(endnode, self.repeaters[0])\n",
    "            endnode.connect_cable(new_cable) \n",
    "            self.repeaters[0].connect_left_cable(endnode.cable)\n",
    "        else:\n",
    "            new_cable = cable(self.repeaters[self.length-1], endnode)\n",
    "            self.repeaters[self.length-1].connect_right_cable(new_cable) \n",
    "            endnode.connect_cable(self.repeaters[self.length-1].right_cable)\n",
    "        self.assign_networkId(endnode)\n",
    "\n",
    "    def assign_networkId(self, node):\n",
    "        if type(node) == \"endnode\":\n",
    "            if node.cable == None:\n",
    "                print(\"endnode is not wired to network.\")\n",
    "            elif node.cable == self.repeaters[0].left_cable:\n",
    "                node.netId = 0\n",
    "            elif node.cable == self.repeaters[self.length-1].right_cable:\n",
    "                node.netId = self.length\n",
    "        elif type(node) == \"repeater\":\n",
    "            if node.right_cable == None and node.left_cable == None:\n",
    "                print(\"repeater is not wired to network\")\n",
    "            else:\n",
    "                node.netId = self.repeaters.index(node) + 1\n",
    "        else:\n",
    "            print(\"unknown node type.\")"
   ]
  },
  {
   "cell_type": "markdown",
   "metadata": {},
   "source": [
    "The function `assignNetworkIds` assigns Ids that identify the different link layer objects connected to the network. They are analogous to IP addresses in the classical internet. They are location-dependent: a repeater or an endnode with a smaller id is located more to the left."
   ]
  },
  {
   "cell_type": "code",
   "execution_count": null,
   "metadata": {},
   "outputs": [],
   "source": []
  }
 ],
 "metadata": {
  "kernelspec": {
   "display_name": "Python 3",
   "language": "python",
   "name": "python3"
  },
  "language_info": {
   "codemirror_mode": {
    "name": "ipython",
    "version": 3
   },
   "file_extension": ".py",
   "mimetype": "text/x-python",
   "name": "python",
   "nbconvert_exporter": "python",
   "pygments_lexer": "ipython3",
   "version": "3.7.6"
  }
 },
 "nbformat": 4,
 "nbformat_minor": 2
}
