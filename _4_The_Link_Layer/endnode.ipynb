{
 "cells": [
  {
   "cell_type": "markdown",
   "metadata": {},
   "source": [
    "End nodes for end users. The end users have direct access to their end nodes in the application layer. Should this be here or should it be in the network layer? I think it should be here. Let's put it here and see how it works out."
   ]
  },
  {
   "cell_type": "code",
   "execution_count": 2,
   "metadata": {},
   "outputs": [],
   "source": [
    "%load_ext autoreload\n",
    "%autoreload 2"
   ]
  },
  {
   "cell_type": "code",
   "execution_count": 10,
   "metadata": {},
   "outputs": [
    {
     "name": "stdout",
     "output_type": "stream",
     "text": [
      "Overwriting endnode.py\n"
     ]
    }
   ],
   "source": [
    "%%writefile endnode.py\n",
    "import sys\n",
    "\n",
    "sys.path.append(\"..\")\n",
    "from _5_The_Physical_Layer.node_hardware.endnode_hardware import EndnodeHardware\n",
    "print(\"imported EndnodeHardware object\", EndnodeHardware)\n",
    "\n",
    "class Endnode(object):\n",
    "    def __init__(self):\n",
    "        print(\"creating new endnode\")\n",
    "        self.netId = None\n",
    "        self.hardware = EndnodeHardware(self)\n",
    "        self.link = None\n",
    "        self.cable = None\n",
    "        self.parent_application = None\n",
    "        \n",
    "    def connect_cable(self, cable):\n",
    "        print(\"connecting cable in endnode\")\n",
    "        self.cable = cable\n",
    "        self.hardware.connect_fiber(cable.optical_fiber)\n",
    "\n",
    "    # attempt to create link with another repeater\n",
    "    def attempt_link_creation(self, remote_repeater):\n",
    "        # attempt link creation on the next free qubit\n",
    "        self.hardware.attempt_link_creation(remote_repeater)\n",
    "\n",
    "    # attempt to do entanglement distillation of \n",
    "    # two links with the same repeater.\n",
    "    def attempt_distillation(self, links):\n",
    "        self.hardware.attempt_distillation()\n",
    "\n",
    "    # this function emits a signal to the link layer (which here takes the form \n",
    "    # of software running on the repeater).\n",
    "    def send_message(self, obj, msg):\n",
    "        obj.handle_message(msg)\n",
    "\n",
    "    # this function receives an emitted signal\n",
    "    def handle_message(self, msg):\n",
    "#         if msg['msg'] == \"entanglement swapping done\":\n",
    "#             # update connections table\n",
    "#             self.handle_swapSuccess(..., ...)\n",
    "#             # retitle the message and forward it.\n",
    "#             # Note that the msg contains two measurement results.\n",
    "#             msg['msg'] = \"entanglement swapping corrections\"\n",
    "#             self.sendMessage(remote_epeater, msg)\n",
    "#         elif msg['msg'] == \"entanglement swapping corrections\":\n",
    "#             measurement_result1 = msg['measurement_result1']\n",
    "#             measurement_result2 = msg['measurement_result2']\n",
    "#             # assume we have received the qubit already.\n",
    "#             # ask the repeaterHardware to apply corrections.\n",
    "#             self.hardware.apply_swap_corrections(qubitId,\n",
    "#                                                        measurement_result1, \n",
    "#                                                        measurement_result2)\n",
    "#         elif msg['msg'] == \"entanglement swapping corrections applied\":\n",
    "#             # update connections table\n",
    "#             self.handle_swap_success(..., ...)\n",
    "#         else:\n",
    "#             print(\"received unknown message\")\n",
    "        if msg['msg'] == \"received qubit\":\n",
    "            self.parent_application.receive_qubit()\n",
    "            pass\n",
    "\n",
    "    def handle_link_creation_success(self, other):\n",
    "        self.links = other\n",
    "\n",
    "    def handle_link_request(self):\n",
    "        # determine if the other repeater is on the left or right\n",
    "            \n",
    "        # check if there is a node available on that side \n",
    "            \n",
    "        if slotAvailable:\n",
    "            # create the link\n",
    "            self.attempt_link_creation() #specify nodes here#\n",
    "\n",
    "    def request_link(self, other):\n",
    "        msg = packLinkRequest(self.netId)\n",
    "        self.send_message(other, msg)"
   ]
  },
  {
   "cell_type": "code",
   "execution_count": null,
   "metadata": {},
   "outputs": [],
   "source": []
  }
 ],
 "metadata": {
  "kernelspec": {
   "display_name": "Python 3",
   "language": "python",
   "name": "python3"
  },
  "language_info": {
   "codemirror_mode": {
    "name": "ipython",
    "version": 3
   },
   "file_extension": ".py",
   "mimetype": "text/x-python",
   "name": "python",
   "nbconvert_exporter": "python",
   "pygments_lexer": "ipython3",
   "version": "3.7.6"
  }
 },
 "nbformat": 4,
 "nbformat_minor": 4
}
