{
 "cells": [
  {
   "cell_type": "code",
   "execution_count": null,
   "metadata": {},
   "outputs": [],
   "source": [
    "%load_ext autoreload\n",
    "%autoreload 2\n",
    "\n",
    "from ../2_The_Transport_Layer import quantumInternet\n",
    "from ../1_The_Applications_Layer import BB84\n",
    "\n",
    "qInternet = new quantumInternet()\n",
    "\n",
    "BB84Alice = new BB84(qInternet)\n",
    "BB84Bob = new BB84(qInternet)   # note that they both take the same instance of\n",
    "# a quantumInternet object, because they are on the same network.\n",
    "\n",
    "BB84Alice.initiateKeyExchange(\"Bob\")"
   ]
  }
 ],
 "metadata": {
  "kernelspec": {
   "display_name": "Python 3",
   "language": "python",
   "name": "python3"
  },
  "language_info": {
   "codemirror_mode": {
    "name": "ipython",
    "version": 3
   },
   "file_extension": ".py",
   "mimetype": "text/x-python",
   "name": "python",
   "nbconvert_exporter": "python",
   "pygments_lexer": "ipython3",
   "version": "3.7.4"
  }
 },
 "nbformat": 4,
 "nbformat_minor": 2
}
