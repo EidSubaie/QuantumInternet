{
 "cells": [
  {
   "cell_type": "markdown",
   "metadata": {},
   "source": [
    "`cable` is a link layer level object. Right now it's just a wrapper (in the software sense of the word) around opticalFiber, which is a physical layer object. "
   ]
  },
  {
   "cell_type": "code",
   "execution_count": 1,
   "metadata": {},
   "outputs": [
    {
     "name": "stdout",
     "output_type": "stream",
     "text": [
      "Overwriting cable.py\n"
     ]
    }
   ],
   "source": [
    "%%writefile cable.py\n",
    "%load_ext autoreload\n",
    "%autoreload 2\n",
    "\n",
    "from ../5_The_Physical_Layer import opticalFiber\n",
    "\n",
    "class cable(object):\n",
    "    def __init__(self, node1, node2):\n",
    "        self.id = None\n",
    "        # node1 and node2 are repeater objects (link layer)\n",
    "        self.node1 = node1\n",
    "        self.node2 = node2\n",
    "        self.opticalFiber = opticalFiber(node1.repeaterHardware, node2.repeaterHardware) "
   ]
  },
  {
   "cell_type": "code",
   "execution_count": null,
   "metadata": {},
   "outputs": [],
   "source": []
  }
 ],
 "metadata": {
  "kernelspec": {
   "display_name": "Python 3",
   "language": "python",
   "name": "python3"
  },
  "language_info": {
   "codemirror_mode": {
    "name": "ipython",
    "version": 3
   },
   "file_extension": ".py",
   "mimetype": "text/x-python",
   "name": "python",
   "nbconvert_exporter": "python",
   "pygments_lexer": "ipython3",
   "version": "3.7.6"
  }
 },
 "nbformat": 4,
 "nbformat_minor": 4
}
