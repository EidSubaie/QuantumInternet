{
 "cells": [
  {
   "cell_type": "code",
   "execution_count": 1,
   "metadata": {},
   "outputs": [
    {
     "name": "stdout",
     "output_type": "stream",
     "text": [
      "Writing link.py\n"
     ]
    }
   ],
   "source": [
    "%%writefile link.py\n",
    "%load_ext autoreload\n",
    "%autoreload 2\n",
    "\n",
    "class link(object):\n",
    "    def __init__(node1, node2, fidelity):\n",
    "        # Each node is a repeater object\n",
    "        self.node1 = node1\n",
    "        self.node2 = node2\n",
    "        self.fidelity = fidelity"
   ]
  }
 ],
 "metadata": {
  "kernelspec": {
   "display_name": "Python 3",
   "language": "python",
   "name": "python3"
  },
  "language_info": {
   "codemirror_mode": {
    "name": "ipython",
    "version": 3
   },
   "file_extension": ".py",
   "mimetype": "text/x-python",
   "name": "python",
   "nbconvert_exporter": "python",
   "pygments_lexer": "ipython3",
   "version": "3.7.4"
  }
 },
 "nbformat": 4,
 "nbformat_minor": 2
}
