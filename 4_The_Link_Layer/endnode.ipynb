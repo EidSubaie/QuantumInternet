{
 "cells": [
  {
   "cell_type": "markdown",
   "metadata": {},
   "source": [
    "End nodes for end users. The end users have direct access to their end nodes in the application layer. Should this be here or should it be in the network layer? I think it should be here. Let's put it here and see how it works out."
   ]
  },
  {
   "cell_type": "code",
   "execution_count": 1,
   "metadata": {},
   "outputs": [
    {
     "name": "stdout",
     "output_type": "stream",
     "text": [
      "Overwriting endnode.py\n"
     ]
    }
   ],
   "source": [
    "%%writefile endnode.py\n",
    "%load_ext autoreload\n",
    "%autoreload 2\n",
    "\n",
    "from ../5_The_Physical_Layer import endnodeHardware\n",
    "\n",
    "class endNode(object):\n",
    "    def __init__(self):\n",
    "        self.netId = None\n",
    "        self.endnodeHardware = endnodeHardware(self)\n",
    "        self.link = None\n",
    "        self.cable = None\n",
    "\n",
    "    # attempt to create link with another repeater\n",
    "    def attemptLinkCreation(self, other):\n",
    "        # attempt link creation on the next free qubit\n",
    "        self.repeaterHardware.attemptLinkCreation(other)\n",
    "\n",
    "    # attempt to do entanglement distillation of \n",
    "    # two links with the same repeater.\n",
    "    def attemptDistillation(self, other, links):\n",
    "        self.repeaterHardware.attemptDistillation()\n",
    "\n",
    "    # this function emits a signal to the link layer (which here takes the form \n",
    "    # of software running on the repeater).\n",
    "    def sendMessage(self, obj, msg):\n",
    "        obj.handleMessage(msg)\n",
    "\n",
    "    # this function receives an emitted signal\n",
    "    def handleMessage(self, msg):\n",
    "        if msg['msg'] == \"entanglement swapping done\":\n",
    "            # update connections table\n",
    "            self.handleSwapSuccess(..., ...)\n",
    "            # retitle the message and forward it.\n",
    "            # Note that the msg contains two measurement results.\n",
    "            msg['msg'] = \"entanglement swapping corrections\"\n",
    "            self.sendMessage(remoteRepeater, msg)\n",
    "        elif msg['msg'] == \"entanglement swapping corrections\":\n",
    "            measurement_result1 = msg['measurement_result1']\n",
    "            measurement_result2 = msg['measurement_result2']\n",
    "            # assume we have received the qubit already.\n",
    "            # ask the repeaterHardware to apply corrections.\n",
    "            self.repeaterHardware.applySwapCorrections(qubitId,\n",
    "                                                       measurement_result1, \n",
    "                                                       measurement_result2)\n",
    "        elif msg['msg'] == \"entanglement swapping corrections applied\":\n",
    "            # update connections table\n",
    "            self.handleSwapSuccess(..., ...)\n",
    "        else:\n",
    "            print(\"received unknown message\")\n",
    "\n",
    "    def handleLinkCreationSuccess(self, other):\n",
    "        self.links = other\n",
    "\n",
    "    def handleLinkRequest(self):\n",
    "        # determine if the other repeater is on the left or right\n",
    "            \n",
    "        # check if there is a node available on that side \n",
    "            \n",
    "        if slotAvailable:\n",
    "            # create the link\n",
    "            self.attemptLinkCreation(#specify nodes here#)\n",
    "\n",
    "    def requestLink(self, other):\n",
    "        msg = packLinkRequest(self.netId)\n",
    "        self.sendMessage(other, msg)"
   ]
  },
  {
   "cell_type": "code",
   "execution_count": null,
   "metadata": {},
   "outputs": [],
   "source": []
  }
 ],
 "metadata": {
  "kernelspec": {
   "display_name": "Python 3",
   "language": "python",
   "name": "python3"
  },
  "language_info": {
   "codemirror_mode": {
    "name": "ipython",
    "version": 3
   },
   "file_extension": ".py",
   "mimetype": "text/x-python",
   "name": "python",
   "nbconvert_exporter": "python",
   "pygments_lexer": "ipython3",
   "version": "3.7.6"
  }
 },
 "nbformat": 4,
 "nbformat_minor": 4
}
