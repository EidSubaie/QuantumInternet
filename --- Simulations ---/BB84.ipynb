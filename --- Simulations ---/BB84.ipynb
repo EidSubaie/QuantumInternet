{
 "cells": [
  {
   "cell_type": "code",
   "execution_count": 20,
   "metadata": {
    "tags": []
   },
   "outputs": [],
   "source": [
    "%load_ext autoreload\n",
    "%autoreload 2"
   ]
  },
  {
   "cell_type": "code",
   "execution_count": 64,
   "metadata": {
    "tags": []
   },
   "outputs": [
    {
     "output_type": "stream",
     "name": "stdout",
     "text": "creating quantum internet\ncreating new repeater chain\ncreating new repeater\ncreating new repeater hardware\ncreating new qubit\ncreating new qubit in global state\nGUI not on\ncreating new qubit\ncreating new qubit in global state\nGUI not on\ncreating new repeater\ncreating new repeater hardware\ncreating new qubit\ncreating new qubit in global state\nGUI not on\ncreating new qubit\ncreating new qubit in global state\nGUI not on\ncreating new repeater\ncreating new repeater hardware\ncreating new qubit\ncreating new qubit in global state\nGUI not on\ncreating new qubit\ncreating new qubit in global state\nGUI not on\ncreating new cable\ncreating new optical fiber\nconnecting right cable in repeater\nconnecting right optical fiber in repeater hardware\nassigned net id 1\ncreating new cable\ncreating new optical fiber\nconnecting right cable in repeater\nconnecting right optical fiber in repeater hardware\nconnecting left cable in repeater\nconnecting left optical fiber in repeater hardware\nassigned net id 2\nconnecting left cable in repeater\nconnecting left optical fiber in repeater hardware\nassigned net id 3\n"
    }
   ],
   "source": [
    "import sys\n",
    "\n",
    "sys.path.append(\"..\")\n",
    "# from common.GUI.GUI import GUI\n",
    "from _2_The_Transport_Layer.quantum_internet import QuantumInternet\n",
    "from _1_The_Applications_Layer.BB84 import BB84\n",
    "\n",
    "# Humans build a quantum internet. It is a linear chain of 3 repeaters\n",
    "# and it supports only two end users.\n",
    "qInternet = QuantumInternet(length=3)"
   ]
  },
  {
   "cell_type": "code",
   "execution_count": 65,
   "metadata": {
    "tags": []
   },
   "outputs": [
    {
     "output_type": "stream",
     "name": "stdout",
     "text": "creating new application\ncreating new endnode\ncreating endnode hardware\ncreating new qubit\ncreating new qubit in global state\nGUI not on\ncreating new qubit\ncreating new qubit in global state\nGUI not on\nconnecting application (endnode) to quantum internet\nconnecting endnode to repeater chain\ncreating new cable\ncreating new optical fiber\nconnecting cable in endnode\nconnecting fiber in endnode hardware\nconnecting left cable in repeater\nconnecting left optical fiber in repeater hardware\nassigned net id 0\nnew user added to user table: {'Alice': <_1_The_Applications_Layer.BB84.BB84 object at 0x0000019F0EA60488>}\n"
    }
   ],
   "source": [
    "# Alice, an eminent cryptologist at Star Fleet academy, has acquired\n",
    "# one of the new and popular BB84 machines. A BB84 machine allows any\n",
    "# two users to perform BB84 key exchange over the quantum internet\n",
    "# that humans have just built. \n",
    "# Alice starts her machine, then connects it to the quantum internet cable coming\n",
    "# out of her wall.\n",
    "BB84Alice = BB84(username = \"Alice\")\n",
    "qInternet.connect(BB84Alice)\n",
    "\n",
    "#               _,,,_\n",
    "#             .'     `'.\n",
    "#            /     ____ \\\n",
    "#           |    .'_  _\\/\n",
    "#           /    ) a  a|         .----.\n",
    "#          /    (    > |        /|     '--.\n",
    "#         (      ) ._  /        ||    ]|   `-.\n",
    "#         )    _/-.__.'`\\       ||    ]|    ::|\n",
    "#        (  .-'`-.   \\__ )      ||    ]|    ::|\n",
    "#         `/      `-./  `.      ||    ]|    ::|\n",
    "#        _ |    \\      \\  \\     \\|    ]|   .-'\n",
    "#       / \\|     \\   \\  \\  \\     L.__  .--'(\n",
    "#      |   |\\     `. /  /   \\  ,---|_      \\---------,\n",
    "#      |   `\\'.     '. /`\\   \\/ .--._|=-    |_      /|\n",
    "#      |     \\ '.     '._ './`\\/ .-'          '.   / |\n",
    "#      |     |   `'.     `;-:-;`)|             |-./  |\n",
    "#      |    /_      `'--./_  ` )/'-------------')/)  |\n",
    "#      \\   | `\"\"\"\"----\"`\\//`\"\"`/,===..'`````````/ (  |\n",
    "#       |  |            / `---` `==='          /   ) |\n",
    "#       /  \\           /                      /   (  |\n",
    "#      |    '------.  |'--------------------'|     ) |\n",
    "#       \\           `-|                      |    /  |\n",
    "#        `--...,______|                      |   (   |\n",
    "#               | |   |                      |    ) ,|\n",
    "#               | |   |                      |   ( /||\n",
    "#               | |   |                      |   )/ `\"\n",
    "#              /   \\  |                      |  (/\n",
    "#        jgs .' /I\\ '.|                      |  /)\n",
    "#         .-'_.'/ \\'. |                      | /\n",
    "#         ```  `\"\"\"` `| .-------------------.||\n",
    "#                     `\"`                   `\"`"
   ]
  },
  {
   "cell_type": "code",
   "execution_count": 66,
   "metadata": {
    "tags": []
   },
   "outputs": [
    {
     "output_type": "stream",
     "name": "stdout",
     "text": "creating new application\ncreating new endnode\ncreating endnode hardware\ncreating new qubit\ncreating new qubit in global state\nGUI not on\ncreating new qubit\ncreating new qubit in global state\nGUI not on\nconnecting application (endnode) to quantum internet\nconnecting endnode to repeater chain\ncreating new cable\ncreating new optical fiber\nconnecting right cable in repeater\nconnecting right optical fiber in repeater hardware\nconnecting cable in endnode\nconnecting fiber in endnode hardware\nassigned net id 4\nnew user added to user table: {'Alice': <_1_The_Applications_Layer.BB84.BB84 object at 0x0000019F0EA60488>, 'Bob': <_1_The_Applications_Layer.BB84.BB84 object at 0x0000019F0EA58E08>}\n"
    }
   ],
   "source": [
    "# Bob, Alice's half-Vulcan half-brother, lives four federation cities away \n",
    "# from Alice. He bought the BB84 machine because Alice really wanted \n",
    "# to try it and he felt it would be a good opportunity for them to do \n",
    "# something fun together.\n",
    "# Bob starts his machine, then connects it to the quantum internet \n",
    "# cable in his wall.\n",
    "BB84Bob = BB84(username = \"Bob\")\n",
    "qInternet.connect(BB84Bob)\n",
    "\n",
    "#               :                                 :       \n",
    "#             :                                   :       \n",
    "#             :  RRVIttIti+==iiii++iii++=;:,       :      \n",
    "#             : IBMMMMWWWWMMMMMBXXVVYYIi=;:,        :     \n",
    "#             : tBBMMMWWWMMMMMMBXXXVYIti;;;:,,      :     \n",
    "#             t YXIXBMMWMMBMBBRXVIi+==;::;::::       ,    \n",
    "#            ;t IVYt+=+iIIVMBYi=:,,,=i+=;:::::,      ;;   \n",
    "#            YX=YVIt+=,,:=VWBt;::::=,,:::;;;:;:     ;;;   \n",
    "#            VMiXRttItIVRBBWRi:.tXXVVYItiIi==;:   ;;;;    \n",
    "#            =XIBWMMMBBBMRMBXi;,tXXRRXXXVYYt+;;: ;;;;;    \n",
    "#             =iBWWMMBBMBBWBY;;;,YXRRRRXXVIi;;;:;,;;;=    \n",
    "#              iXMMMMMWWBMWMY+;=+IXRRXXVYIi;:;;:,,;;=     \n",
    "#              iBRBBMMMMYYXV+:,:;+XRXXVIt+;;:;++::;;;     \n",
    "#              =MRRRBMMBBYtt;::::;+VXVIi=;;;:;=+;;;;=     \n",
    "#               XBRBBBBBMMBRRVItttYYYYt=;;;;;;==:;=       \n",
    "#                VRRRRRBRRRRXRVYYIttiti=::;:::=;=         \n",
    "#                 YRRRRXXVIIYIiitt+++ii=:;:::;==          \n",
    "#                 +XRRXIIIIYVVI;i+=;=tt=;::::;:;          \n",
    "#                  tRRXXVYti++==;;;=iYt;:::::,;;          \n",
    "#                   IXRRXVVVVYYItiitIIi=:::;,::;          \n",
    "#                    tVXRRRBBRXVYYYIti;::::,::::          \n",
    "#                     YVYVYYYYYItti+=:,,,,,:::::;         \n",
    "#                     YRVI+==;;;;;:,,,,,,,:::::::"
   ]
  },
  {
   "cell_type": "code",
   "execution_count": 67,
   "metadata": {
    "tags": []
   },
   "outputs": [
    {
     "output_type": "stream",
     "name": "stdout",
     "text": "loading |0> state on memory qubit in endnode hardware\nrequesting link in quantum internet\nhandling link request in repeater chain\ninitiating link creation using protocol example protocol 1\nattempting link creation in repeater\nattempting link creation in repeater hardware\ncreating new photon\ncreating new qubit in global state\nGUI not on\nGUI not on\nGUI not on\nrepeater hardware receiving photon\nunloading data from photon onto local qubit\nGUI not on\nreceived link qubit in repeater hardware\ndestroying photon with id 10\ndestroying qubit 10 in global state\nGUI not on\nattempting link creation in repeater\nattempting link creation in repeater hardware\ncreating new photon\ncreating new qubit in global state\nGUI not on\nGUI not on\nGUI not on\nrepeater hardware receiving photon\nunloading data from photon onto local qubit\nGUI not on\nreceived link qubit in repeater hardware\ndestroying photon with id 10\ndestroying qubit 10 in global state\nGUI not on\nattempting link creation in endnode\nattempting link creation in endnode hardware.\ncreating new photon\ncreating new qubit in global state\nGUI not on\nGUI not on\nGUI not on\nrepeater hardware receiving photon\nunloading data from photon onto local qubit\nGUI not on\nreceived link qubit in repeater hardware\ndestroying photon with id 10\ndestroying qubit 10 in global state\nGUI not on\nattempting link creation in endnode\nattempting link creation in endnode hardware.\ncreating new photon\ncreating new qubit in global state\nGUI not on\nGUI not on\nGUI not on\nrepeater hardware receiving photon\nunloading data from photon onto local qubit\nGUI not on\nreceived link qubit in repeater hardware\ndestroying photon with id 10\ndestroying qubit 10 in global state\nGUI not on\nrepeater <_4_The_Link_Layer.repeater.Repeater object at 0x0000019F0EA7BC88> : Attempting swap.\nswapping entanglement in repeater hardware\nGUI not on\nmeasuring qubit in repeater hardware\nGUI not on\nmeasuring qubit in repeater hardware\nGUI not on\ndebug:  <_4_The_Link_Layer.endnode.Endnode object at 0x0000019F0EA60348> <_4_The_Link_Layer.repeater.Repeater object at 0x0000019F0EAC4448>\nrepeater <_4_The_Link_Layer.repeater.Repeater object at 0x0000019F0EA7BC88> : Swapping done.\napplying swap corrections in repeater hardware\nrepeater <_4_The_Link_Layer.repeater.Repeater object at 0x0000019F0EAC4448> : Attempting swap.\nswapping entanglement in repeater hardware\nGUI not on\nmeasuring qubit in repeater hardware\nGUI not on\nmeasuring qubit in repeater hardware\nGUI not on\ndebug:  <_4_The_Link_Layer.endnode.Endnode object at 0x0000019F0EA60348> <_4_The_Link_Layer.repeater.Repeater object at 0x0000019F0EA94EC8>\nrepeater <_4_The_Link_Layer.repeater.Repeater object at 0x0000019F0EAC4448> : Swapping done.\napplying swap corrections in repeater hardware\nGUI not on\nrepeater <_4_The_Link_Layer.repeater.Repeater object at 0x0000019F0EA94EC8> : Attempting swap.\nswapping entanglement in repeater hardware\nGUI not on\nmeasuring qubit in repeater hardware\nGUI not on\nmeasuring qubit in repeater hardware\nGUI not on\ndebug:  <_4_The_Link_Layer.endnode.Endnode object at 0x0000019F0EA60348> <_4_The_Link_Layer.endnode.Endnode object at 0x0000019F0EA58C88>\nteleporting qubit in endnode hardware.\nGUI not on\n"
    },
    {
     "output_type": "error",
     "ename": "TypeError",
     "evalue": "'Qubit' object is not subscriptable",
     "traceback": [
      "\u001b[1;31m---------------------------------------------------------------------------\u001b[0m",
      "\u001b[1;31mTypeError\u001b[0m                                 Traceback (most recent call last)",
      "\u001b[1;32m<ipython-input-67-8daf5271f859>\u001b[0m in \u001b[0;36m<module>\u001b[1;34m\u001b[0m\n\u001b[0;32m      4\u001b[0m \u001b[1;31m# a qubit. I am going to send you the |0> state.\u001b[0m\u001b[1;33m\u001b[0m\u001b[1;33m\u001b[0m\u001b[1;33m\u001b[0m\u001b[0m\n\u001b[0;32m      5\u001b[0m \u001b[0mBB84Alice\u001b[0m\u001b[1;33m.\u001b[0m\u001b[0mendnode\u001b[0m\u001b[1;33m.\u001b[0m\u001b[0mhardware\u001b[0m\u001b[1;33m.\u001b[0m\u001b[0mload_zero_on_memory_qubit\u001b[0m\u001b[1;33m(\u001b[0m\u001b[1;33m)\u001b[0m\u001b[1;33m\u001b[0m\u001b[1;33m\u001b[0m\u001b[0m\n\u001b[1;32m----> 6\u001b[1;33m \u001b[0mBB84Alice\u001b[0m\u001b[1;33m.\u001b[0m\u001b[0msend_qubit\u001b[0m\u001b[1;33m(\u001b[0m\u001b[1;34m\"Bob\"\u001b[0m\u001b[1;33m)\u001b[0m\u001b[1;33m\u001b[0m\u001b[1;33m\u001b[0m\u001b[0m\n\u001b[0m",
      "\u001b[1;32mc:\\Users\\basse\\Documents\\GitHub\\Quantum-Internet\\_1_The_Applications_Layer\\BB84.py\u001b[0m in \u001b[0;36msend_qubit\u001b[1;34m(self, remote_user)\u001b[0m\n\u001b[0;32m     16\u001b[0m \u001b[1;33m\u001b[0m\u001b[0m\n\u001b[0;32m     17\u001b[0m     \u001b[1;32mdef\u001b[0m \u001b[0msend_qubit\u001b[0m\u001b[1;33m(\u001b[0m\u001b[0mself\u001b[0m\u001b[1;33m,\u001b[0m \u001b[0mremote_user\u001b[0m\u001b[1;33m)\u001b[0m\u001b[1;33m:\u001b[0m\u001b[1;33m\u001b[0m\u001b[1;33m\u001b[0m\u001b[0m\n\u001b[1;32m---> 18\u001b[1;33m         \u001b[0msuper\u001b[0m\u001b[1;33m(\u001b[0m\u001b[1;33m)\u001b[0m\u001b[1;33m.\u001b[0m\u001b[0msend_qubit\u001b[0m\u001b[1;33m(\u001b[0m\u001b[0mremote_user\u001b[0m\u001b[1;33m)\u001b[0m\u001b[1;33m\u001b[0m\u001b[1;33m\u001b[0m\u001b[0m\n\u001b[0m\u001b[0;32m     19\u001b[0m \u001b[1;33m\u001b[0m\u001b[0m\n\u001b[0;32m     20\u001b[0m     \u001b[1;32mdef\u001b[0m \u001b[0mreceive_qubit\u001b[0m\u001b[1;33m(\u001b[0m\u001b[0mself\u001b[0m\u001b[1;33m,\u001b[0m \u001b[0mqubit\u001b[0m\u001b[1;33m)\u001b[0m\u001b[1;33m:\u001b[0m \u001b[1;31m# a state has been teleported onto a local qubit.\u001b[0m\u001b[1;33m\u001b[0m\u001b[1;33m\u001b[0m\u001b[0m\n",
      "\u001b[1;32mc:\\Users\\basse\\Documents\\GitHub\\Quantum-Internet\\_1_The_Applications_Layer\\application.py\u001b[0m in \u001b[0;36msend_qubit\u001b[1;34m(self, remote_user)\u001b[0m\n\u001b[0;32m     16\u001b[0m             \u001b[0mself\u001b[0m\u001b[1;33m.\u001b[0m\u001b[0mendnode\u001b[0m\u001b[1;33m.\u001b[0m\u001b[0msend_flag\u001b[0m \u001b[1;33m=\u001b[0m \u001b[1;32mTrue\u001b[0m\u001b[1;33m\u001b[0m\u001b[1;33m\u001b[0m\u001b[0m\n\u001b[0;32m     17\u001b[0m             \u001b[1;31m# self.quantum_internet.send_qubit(self.endnode.hardware.memory_qubit, self.username, remote_user)\u001b[0m\u001b[1;33m\u001b[0m\u001b[1;33m\u001b[0m\u001b[1;33m\u001b[0m\u001b[0m\n\u001b[1;32m---> 18\u001b[1;33m             \u001b[0mself\u001b[0m\u001b[1;33m.\u001b[0m\u001b[0mquantum_internet\u001b[0m\u001b[1;33m.\u001b[0m\u001b[0mrequest_link\u001b[0m\u001b[1;33m(\u001b[0m\u001b[0mself\u001b[0m\u001b[1;33m.\u001b[0m\u001b[0musername\u001b[0m\u001b[1;33m,\u001b[0m \u001b[0mremote_user\u001b[0m\u001b[1;33m)\u001b[0m \u001b[1;31m# the quantum internet will now make the link then notify the endnode to teleport.\u001b[0m\u001b[1;33m\u001b[0m\u001b[1;33m\u001b[0m\u001b[0m\n\u001b[0m\u001b[0;32m     19\u001b[0m         \u001b[1;32melse\u001b[0m\u001b[1;33m:\u001b[0m\u001b[1;33m\u001b[0m\u001b[1;33m\u001b[0m\u001b[0m\n\u001b[0;32m     20\u001b[0m             \u001b[0mprint\u001b[0m\u001b[1;33m(\u001b[0m\u001b[1;34m\"not connected to the quantum internet\"\u001b[0m\u001b[1;33m)\u001b[0m\u001b[1;33m\u001b[0m\u001b[1;33m\u001b[0m\u001b[0m\n",
      "\u001b[1;32mc:\\Users\\basse\\Documents\\GitHub\\Quantum-Internet\\_2_The_Transport_Layer\\quantum_internet.py\u001b[0m in \u001b[0;36mrequest_link\u001b[1;34m(self, sender_username, receiver_username)\u001b[0m\n\u001b[0;32m     46\u001b[0m         \u001b[0mendnode2\u001b[0m \u001b[1;33m=\u001b[0m \u001b[0mself\u001b[0m\u001b[1;33m.\u001b[0m\u001b[0muser_table\u001b[0m\u001b[1;33m[\u001b[0m\u001b[0mreceiver_username\u001b[0m\u001b[1;33m]\u001b[0m\u001b[1;33m.\u001b[0m\u001b[0mendnode\u001b[0m\u001b[1;33m\u001b[0m\u001b[1;33m\u001b[0m\u001b[0m\n\u001b[0;32m     47\u001b[0m         \u001b[1;31m# await network layer link creation\u001b[0m\u001b[1;33m\u001b[0m\u001b[1;33m\u001b[0m\u001b[1;33m\u001b[0m\u001b[0m\n\u001b[1;32m---> 48\u001b[1;33m         \u001b[0mself\u001b[0m\u001b[1;33m.\u001b[0m\u001b[0mrepeater_chain\u001b[0m\u001b[1;33m.\u001b[0m\u001b[0mrequest_link\u001b[0m\u001b[1;33m(\u001b[0m\u001b[0mendnode1\u001b[0m\u001b[1;33m,\u001b[0m \u001b[0mendnode2\u001b[0m\u001b[1;33m)\u001b[0m\u001b[1;33m\u001b[0m\u001b[1;33m\u001b[0m\u001b[0m\n\u001b[0m\u001b[0;32m     49\u001b[0m         \u001b[1;31m# after the link has been created repeater_chain (network layer)\u001b[0m\u001b[1;33m\u001b[0m\u001b[1;33m\u001b[0m\u001b[1;33m\u001b[0m\u001b[0m\n\u001b[0;32m     50\u001b[0m         \u001b[1;31m# should notify quantum_internet (transport layer), and then\u001b[0m\u001b[1;33m\u001b[0m\u001b[1;33m\u001b[0m\u001b[1;33m\u001b[0m\u001b[0m\n",
      "\u001b[1;32mc:\\Users\\basse\\Documents\\GitHub\\Quantum-Internet\\_3_The_Network_Layer\\repeater_chain.py\u001b[0m in \u001b[0;36mrequest_link\u001b[1;34m(self, endnode1, endnode2, minimum_fidelity)\u001b[0m\n\u001b[0;32m     57\u001b[0m                \u001b[1;34m'minimum_fidelity'\u001b[0m \u001b[1;33m:\u001b[0m \u001b[0mminimum_fidelity\u001b[0m\u001b[1;33m\u001b[0m\u001b[1;33m\u001b[0m\u001b[0m\n\u001b[0;32m     58\u001b[0m                }\n\u001b[1;32m---> 59\u001b[1;33m         \u001b[0mself\u001b[0m\u001b[1;33m.\u001b[0m\u001b[0msend_message\u001b[0m\u001b[1;33m(\u001b[0m\u001b[0mself\u001b[0m\u001b[1;33m.\u001b[0m\u001b[0mprotocol\u001b[0m\u001b[1;33m,\u001b[0m \u001b[0mmsg\u001b[0m\u001b[1;33m)\u001b[0m\u001b[1;33m\u001b[0m\u001b[1;33m\u001b[0m\u001b[0m\n\u001b[0m\u001b[0;32m     60\u001b[0m \u001b[1;33m\u001b[0m\u001b[0m\n\u001b[0;32m     61\u001b[0m     \u001b[1;31m# def handle_endnodes_linked(self, endnode1, endnode2):\u001b[0m\u001b[1;33m\u001b[0m\u001b[1;33m\u001b[0m\u001b[1;33m\u001b[0m\u001b[0m\n",
      "\u001b[1;32mc:\\Users\\basse\\Documents\\GitHub\\Quantum-Internet\\_3_The_Network_Layer\\repeater_chain.py\u001b[0m in \u001b[0;36msend_message\u001b[1;34m(self, obj, msg)\u001b[0m\n\u001b[0;32m     82\u001b[0m \u001b[1;33m\u001b[0m\u001b[0m\n\u001b[0;32m     83\u001b[0m     \u001b[1;32mdef\u001b[0m \u001b[0msend_message\u001b[0m\u001b[1;33m(\u001b[0m\u001b[0mself\u001b[0m\u001b[1;33m,\u001b[0m \u001b[0mobj\u001b[0m\u001b[1;33m,\u001b[0m \u001b[0mmsg\u001b[0m\u001b[1;33m)\u001b[0m\u001b[1;33m:\u001b[0m\u001b[1;33m\u001b[0m\u001b[1;33m\u001b[0m\u001b[0m\n\u001b[1;32m---> 84\u001b[1;33m         \u001b[0mobj\u001b[0m\u001b[1;33m.\u001b[0m\u001b[0mhandle_message\u001b[0m\u001b[1;33m(\u001b[0m\u001b[0mmsg\u001b[0m\u001b[1;33m)\u001b[0m\u001b[1;33m\u001b[0m\u001b[1;33m\u001b[0m\u001b[0m\n\u001b[0m\u001b[0;32m     85\u001b[0m \u001b[1;33m\u001b[0m\u001b[0m\n\u001b[0;32m     86\u001b[0m     \u001b[1;32mdef\u001b[0m \u001b[0mhandle_message\u001b[0m\u001b[1;33m(\u001b[0m\u001b[0mself\u001b[0m\u001b[1;33m,\u001b[0m \u001b[0mmsg\u001b[0m\u001b[1;33m)\u001b[0m\u001b[1;33m:\u001b[0m\u001b[1;33m\u001b[0m\u001b[1;33m\u001b[0m\u001b[0m\n",
      "\u001b[1;32mc:\\Users\\basse\\Documents\\GitHub\\Quantum-Internet\\_3_The_Network_Layer\\Protocols\\link_creation\\example_protocol_1.py\u001b[0m in \u001b[0;36mhandle_message\u001b[1;34m(self, msg)\u001b[0m\n\u001b[0;32m     13\u001b[0m     \u001b[1;32mdef\u001b[0m \u001b[0mhandle_message\u001b[0m\u001b[1;33m(\u001b[0m\u001b[0mself\u001b[0m\u001b[1;33m,\u001b[0m \u001b[0mmsg\u001b[0m\u001b[1;33m)\u001b[0m\u001b[1;33m:\u001b[0m\u001b[1;33m\u001b[0m\u001b[1;33m\u001b[0m\u001b[0m\n\u001b[0;32m     14\u001b[0m         \u001b[1;32mif\u001b[0m \u001b[0mmsg\u001b[0m\u001b[1;33m[\u001b[0m\u001b[1;34m'msg'\u001b[0m\u001b[1;33m]\u001b[0m \u001b[1;33m==\u001b[0m \u001b[1;34m\"network layer: Link request received.\"\u001b[0m\u001b[1;33m:\u001b[0m\u001b[1;33m\u001b[0m\u001b[1;33m\u001b[0m\u001b[0m\n\u001b[1;32m---> 15\u001b[1;33m             \u001b[0mself\u001b[0m\u001b[1;33m.\u001b[0m\u001b[0minitiate_link_creation\u001b[0m\u001b[1;33m(\u001b[0m\u001b[0mmsg\u001b[0m\u001b[1;33m[\u001b[0m\u001b[1;34m'endnode1'\u001b[0m\u001b[1;33m]\u001b[0m\u001b[1;33m,\u001b[0m \u001b[0mmsg\u001b[0m\u001b[1;33m[\u001b[0m\u001b[1;34m'endnode2'\u001b[0m\u001b[1;33m]\u001b[0m\u001b[1;33m,\u001b[0m \u001b[0mmsg\u001b[0m\u001b[1;33m[\u001b[0m\u001b[1;34m'minimum_fidelity'\u001b[0m\u001b[1;33m]\u001b[0m\u001b[1;33m)\u001b[0m\u001b[1;33m\u001b[0m\u001b[1;33m\u001b[0m\u001b[0m\n\u001b[0m\u001b[0;32m     16\u001b[0m \u001b[1;33m\u001b[0m\u001b[0m\n\u001b[0;32m     17\u001b[0m     \u001b[1;32mdef\u001b[0m \u001b[0minitiate_link_creation\u001b[0m\u001b[1;33m(\u001b[0m\u001b[0mself\u001b[0m\u001b[1;33m,\u001b[0m \u001b[0mendnode1\u001b[0m\u001b[1;33m,\u001b[0m \u001b[0mendnode2\u001b[0m\u001b[1;33m,\u001b[0m \u001b[0mminimum_fidelity\u001b[0m\u001b[1;33m=\u001b[0m\u001b[1;36m1\u001b[0m\u001b[1;33m)\u001b[0m\u001b[1;33m:\u001b[0m\u001b[1;33m\u001b[0m\u001b[1;33m\u001b[0m\u001b[0m\n",
      "\u001b[1;32mc:\\Users\\basse\\Documents\\GitHub\\Quantum-Internet\\_3_The_Network_Layer\\Protocols\\link_creation\\example_protocol_1.py\u001b[0m in \u001b[0;36minitiate_link_creation\u001b[1;34m(self, endnode1, endnode2, minimum_fidelity)\u001b[0m\n\u001b[0;32m     30\u001b[0m         \u001b[1;31m# Then we swap.\u001b[0m\u001b[1;33m\u001b[0m\u001b[1;33m\u001b[0m\u001b[1;33m\u001b[0m\u001b[0m\n\u001b[0;32m     31\u001b[0m         \u001b[1;32mfor\u001b[0m \u001b[0mi\u001b[0m \u001b[1;32min\u001b[0m \u001b[0mrange\u001b[0m\u001b[1;33m(\u001b[0m\u001b[0mlen\u001b[0m\u001b[1;33m(\u001b[0m\u001b[0mchain\u001b[0m\u001b[1;33m.\u001b[0m\u001b[0mrepeaters\u001b[0m\u001b[1;33m)\u001b[0m\u001b[1;33m)\u001b[0m\u001b[1;33m:\u001b[0m\u001b[1;33m\u001b[0m\u001b[1;33m\u001b[0m\u001b[0m\n\u001b[1;32m---> 32\u001b[1;33m             \u001b[0mchain\u001b[0m\u001b[1;33m.\u001b[0m\u001b[0mrepeaters\u001b[0m\u001b[1;33m[\u001b[0m\u001b[0mi\u001b[0m\u001b[1;33m]\u001b[0m\u001b[1;33m.\u001b[0m\u001b[0mattempt_swap\u001b[0m\u001b[1;33m(\u001b[0m\u001b[0mchain\u001b[0m\u001b[1;33m.\u001b[0m\u001b[0mrepeaters\u001b[0m\u001b[1;33m[\u001b[0m\u001b[0mi\u001b[0m\u001b[1;33m]\u001b[0m\u001b[1;33m.\u001b[0m\u001b[0mleft_link\u001b[0m\u001b[1;33m,\u001b[0m \u001b[0mchain\u001b[0m\u001b[1;33m.\u001b[0m\u001b[0mrepeaters\u001b[0m\u001b[1;33m[\u001b[0m\u001b[0mi\u001b[0m\u001b[1;33m]\u001b[0m\u001b[1;33m.\u001b[0m\u001b[0mright_link\u001b[0m\u001b[1;33m)\u001b[0m\u001b[1;33m\u001b[0m\u001b[1;33m\u001b[0m\u001b[0m\n\u001b[0m",
      "\u001b[1;32mc:\\Users\\basse\\Documents\\GitHub\\Quantum-Internet\\_4_The_Link_Layer\\repeater.py\u001b[0m in \u001b[0;36mattempt_swap\u001b[1;34m(self, left_link, right_link)\u001b[0m\n\u001b[0;32m     36\u001b[0m             \u001b[0mprint\u001b[0m\u001b[1;33m(\u001b[0m\u001b[1;34m\"repeater\"\u001b[0m\u001b[1;33m,\u001b[0m \u001b[0mself\u001b[0m \u001b[1;33m,\u001b[0m \u001b[1;34m\": Swap failed. Right link missing.\"\u001b[0m\u001b[1;33m)\u001b[0m\u001b[1;33m\u001b[0m\u001b[1;33m\u001b[0m\u001b[0m\n\u001b[0;32m     37\u001b[0m             \u001b[1;32mreturn\u001b[0m\u001b[1;33m\u001b[0m\u001b[1;33m\u001b[0m\u001b[0m\n\u001b[1;32m---> 38\u001b[1;33m         \u001b[0mself\u001b[0m\u001b[1;33m.\u001b[0m\u001b[0mhardware\u001b[0m\u001b[1;33m.\u001b[0m\u001b[0mswap_entanglement\u001b[0m\u001b[1;33m(\u001b[0m\u001b[1;33m)\u001b[0m\u001b[1;33m\u001b[0m\u001b[1;33m\u001b[0m\u001b[0m\n\u001b[0m\u001b[0;32m     39\u001b[0m \u001b[1;33m\u001b[0m\u001b[0m\n\u001b[0;32m     40\u001b[0m     \u001b[1;31m# attempt to create link with another node\u001b[0m\u001b[1;33m\u001b[0m\u001b[1;33m\u001b[0m\u001b[1;33m\u001b[0m\u001b[0m\n",
      "\u001b[1;32mc:\\Users\\basse\\Documents\\GitHub\\Quantum-Internet\\_5_The_Physical_Layer\\node_hardware\\repeater_hardware.py\u001b[0m in \u001b[0;36mswap_entanglement\u001b[1;34m(self)\u001b[0m\n\u001b[0;32m     58\u001b[0m                \u001b[1;34m'measurement_result1'\u001b[0m \u001b[1;33m:\u001b[0m \u001b[0mmeasurement_result1\u001b[0m\u001b[1;33m,\u001b[0m\u001b[1;33m\u001b[0m\u001b[1;33m\u001b[0m\u001b[0m\n\u001b[0;32m     59\u001b[0m                'measurement_result2' : measurement_result2}\n\u001b[1;32m---> 60\u001b[1;33m         \u001b[0mself\u001b[0m\u001b[1;33m.\u001b[0m\u001b[0msend_message\u001b[0m\u001b[1;33m(\u001b[0m\u001b[0mself\u001b[0m\u001b[1;33m.\u001b[0m\u001b[0mparent_repeater\u001b[0m\u001b[1;33m,\u001b[0m \u001b[0mmsg\u001b[0m\u001b[1;33m)\u001b[0m\u001b[1;33m\u001b[0m\u001b[1;33m\u001b[0m\u001b[0m\n\u001b[0m\u001b[0;32m     61\u001b[0m         \u001b[1;31m# Now the parent repeater should notify the remote repeater\u001b[0m\u001b[1;33m\u001b[0m\u001b[1;33m\u001b[0m\u001b[1;33m\u001b[0m\u001b[0m\n\u001b[0;32m     62\u001b[0m         \u001b[1;31m# that swapping is done and should give it the measurement results.\u001b[0m\u001b[1;33m\u001b[0m\u001b[1;33m\u001b[0m\u001b[1;33m\u001b[0m\u001b[0m\n",
      "\u001b[1;32mc:\\Users\\basse\\Documents\\GitHub\\Quantum-Internet\\_5_The_Physical_Layer\\node_hardware\\repeater_hardware.py\u001b[0m in \u001b[0;36msend_message\u001b[1;34m(self, obj, msg)\u001b[0m\n\u001b[0;32m     32\u001b[0m \u001b[1;33m\u001b[0m\u001b[0m\n\u001b[0;32m     33\u001b[0m     \u001b[1;32mdef\u001b[0m \u001b[0msend_message\u001b[0m\u001b[1;33m(\u001b[0m\u001b[0mself\u001b[0m\u001b[1;33m,\u001b[0m \u001b[0mobj\u001b[0m\u001b[1;33m,\u001b[0m \u001b[0mmsg\u001b[0m\u001b[1;33m)\u001b[0m\u001b[1;33m:\u001b[0m\u001b[1;33m\u001b[0m\u001b[1;33m\u001b[0m\u001b[0m\n\u001b[1;32m---> 34\u001b[1;33m         \u001b[0mobj\u001b[0m\u001b[1;33m.\u001b[0m\u001b[0mhandle_message\u001b[0m\u001b[1;33m(\u001b[0m\u001b[0mmsg\u001b[0m\u001b[1;33m)\u001b[0m\u001b[1;33m\u001b[0m\u001b[1;33m\u001b[0m\u001b[0m\n\u001b[0m\u001b[0;32m     35\u001b[0m \u001b[1;33m\u001b[0m\u001b[0m\n\u001b[0;32m     36\u001b[0m     \u001b[1;32mdef\u001b[0m \u001b[0mhandle_message\u001b[0m\u001b[1;33m(\u001b[0m\u001b[0mself\u001b[0m\u001b[1;33m,\u001b[0m \u001b[0mmsg\u001b[0m\u001b[1;33m)\u001b[0m\u001b[1;33m:\u001b[0m\u001b[1;33m\u001b[0m\u001b[1;33m\u001b[0m\u001b[0m\n",
      "\u001b[1;32mc:\\Users\\basse\\Documents\\GitHub\\Quantum-Internet\\_4_The_Link_Layer\\repeater.py\u001b[0m in \u001b[0;36mhandle_message\u001b[1;34m(self, msg)\u001b[0m\n\u001b[0;32m     89\u001b[0m         \u001b[1;32mif\u001b[0m \u001b[0mmsg\u001b[0m\u001b[1;33m[\u001b[0m\u001b[1;34m'msg'\u001b[0m\u001b[1;33m]\u001b[0m \u001b[1;33m==\u001b[0m \u001b[1;34m\"child hardware: Entanglement swapping done. Handle corrections.\"\u001b[0m\u001b[1;33m:\u001b[0m\u001b[1;33m\u001b[0m\u001b[1;33m\u001b[0m\u001b[0m\n\u001b[0;32m     90\u001b[0m             \u001b[1;31m# update connections table\u001b[0m\u001b[1;33m\u001b[0m\u001b[1;33m\u001b[0m\u001b[1;33m\u001b[0m\u001b[0m\n\u001b[1;32m---> 91\u001b[1;33m             \u001b[0mself\u001b[0m\u001b[1;33m.\u001b[0m\u001b[0mhandle_swap_success\u001b[0m\u001b[1;33m(\u001b[0m\u001b[1;33m)\u001b[0m \u001b[1;31m# you're still not handling corrections.\u001b[0m\u001b[1;33m\u001b[0m\u001b[1;33m\u001b[0m\u001b[0m\n\u001b[0m\u001b[0;32m     92\u001b[0m             \u001b[1;31m# retitle the message and forward it.\u001b[0m\u001b[1;33m\u001b[0m\u001b[1;33m\u001b[0m\u001b[1;33m\u001b[0m\u001b[0m\n\u001b[0;32m     93\u001b[0m             \u001b[1;31m# Note that the msg contains two measurement results.\u001b[0m\u001b[1;33m\u001b[0m\u001b[1;33m\u001b[0m\u001b[1;33m\u001b[0m\u001b[0m\n",
      "\u001b[1;32mc:\\Users\\basse\\Documents\\GitHub\\Quantum-Internet\\_4_The_Link_Layer\\repeater.py\u001b[0m in \u001b[0;36mhandle_swap_success\u001b[1;34m(self)\u001b[0m\n\u001b[0;32m    172\u001b[0m                \u001b[1;34m'node1'\u001b[0m\u001b[1;33m:\u001b[0m \u001b[0mself\u001b[0m\u001b[1;33m.\u001b[0m\u001b[0mleft_link\u001b[0m\u001b[1;33m.\u001b[0m\u001b[0mnode1\u001b[0m \u001b[1;32mif\u001b[0m \u001b[0mself\u001b[0m \u001b[1;33m==\u001b[0m \u001b[0mself\u001b[0m\u001b[1;33m.\u001b[0m\u001b[0mleft_link\u001b[0m\u001b[1;33m.\u001b[0m\u001b[0mnode2\u001b[0m \u001b[1;32melse\u001b[0m \u001b[0mself\u001b[0m\u001b[1;33m.\u001b[0m\u001b[0mleft_link\u001b[0m\u001b[1;33m.\u001b[0m\u001b[0mnode2\u001b[0m\u001b[1;33m,\u001b[0m\u001b[1;33m\u001b[0m\u001b[1;33m\u001b[0m\u001b[0m\n\u001b[0;32m    173\u001b[0m                'node2': self.right_link.node1 if self == self.right_link.node2 else self.right_link.node2}\n\u001b[1;32m--> 174\u001b[1;33m         \u001b[0mself\u001b[0m\u001b[1;33m.\u001b[0m\u001b[0msend_message\u001b[0m\u001b[1;33m(\u001b[0m\u001b[0mself\u001b[0m\u001b[1;33m.\u001b[0m\u001b[0mparent_repeater_chain\u001b[0m\u001b[1;33m,\u001b[0m \u001b[0mmsg\u001b[0m\u001b[1;33m)\u001b[0m\u001b[1;33m\u001b[0m\u001b[1;33m\u001b[0m\u001b[0m\n\u001b[0m\u001b[0;32m    175\u001b[0m         \u001b[1;31m# destroy links involved in swap\u001b[0m\u001b[1;33m\u001b[0m\u001b[1;33m\u001b[0m\u001b[1;33m\u001b[0m\u001b[0m\n\u001b[0;32m    176\u001b[0m         \u001b[0mself\u001b[0m\u001b[1;33m.\u001b[0m\u001b[0mleft_link\u001b[0m \u001b[1;33m=\u001b[0m \u001b[1;32mNone\u001b[0m\u001b[1;33m\u001b[0m\u001b[1;33m\u001b[0m\u001b[0m\n",
      "\u001b[1;32mc:\\Users\\basse\\Documents\\GitHub\\Quantum-Internet\\_4_The_Link_Layer\\repeater.py\u001b[0m in \u001b[0;36msend_message\u001b[1;34m(self, obj, msg)\u001b[0m\n\u001b[0;32m     83\u001b[0m     \u001b[1;31m# of software running on the repeater).\u001b[0m\u001b[1;33m\u001b[0m\u001b[1;33m\u001b[0m\u001b[1;33m\u001b[0m\u001b[0m\n\u001b[0;32m     84\u001b[0m     \u001b[1;32mdef\u001b[0m \u001b[0msend_message\u001b[0m\u001b[1;33m(\u001b[0m\u001b[0mself\u001b[0m\u001b[1;33m,\u001b[0m \u001b[0mobj\u001b[0m\u001b[1;33m,\u001b[0m \u001b[0mmsg\u001b[0m\u001b[1;33m)\u001b[0m\u001b[1;33m:\u001b[0m\u001b[1;33m\u001b[0m\u001b[1;33m\u001b[0m\u001b[0m\n\u001b[1;32m---> 85\u001b[1;33m         \u001b[0mobj\u001b[0m\u001b[1;33m.\u001b[0m\u001b[0mhandle_message\u001b[0m\u001b[1;33m(\u001b[0m\u001b[0mmsg\u001b[0m\u001b[1;33m)\u001b[0m\u001b[1;33m\u001b[0m\u001b[1;33m\u001b[0m\u001b[0m\n\u001b[0m\u001b[0;32m     86\u001b[0m \u001b[1;33m\u001b[0m\u001b[0m\n\u001b[0;32m     87\u001b[0m     \u001b[1;31m# this function receives an emitted signal\u001b[0m\u001b[1;33m\u001b[0m\u001b[1;33m\u001b[0m\u001b[1;33m\u001b[0m\u001b[0m\n",
      "\u001b[1;32mc:\\Users\\basse\\Documents\\GitHub\\Quantum-Internet\\_3_The_Network_Layer\\repeater_chain.py\u001b[0m in \u001b[0;36mhandle_message\u001b[1;34m(self, msg)\u001b[0m\n\u001b[0;32m     90\u001b[0m                        \u001b[1;34m'endnode1'\u001b[0m\u001b[1;33m:\u001b[0m \u001b[0mmsg\u001b[0m\u001b[1;33m[\u001b[0m\u001b[1;34m'node1'\u001b[0m\u001b[1;33m]\u001b[0m\u001b[1;33m,\u001b[0m\u001b[1;33m\u001b[0m\u001b[1;33m\u001b[0m\u001b[0m\n\u001b[0;32m     91\u001b[0m                        'endnode2': msg['node2']}\n\u001b[1;32m---> 92\u001b[1;33m                 \u001b[0mself\u001b[0m\u001b[1;33m.\u001b[0m\u001b[0msend_message\u001b[0m\u001b[1;33m(\u001b[0m\u001b[0mself\u001b[0m\u001b[1;33m.\u001b[0m\u001b[0mparent_quantum_internet\u001b[0m\u001b[1;33m,\u001b[0m \u001b[0mmsg\u001b[0m\u001b[1;33m)\u001b[0m\u001b[1;33m\u001b[0m\u001b[1;33m\u001b[0m\u001b[0m\n\u001b[0m",
      "\u001b[1;32mc:\\Users\\basse\\Documents\\GitHub\\Quantum-Internet\\_3_The_Network_Layer\\repeater_chain.py\u001b[0m in \u001b[0;36msend_message\u001b[1;34m(self, obj, msg)\u001b[0m\n\u001b[0;32m     82\u001b[0m \u001b[1;33m\u001b[0m\u001b[0m\n\u001b[0;32m     83\u001b[0m     \u001b[1;32mdef\u001b[0m \u001b[0msend_message\u001b[0m\u001b[1;33m(\u001b[0m\u001b[0mself\u001b[0m\u001b[1;33m,\u001b[0m \u001b[0mobj\u001b[0m\u001b[1;33m,\u001b[0m \u001b[0mmsg\u001b[0m\u001b[1;33m)\u001b[0m\u001b[1;33m:\u001b[0m\u001b[1;33m\u001b[0m\u001b[1;33m\u001b[0m\u001b[0m\n\u001b[1;32m---> 84\u001b[1;33m         \u001b[0mobj\u001b[0m\u001b[1;33m.\u001b[0m\u001b[0mhandle_message\u001b[0m\u001b[1;33m(\u001b[0m\u001b[0mmsg\u001b[0m\u001b[1;33m)\u001b[0m\u001b[1;33m\u001b[0m\u001b[1;33m\u001b[0m\u001b[0m\n\u001b[0m\u001b[0;32m     85\u001b[0m \u001b[1;33m\u001b[0m\u001b[0m\n\u001b[0;32m     86\u001b[0m     \u001b[1;32mdef\u001b[0m \u001b[0mhandle_message\u001b[0m\u001b[1;33m(\u001b[0m\u001b[0mself\u001b[0m\u001b[1;33m,\u001b[0m \u001b[0mmsg\u001b[0m\u001b[1;33m)\u001b[0m\u001b[1;33m:\u001b[0m\u001b[1;33m\u001b[0m\u001b[1;33m\u001b[0m\u001b[0m\n",
      "\u001b[1;32mc:\\Users\\basse\\Documents\\GitHub\\Quantum-Internet\\_2_The_Transport_Layer\\quantum_internet.py\u001b[0m in \u001b[0;36mhandle_message\u001b[1;34m(self, msg)\u001b[0m\n\u001b[0;32m     64\u001b[0m             \u001b[1;31m# self.transport_qubit(qubit, msg['endnode1'], msg['endnode1'])\u001b[0m\u001b[1;33m\u001b[0m\u001b[1;33m\u001b[0m\u001b[1;33m\u001b[0m\u001b[0m\n\u001b[0;32m     65\u001b[0m             \u001b[0mmsg\u001b[0m\u001b[1;33m[\u001b[0m\u001b[1;34m'msg'\u001b[0m\u001b[1;33m]\u001b[0m \u001b[1;33m=\u001b[0m \u001b[1;34m\"quantum internet: Link to remote user created.\"\u001b[0m\u001b[1;33m\u001b[0m\u001b[1;33m\u001b[0m\u001b[0m\n\u001b[1;32m---> 66\u001b[1;33m             \u001b[0mself\u001b[0m\u001b[1;33m.\u001b[0m\u001b[0msend_message\u001b[0m\u001b[1;33m(\u001b[0m\u001b[0mmsg\u001b[0m\u001b[1;33m[\u001b[0m\u001b[1;34m'endnode1'\u001b[0m\u001b[1;33m]\u001b[0m\u001b[1;33m,\u001b[0m \u001b[0mmsg\u001b[0m\u001b[1;33m)\u001b[0m\u001b[1;33m\u001b[0m\u001b[1;33m\u001b[0m\u001b[0m\n\u001b[0m\u001b[0;32m     67\u001b[0m             \u001b[0mself\u001b[0m\u001b[1;33m.\u001b[0m\u001b[0msend_message\u001b[0m\u001b[1;33m(\u001b[0m\u001b[0mmsg\u001b[0m\u001b[1;33m[\u001b[0m\u001b[1;34m'endnode2'\u001b[0m\u001b[1;33m]\u001b[0m\u001b[1;33m,\u001b[0m \u001b[0mmsg\u001b[0m\u001b[1;33m)\u001b[0m\u001b[1;33m\u001b[0m\u001b[1;33m\u001b[0m\u001b[0m\n\u001b[0;32m     68\u001b[0m         \u001b[1;32melif\u001b[0m \u001b[0mmsg\u001b[0m\u001b[1;33m[\u001b[0m\u001b[1;34m'msg'\u001b[0m\u001b[1;33m]\u001b[0m \u001b[1;33m==\u001b[0m \u001b[1;34m\"endnode: Teleport done. Handle corrections.\"\u001b[0m\u001b[1;33m:\u001b[0m\u001b[1;33m\u001b[0m\u001b[1;33m\u001b[0m\u001b[0m\n",
      "\u001b[1;32mc:\\Users\\basse\\Documents\\GitHub\\Quantum-Internet\\_2_The_Transport_Layer\\quantum_internet.py\u001b[0m in \u001b[0;36msend_message\u001b[1;34m(self, obj, msg)\u001b[0m\n\u001b[0;32m     55\u001b[0m \u001b[1;33m\u001b[0m\u001b[0m\n\u001b[0;32m     56\u001b[0m     \u001b[1;32mdef\u001b[0m \u001b[0msend_message\u001b[0m\u001b[1;33m(\u001b[0m\u001b[0mself\u001b[0m\u001b[1;33m,\u001b[0m \u001b[0mobj\u001b[0m\u001b[1;33m,\u001b[0m \u001b[0mmsg\u001b[0m\u001b[1;33m)\u001b[0m\u001b[1;33m:\u001b[0m\u001b[1;33m\u001b[0m\u001b[1;33m\u001b[0m\u001b[0m\n\u001b[1;32m---> 57\u001b[1;33m         \u001b[0mobj\u001b[0m\u001b[1;33m.\u001b[0m\u001b[0mhandle_message\u001b[0m\u001b[1;33m(\u001b[0m\u001b[0mmsg\u001b[0m\u001b[1;33m)\u001b[0m\u001b[1;33m\u001b[0m\u001b[1;33m\u001b[0m\u001b[0m\n\u001b[0m\u001b[0;32m     58\u001b[0m \u001b[1;33m\u001b[0m\u001b[0m\n\u001b[0;32m     59\u001b[0m     \u001b[1;32mdef\u001b[0m \u001b[0mhandle_message\u001b[0m\u001b[1;33m(\u001b[0m\u001b[0mself\u001b[0m\u001b[1;33m,\u001b[0m \u001b[0mmsg\u001b[0m\u001b[1;33m)\u001b[0m\u001b[1;33m:\u001b[0m\u001b[1;33m\u001b[0m\u001b[1;33m\u001b[0m\u001b[0m\n",
      "\u001b[1;32mc:\\Users\\basse\\Documents\\GitHub\\Quantum-Internet\\_4_The_Link_Layer\\endnode.py\u001b[0m in \u001b[0;36mhandle_message\u001b[1;34m(self, msg)\u001b[0m\n\u001b[0;32m     56\u001b[0m         \u001b[1;32mif\u001b[0m \u001b[0mmsg\u001b[0m\u001b[1;33m[\u001b[0m\u001b[1;34m'msg'\u001b[0m\u001b[1;33m]\u001b[0m \u001b[1;33m==\u001b[0m \u001b[1;34m\"quantum internet: Link to remote user created.\"\u001b[0m\u001b[1;33m:\u001b[0m\u001b[1;33m\u001b[0m\u001b[1;33m\u001b[0m\u001b[0m\n\u001b[0;32m     57\u001b[0m             \u001b[1;32mif\u001b[0m \u001b[0mself\u001b[0m\u001b[1;33m.\u001b[0m\u001b[0msend_flag\u001b[0m\u001b[1;33m:\u001b[0m\u001b[1;33m\u001b[0m\u001b[1;33m\u001b[0m\u001b[0m\n\u001b[1;32m---> 58\u001b[1;33m                 \u001b[0mself\u001b[0m\u001b[1;33m.\u001b[0m\u001b[0mteleport_qubit\u001b[0m\u001b[1;33m(\u001b[0m\u001b[1;33m)\u001b[0m\u001b[1;33m\u001b[0m\u001b[1;33m\u001b[0m\u001b[0m\n\u001b[0m\u001b[0;32m     59\u001b[0m                 \u001b[0mself\u001b[0m\u001b[1;33m.\u001b[0m\u001b[0msend_flag\u001b[0m \u001b[1;33m=\u001b[0m \u001b[1;32mFalse\u001b[0m\u001b[1;33m\u001b[0m\u001b[1;33m\u001b[0m\u001b[0m\n\u001b[0;32m     60\u001b[0m         \u001b[1;32melif\u001b[0m \u001b[0mmsg\u001b[0m\u001b[1;33m[\u001b[0m\u001b[1;34m'msg'\u001b[0m\u001b[1;33m]\u001b[0m \u001b[1;33m==\u001b[0m \u001b[1;34m\"child hardware: Teleport done. Handle corrections.\"\u001b[0m\u001b[1;33m:\u001b[0m\u001b[1;33m\u001b[0m\u001b[1;33m\u001b[0m\u001b[0m\n",
      "\u001b[1;32mc:\\Users\\basse\\Documents\\GitHub\\Quantum-Internet\\_4_The_Link_Layer\\endnode.py\u001b[0m in \u001b[0;36mteleport_qubit\u001b[1;34m(self)\u001b[0m\n\u001b[0;32m     22\u001b[0m \u001b[1;33m\u001b[0m\u001b[0m\n\u001b[0;32m     23\u001b[0m     \u001b[1;32mdef\u001b[0m \u001b[0mteleport_qubit\u001b[0m\u001b[1;33m(\u001b[0m\u001b[0mself\u001b[0m\u001b[1;33m)\u001b[0m\u001b[1;33m:\u001b[0m\u001b[1;33m\u001b[0m\u001b[1;33m\u001b[0m\u001b[0m\n\u001b[1;32m---> 24\u001b[1;33m         \u001b[0mself\u001b[0m\u001b[1;33m.\u001b[0m\u001b[0mhardware\u001b[0m\u001b[1;33m.\u001b[0m\u001b[0mteleport_qubit\u001b[0m\u001b[1;33m(\u001b[0m\u001b[1;33m)\u001b[0m\u001b[1;33m\u001b[0m\u001b[1;33m\u001b[0m\u001b[0m\n\u001b[0m\u001b[0;32m     25\u001b[0m \u001b[1;33m\u001b[0m\u001b[0m\n\u001b[0;32m     26\u001b[0m     \u001b[1;31m# attempt to create link with another repeater\u001b[0m\u001b[1;33m\u001b[0m\u001b[1;33m\u001b[0m\u001b[1;33m\u001b[0m\u001b[0m\n",
      "\u001b[1;32mc:\\Users\\basse\\Documents\\GitHub\\Quantum-Internet\\_5_The_Physical_Layer\\node_hardware\\endnode_hardware.py\u001b[0m in \u001b[0;36mteleport_qubit\u001b[1;34m(self)\u001b[0m\n\u001b[0;32m     35\u001b[0m         \u001b[0mnew_state\u001b[0m \u001b[1;33m=\u001b[0m \u001b[0mH\u001b[0m \u001b[1;33m*\u001b[0m \u001b[0mnew_state\u001b[0m \u001b[1;33m*\u001b[0m \u001b[0mH\u001b[0m\u001b[1;33m.\u001b[0m\u001b[0mdag\u001b[0m\u001b[1;33m(\u001b[0m\u001b[1;33m)\u001b[0m\u001b[1;33m\u001b[0m\u001b[1;33m\u001b[0m\u001b[0m\n\u001b[0;32m     36\u001b[0m         \u001b[0mself\u001b[0m\u001b[1;33m.\u001b[0m\u001b[0mglobal_state\u001b[0m\u001b[1;33m.\u001b[0m\u001b[0mupdate_state\u001b[0m\u001b[1;33m(\u001b[0m\u001b[0mnew_state\u001b[0m\u001b[1;33m)\u001b[0m\u001b[1;33m\u001b[0m\u001b[1;33m\u001b[0m\u001b[0m\n\u001b[1;32m---> 37\u001b[1;33m         \u001b[0mmeasurement_result1\u001b[0m \u001b[1;33m=\u001b[0m \u001b[0mself\u001b[0m\u001b[1;33m.\u001b[0m\u001b[0mmeasure\u001b[0m\u001b[1;33m(\u001b[0m\u001b[0mself\u001b[0m\u001b[1;33m.\u001b[0m\u001b[0mmemory_qubit\u001b[0m\u001b[1;33m[\u001b[0m\u001b[1;36m0\u001b[0m\u001b[1;33m]\u001b[0m\u001b[1;33m)\u001b[0m\u001b[1;33m\u001b[0m\u001b[1;33m\u001b[0m\u001b[0m\n\u001b[0m\u001b[0;32m     38\u001b[0m         \u001b[0mmeasurement_result2\u001b[0m \u001b[1;33m=\u001b[0m \u001b[0mself\u001b[0m\u001b[1;33m.\u001b[0m\u001b[0mmeasure\u001b[0m\u001b[1;33m(\u001b[0m\u001b[0mself\u001b[0m\u001b[1;33m.\u001b[0m\u001b[0mqubit\u001b[0m\u001b[1;33m)\u001b[0m\u001b[1;33m\u001b[0m\u001b[1;33m\u001b[0m\u001b[0m\n\u001b[0;32m     39\u001b[0m         \u001b[1;31m# notify the parent repeater so that it can send the classical data to\u001b[0m\u001b[1;33m\u001b[0m\u001b[1;33m\u001b[0m\u001b[1;33m\u001b[0m\u001b[0m\n",
      "\u001b[1;31mTypeError\u001b[0m: 'Qubit' object is not subscriptable"
     ]
    }
   ],
   "source": [
    "# * Alice and Bob on the phone *\n",
    "# Alice: looks like everything's connected. Let's\n",
    "# start with a little test. Let me try to send you \n",
    "# a qubit. I am going to send you the |0> state.\n",
    "BB84Alice.endnode.hardware.load_zero_on_memory_qubit()\n",
    "BB84Alice.send_qubit(\"Bob\")"
   ]
  },
  {
   "cell_type": "code",
   "execution_count": 63,
   "metadata": {
    "tags": []
   },
   "outputs": [],
   "source": [
    "qInternet.repeater_chain.repeaters[1].left_link.node1"
   ]
  },
  {
   "cell_type": "code",
   "execution_count": 52,
   "metadata": {},
   "outputs": [
    {
     "output_type": "execute_result",
     "data": {
      "text/plain": "<_4_The_Link_Layer.link.Link at 0x19f0be86408>"
     },
     "metadata": {},
     "execution_count": 52
    }
   ],
   "source": [
    "qInternet.repeater_chain.repeaters[2].right_link"
   ]
  },
  {
   "cell_type": "code",
   "execution_count": 53,
   "metadata": {},
   "outputs": [
    {
     "output_type": "execute_result",
     "data": {
      "text/plain": "<_4_The_Link_Layer.link.Link at 0x19f0bf86788>"
     },
     "metadata": {},
     "execution_count": 53
    }
   ],
   "source": [
    "BB84Alice.endnode.link"
   ]
  },
  {
   "cell_type": "code",
   "execution_count": 54,
   "metadata": {},
   "outputs": [
    {
     "output_type": "execute_result",
     "data": {
      "text/plain": "<_4_The_Link_Layer.link.Link at 0x19f0be86408>"
     },
     "metadata": {},
     "execution_count": 54
    }
   ],
   "source": [
    "BB84Bob.endnode.link"
   ]
  },
  {
   "cell_type": "code",
   "execution_count": 7,
   "metadata": {},
   "outputs": [
    {
     "output_type": "error",
     "ename": "NameError",
     "evalue": "name 'prekey_bits' is not defined",
     "traceback": [
      "\u001b[1;31m---------------------------------------------------------------------------\u001b[0m",
      "\u001b[1;31mNameError\u001b[0m                                 Traceback (most recent call last)",
      "\u001b[1;32m<ipython-input-7-6efcee4cb680>\u001b[0m in \u001b[0;36m<module>\u001b[1;34m\u001b[0m\n\u001b[0;32m      2\u001b[0m \u001b[1;31m# Bob: I am ready, as well.\u001b[0m\u001b[1;33m\u001b[0m\u001b[1;33m\u001b[0m\u001b[1;33m\u001b[0m\u001b[0m\n\u001b[0;32m      3\u001b[0m \u001b[1;31m# Alice: I am going to initiate the key exchange ... now!\u001b[0m\u001b[1;33m\u001b[0m\u001b[1;33m\u001b[0m\u001b[1;33m\u001b[0m\u001b[0m\n\u001b[1;32m----> 4\u001b[1;33m \u001b[0mBB84Alice\u001b[0m\u001b[1;33m.\u001b[0m\u001b[0minitiate_key_exchange\u001b[0m\u001b[1;33m(\u001b[0m\u001b[1;34m\"Bob\"\u001b[0m\u001b[1;33m)\u001b[0m\u001b[1;33m\u001b[0m\u001b[1;33m\u001b[0m\u001b[0m\n\u001b[0m",
      "\u001b[1;32mc:\\Users\\basse\\Documents\\GitHub\\Quantum-Internet\\_1_The_Applications_Layer\\BB84.py\u001b[0m in \u001b[0;36minitiate_key_exchange\u001b[1;34m(self, remote_user, n)\u001b[0m\n\u001b[0;32m     45\u001b[0m         \u001b[0mself\u001b[0m\u001b[1;33m.\u001b[0m\u001b[0mbasis_bits\u001b[0m \u001b[1;33m=\u001b[0m \u001b[0mself\u001b[0m\u001b[1;33m.\u001b[0m\u001b[0mrandomBits\u001b[0m\u001b[1;33m(\u001b[0m\u001b[0mn\u001b[0m\u001b[1;33m)\u001b[0m\u001b[1;33m\u001b[0m\u001b[1;33m\u001b[0m\u001b[0m\n\u001b[0;32m     46\u001b[0m         \u001b[0mself\u001b[0m\u001b[1;33m.\u001b[0m\u001b[0mprekey_bits\u001b[0m \u001b[1;33m=\u001b[0m \u001b[0mself\u001b[0m\u001b[1;33m.\u001b[0m\u001b[0mrandomBits\u001b[0m\u001b[1;33m(\u001b[0m\u001b[0mn\u001b[0m\u001b[1;33m)\u001b[0m\u001b[1;33m\u001b[0m\u001b[1;33m\u001b[0m\u001b[0m\n\u001b[1;32m---> 47\u001b[1;33m         \u001b[1;32mfor\u001b[0m \u001b[1;33m(\u001b[0m\u001b[0mprekey\u001b[0m\u001b[1;33m,\u001b[0m\u001b[0mbasis\u001b[0m\u001b[1;33m)\u001b[0m \u001b[1;32min\u001b[0m \u001b[0mzip\u001b[0m\u001b[1;33m(\u001b[0m\u001b[0mprekey_bits\u001b[0m\u001b[1;33m,\u001b[0m\u001b[0mbasis_bits\u001b[0m\u001b[1;33m)\u001b[0m\u001b[1;33m:\u001b[0m\u001b[1;33m\u001b[0m\u001b[1;33m\u001b[0m\u001b[0m\n\u001b[0m\u001b[0;32m     48\u001b[0m             \u001b[1;32mif\u001b[0m \u001b[0mbasis\u001b[0m \u001b[1;33m==\u001b[0m \u001b[1;36m0\u001b[0m\u001b[1;33m:\u001b[0m\u001b[1;33m\u001b[0m\u001b[1;33m\u001b[0m\u001b[0m\n\u001b[0;32m     49\u001b[0m                 \u001b[0mself\u001b[0m\u001b[1;33m.\u001b[0m\u001b[0msend_qubit\u001b[0m\u001b[1;33m(\u001b[0m\u001b[0mbasis\u001b[0m\u001b[1;33m(\u001b[0m\u001b[1;36m2\u001b[0m\u001b[1;33m,\u001b[0m\u001b[0mprekey\u001b[0m\u001b[1;33m)\u001b[0m\u001b[1;33m,\u001b[0m \u001b[0mremote_user\u001b[0m\u001b[1;33m)\u001b[0m\u001b[1;33m\u001b[0m\u001b[1;33m\u001b[0m\u001b[0m\n",
      "\u001b[1;31mNameError\u001b[0m: name 'prekey_bits' is not defined"
     ]
    }
   ],
   "source": [
    "# Alice: Ok, ready!\n",
    "# Bob: I am ready, as well.\n",
    "# Alice: I am going to initiate the key exchange ... now!\n",
    "BB84Alice.initiate_key_exchange(\"Bob\")"
   ]
  }
 ],
 "metadata": {
  "kernelspec": {
   "display_name": "Python 3.7.6 64-bit ('base': conda)",
   "language": "python",
   "name": "python_defaultSpec_1597697023660"
  },
  "language_info": {
   "codemirror_mode": {
    "name": "ipython",
    "version": 3
   },
   "file_extension": ".py",
   "mimetype": "text/x-python",
   "name": "python",
   "nbconvert_exporter": "python",
   "pygments_lexer": "ipython3",
   "version": "3.7.6-final"
  }
 },
 "nbformat": 4,
 "nbformat_minor": 2
}