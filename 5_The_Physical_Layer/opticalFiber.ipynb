{
 "cells": [
  {
   "cell_type": "markdown",
   "metadata": {},
   "source": [
    "Optical fibers are used to transmit photons around, e.g., between repeaters.\n",
    "\n",
    "Physically, a photon passing through an optical fiber can be modelled by a quantum channel acting on the state of the qubit.\n",
    "\n",
    "The optical fiber is used in this scenario: repeater 1 wants to share entanglement with repeater 2. So repeater 1 prepares an EPR pair locally, then sends one half of the pair to repeater 2 through the quantum channel that models the passage of a photon through the fiber. The channel is applied to the qubit (in the global state container) in the function `carryQubit` below. For now we model the photon transmission by an identity map for simplicity until the simualtor is built up a bit."
   ]
  },
  {
   "cell_type": "code",
   "execution_count": 1,
   "metadata": {},
   "outputs": [
    {
     "name": "stdout",
     "output_type": "stream",
     "text": [
      "Writing opticalFiber.py\n"
     ]
    }
   ],
   "source": [
    "%%writefile opticalFiber.py\n",
    "\n",
    "class opticalFiber(object):\n",
    "    def __init__(node1, node2, length=1):\n",
    "        # The length of the fiber.\n",
    "        self.length = length\n",
    "        # The two nodes at the two ends of the fiber.\n",
    "        # A node can be a repeaterHardware, an end node, a heralding station, \n",
    "        # etc. For now it's a repeaterHardware object for simplicity.\n",
    "        self.node1 = node1\n",
    "        self.node2 = node2\n",
    "        \n",
    "        global globalState\n",
    "        self.globalState = globalState\n",
    "        \n",
    "    \n",
    "    def carryPhoton(photon, sender, receiver):  # Here there will be a quantum channel applied to the state\n",
    "        # apply channel here\n",
    "        # for now make it the identity channel\n",
    "        gate = tensor([identity(2) for _ in range(globalState.N)])\n",
    "        newState = gate * self.globalState.state * gate.dag()  # for now the map is a identity unitary gate\n",
    "        self.globalState.updateState(newState)\n",
    "        # send output state to the receiver\n",
    "        receiver.receivePhoton()\n",
    "        "
   ]
  },
  {
   "cell_type": "code",
   "execution_count": null,
   "metadata": {},
   "outputs": [],
   "source": []
  }
 ],
 "metadata": {
  "kernelspec": {
   "display_name": "Python 3",
   "language": "python",
   "name": "python3"
  },
  "language_info": {
   "codemirror_mode": {
    "name": "ipython",
    "version": 3
   },
   "file_extension": ".py",
   "mimetype": "text/x-python",
   "name": "python",
   "nbconvert_exporter": "python",
   "pygments_lexer": "ipython3",
   "version": "3.7.6"
  }
 },
 "nbformat": 4,
 "nbformat_minor": 2
}
