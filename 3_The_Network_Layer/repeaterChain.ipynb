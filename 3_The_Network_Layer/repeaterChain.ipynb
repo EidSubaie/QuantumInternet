{
 "cells": [
  {
   "cell_type": "markdown",
   "metadata": {},
   "source": [
    "The network layer can ask specific repeaters to swap, because it's the first layer that has information about the entire network.\n",
    "\n",
    "The network layer can also ask repeaters to create links with a given minimum fidelity."
   ]
  },
  {
   "cell_type": "code",
   "execution_count": 1,
   "metadata": {},
   "outputs": [
    {
     "name": "stdout",
     "output_type": "stream",
     "text": [
      "Writing repeaterChain.py\n"
     ]
    }
   ],
   "source": [
    "%%writefile repeaterChain.py\n",
    "%load_ext autoreload\n",
    "%autoreload 2\n",
    "\n",
    "from ../4_The_Link_Layer import repeater\n",
    "\n",
    "class repeaterChain(object):\n",
    "    def __init__(length):\n",
    "        self.repeaters = [new repeater() for _ in range(length)]\n",
    "    \n",
    "    def attemptSwap(self, repeater):\n",
    "        #ask repeater to do a swap\n",
    "        repeater.attemptSwap(#specify the links to swap#)\n",
    "    \n",
    "    def attemptLinkCreation(self, repeater1, repeater2):\n",
    "        repeater1.attemptLinkCreation(repeater2)"
   ]
  }
 ],
 "metadata": {
  "kernelspec": {
   "display_name": "Python 3",
   "language": "python",
   "name": "python3"
  },
  "language_info": {
   "codemirror_mode": {
    "name": "ipython",
    "version": 3
   },
   "file_extension": ".py",
   "mimetype": "text/x-python",
   "name": "python",
   "nbconvert_exporter": "python",
   "pygments_lexer": "ipython3",
   "version": "3.7.4"
  }
 },
 "nbformat": 4,
 "nbformat_minor": 2
}
