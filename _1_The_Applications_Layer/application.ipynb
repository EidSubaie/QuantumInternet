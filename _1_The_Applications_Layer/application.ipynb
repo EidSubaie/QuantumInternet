{
 "cells": [
  {
   "cell_type": "markdown",
   "metadata": {},
   "source": [
    "An application has access to a quantum internet object.\n",
    "\n",
    "The application can ask the quantum internet for a link with a given user with given specs, like fidelity."
   ]
  },
  {
   "cell_type": "code",
   "execution_count": 1,
   "metadata": {},
   "outputs": [],
   "source": [
    "%load_ext autoreload\n",
    "%autoreload 2"
   ]
  },
  {
   "cell_type": "code",
   "execution_count": 1,
   "metadata": {},
   "outputs": [
    {
     "name": "stdout",
     "output_type": "stream",
     "text": [
      "Overwriting application.py\n"
     ]
    }
   ],
   "source": [
    "%%writefile application.py\n",
    "\n",
    "class Application(object): # this code runs on the user's PQC (personal quantum computer)\n",
    "    def __init__(self, username = None):\n",
    "        print(\"creating new application\")\n",
    "        self.quantum_internet = None\n",
    "        this.username = username\n",
    "        # endnode is the node the application is running on\n",
    "        self.endode = Endnode() \n",
    "\n",
    "    def send_qubit(qubit, remote_user):\n",
    "        # check if we have a link with receiverId\n",
    "        # if we don't have one, request one\n",
    "        self.quantum_intenet.request_link(\"Bob\")\n",
    "        # send the classical bits to Bob\n",
    "#         qInternet.text(\"Bob\", \"bits are \" + ...)"
   ]
  },
  {
   "cell_type": "code",
   "execution_count": null,
   "metadata": {},
   "outputs": [],
   "source": []
  }
 ],
 "metadata": {
  "kernelspec": {
   "display_name": "Python 3",
   "language": "python",
   "name": "python3"
  },
  "language_info": {
   "codemirror_mode": {
    "name": "ipython",
    "version": 3
   },
   "file_extension": ".py",
   "mimetype": "text/x-python",
   "name": "python",
   "nbconvert_exporter": "python",
   "pygments_lexer": "ipython3",
   "version": "3.7.6"
  }
 },
 "nbformat": 4,
 "nbformat_minor": 2
}
