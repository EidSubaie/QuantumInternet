{
 "cells": [
  {
   "cell_type": "markdown",
   "metadata": {},
   "source": [
    "qubit hardware (part of the physical layer). \n",
    "\n",
    "Qubits live inside repeaterHardware."
   ]
  },
  {
   "cell_type": "code",
   "execution_count": 1,
   "metadata": {},
   "outputs": [
    {
     "name": "stdout",
     "output_type": "stream",
     "text": [
      "Writing qubit.py\n"
     ]
    }
   ],
   "source": [
    "%%writefile qubit.py\n",
    "%load_ext autoreload\n",
    "%autoreload 2\n",
    "\n",
    "class qubit(object):\n",
    "    def __init__(id, state, decoherenceTime, parentRepeaterHardware):\n",
    "        self.id = id\n",
    "        self.state = state\n",
    "        self.decoherenceTime = decoherenceTime\n",
    "        self.parentRepeaterHardware = parentRepeaterHardware\n",
    "    \n",
    "    # move these sendMessage functions to an external function\n",
    "    # This function is a wire running from the qubit to the repeater hardware.\n",
    "    # Can we detect when a qubit has decohered?\n",
    "    def sendMessage(self, obj, msg):\n",
    "        obj.handleMessage(msg)\n",
    "        \n",
    "    def decohere():\n",
    "        msg = packQubitDecohered(self.id)\n",
    "        self.sendMessage(self.parentRepeaterHardware, msg)"
   ]
  }
 ],
 "metadata": {
  "kernelspec": {
   "display_name": "Python 3",
   "language": "python",
   "name": "python3"
  },
  "language_info": {
   "codemirror_mode": {
    "name": "ipython",
    "version": 3
   },
   "file_extension": ".py",
   "mimetype": "text/x-python",
   "name": "python",
   "nbconvert_exporter": "python",
   "pygments_lexer": "ipython3",
   "version": "3.7.4"
  }
 },
 "nbformat": 4,
 "nbformat_minor": 2
}
