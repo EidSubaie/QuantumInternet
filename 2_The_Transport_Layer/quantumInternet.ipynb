{
 "cells": [
  {
   "cell_type": "markdown",
   "metadata": {},
   "source": [
    "I am not sure exactly what this layer does yet.\n",
    "\n",
    "I am guessing it does quantum error correction and stuff."
   ]
  },
  {
   "cell_type": "code",
   "execution_count": 1,
   "metadata": {},
   "outputs": [
    {
     "name": "stdout",
     "output_type": "stream",
     "text": [
      "Writing quantumInternet.py\n"
     ]
    }
   ],
   "source": [
    "%%writefile quantumInternet.py\n",
    "%load_ext autoreload\n",
    "%autoreload 2\n",
    "\n",
    "from ../3_The_Network_Layer import repeaterChain\n",
    "\n",
    "class quantumInternet(object):\n",
    "    def __init__():\n",
    "        self.parentApplication = parentApplication\n",
    "        self.repeaterChain = new repeaterChain()\n",
    "        pass\n",
    "    \n",
    "    def requestLink(self, targetUserId, connectionParams = [#minimum fidelity and stuff#]):\n",
    "        msg = packLinkReady\n",
    "        self.sendMessage(parentApplication, msg)\n",
    "        pass \n",
    "    \n",
    "    def sendMessage(self, obj, msg):\n",
    "        obj.handleMessage(msg)\n",
    "        \n",
    "    def handleMessage(self, msg):\n",
    "        pass\n",
    "        \n",
    "    "
   ]
  },
  {
   "cell_type": "code",
   "execution_count": null,
   "metadata": {},
   "outputs": [],
   "source": []
  }
 ],
 "metadata": {
  "kernelspec": {
   "display_name": "Python 3",
   "language": "python",
   "name": "python3"
  },
  "language_info": {
   "codemirror_mode": {
    "name": "ipython",
    "version": 3
   },
   "file_extension": ".py",
   "mimetype": "text/x-python",
   "name": "python",
   "nbconvert_exporter": "python",
   "pygments_lexer": "ipython3",
   "version": "3.7.4"
  }
 },
 "nbformat": 4,
 "nbformat_minor": 2
}
