{
 "cells": [
  {
   "cell_type": "markdown",
   "metadata": {
    "colab_type": "text",
    "id": "_rrIB0ZyYaqo"
   },
   "source": [
    "#### A simple model of the hardware: a chain of $n$ simple repeaters\n",
    "\n",
    "    r[1] ---- r[2] ---- r[3] ---- ... ---- r[n]\n",
    "    \n",
    "A simple repeater: a repeater that can support 2 links that both have the same lifetime; and has ideal gates (applying gates on the qubits does not affect lifetimes)."
   ]
  },
  {
   "cell_type": "code",
   "execution_count": 270,
   "metadata": {
    "colab": {},
    "colab_type": "code",
    "id": "j5fVAajvYaqq"
   },
   "outputs": [
    {
     "name": "stdout",
     "output_type": "stream",
     "text": [
      "The autoreload extension is already loaded. To reload it, use:\n",
      "  %reload_ext autoreload\n"
     ]
    }
   ],
   "source": [
    "%load_ext autoreload\n",
    "%autoreload 2\n",
    "\n",
    "from threading import Timer, Thread\n",
    "import time\n",
    "import random\n",
    "import math\n",
    "import sys\n",
    "sys.path.append(\"..\")\n",
    "from GUI.GUI import GUI\n",
    "\n",
    "# Helper function: flips an unfair coin.\n",
    "def flip_unfair_coin(p):\n",
    "    return 'H' if random.random() < p else 'T'\n",
    "    \n",
    "    \n",
    "class simple_repeater(object):\n",
    "    # Constructor.\n",
    "    def __init__(self, id, link_lifetime = 1, link_creation_time = 0.005, parent_chain = None):\n",
    "        # The repeater id.\n",
    "        self.id = id\n",
    "        # The lifetime of the links, specifically the time in which right link expires\n",
    "        self.link_lifetime = link_lifetime\n",
    "        # The time needed to establish a link.\n",
    "        self.link_creation_time = link_creation_time\n",
    "        # The probability that a link is create successfully.\n",
    "        self.link_creation_prob = 1\n",
    "        # Repeaters/nodes to the right and to the left.\n",
    "        # They are simple_repeater objects.\n",
    "        # None means the link is not alive.\n",
    "        self.rightNode = None\n",
    "        self.leftNode  = None\n",
    "        # Timers to keep track of the alive time of each link.\n",
    "        self.rightLinkTimer = None\n",
    "#         self.leftLinkTimer = None\n",
    "        self.rightLinkTimerStart = None\n",
    "        self.createLinkTimer = None\n",
    "        # Threads\n",
    "        self.swapThread = None\n",
    "        # Repeater chain in which the repeater is embedded.\n",
    "        self.parent_chain = parent_chain\n",
    "        # The repeater's queued tasks.\n",
    "#         self.task_queue = []\n",
    "        self.shutdown_flag = False\n",
    "\n",
    "    # Link repeater to another one sitting somewhere on its right.\n",
    "    def create_right_link_helper(self, other, expire_time = None):\n",
    "        if self.shutdown_flag == False:\n",
    "            self.rightNode = other\n",
    "            other.leftNode = self\n",
    "            # Start expiry timer.\n",
    "            if expire_time is not None:\n",
    "              self.rightLinkTimer = Timer(expire_time, self.right_link_expires)\n",
    "              self.link_lifetime = expire_time\n",
    "            else:\n",
    "              self.rightLinkTimer = Timer(self.link_lifetime, self.right_link_expires)\n",
    "            self.rightLinkTimerStart = time.time()\n",
    "            self.rightLinkTimer.start()\n",
    "            if self.parent_chain.GUI_enabled:\n",
    "                self.parent_chain.GUI.update_gui(self.parent_chain)\n",
    "            else:\n",
    "                print(\"link created between \" + self.id + \" and \" + self.rightNode.id)\n",
    "            # Check for success.\n",
    "            if self.parent_chain.success():\n",
    "                self.parent_chain.handle_success()\n",
    "    #                print(\"Success!\") \n",
    "            \n",
    "    def create_right_link(self, other):\n",
    "        if self.shutdown_flag == False:\n",
    "            # Creating a link is probabilistic.\n",
    "            if flip_unfair_coin(self.link_creation_prob) == 'H':\n",
    "                # And takes time.\n",
    "                self.createLinkTimer = Timer(self.link_creation_time, self.create_right_link_helper, [other])\n",
    "                self.createLinkTimer.start()\n",
    "    \n",
    "#     # Link repeater to another one sitting somewhere on its left.\n",
    "#     def create_left_link_helper(self, other):\n",
    "#         self.leftNode = other\n",
    "#         other.rightNode = self\n",
    "#         self.leftLinkTimer = Timer(self.link_lifetime, self.left_link_expires)\n",
    "#         self.leftLinkTimer.start()\n",
    "#         if self.parent_chain.GUI is not None:\n",
    "#             self.parent_chain.GUI.update_gui(self.parent_chain.pack_snapshot())\n",
    "            \n",
    "#     def create_left_link(self, other):\n",
    "#         if flip_unfair_coin(self.link_creation_prob) == 'H':\n",
    "#             Timer(self.link_creation_time, self.create_left_link_helper, [other]).start()\n",
    "        \n",
    "    # Right link dies.\n",
    "    def right_link_expires(self):\n",
    "        if self.shutdown_flag == False:\n",
    "            if self.rightNode is not None:\n",
    "                self.rightNode.leftNode = None\n",
    "                self.rightNode = None\n",
    "                self.rightLinkTimer = None\n",
    "                if self.parent_chain.GUI_enabled:\n",
    "                    self.parent_chain.GUI.update_gui(self.parent_chain)\n",
    "        \n",
    "#     # Left link dies.\n",
    "#     def left_link_expires(self):\n",
    "#         if self.leftNode is not None:\n",
    "#             self.leftNode.rightNode = None\n",
    "#             self.leftNode = None\n",
    "#             self.leftLinkTimer = None\n",
    "#             if self.parent_chain.GUI_enabled:\n",
    "#                 self.parent_chain.GUI.update_gui(self.parent_chain)\n",
    "\n",
    "    # Perform entanglement swap.\n",
    "    def swap(self):\n",
    "        if self.shutdown_flag == False:\n",
    "            if self.leftNode is not None and self.rightNode is not None:\n",
    "    #             print(\"Swapping in repeater\", self.id)\n",
    "                #time in which self.leftNode--self will expire, ie the qubits will decohere\n",
    "                left_qb_expiry = self.leftNode.link_lifetime - (time.time() - self.leftNode.rightLinkTimerStart)\n",
    "                #time in which self--self.rightNode will expire, ie the qubits will decohere\n",
    "                right_qb_expiry = self.link_lifetime - (time.time() - self.rightLinkTimerStart)\n",
    "                #the connection self.leftNode--self.rightNode will expire in the min of the above times\n",
    "                connection_expiry = min(left_qb_expiry, right_qb_expiry)\n",
    "    #             self.leftNode.create_right_link_helper(self.rightNode, connection_expiry)\n",
    "                self.swapThread = Thread(target = self.leftNode.create_right_link_helper, \n",
    "                                         args = (self.rightNode, connection_expiry,))\n",
    "                self.swapThread.start()\n",
    "                self.rightNode = None\n",
    "                self.leftNode  = None\n",
    "                if self.parent_chain.GUI_enabled:\n",
    "    #                 print(\"right node after swap is None: \", self.rightNode == None)\n",
    "                    self.parent_chain.GUI.update_gui(self.parent_chain)\n",
    "                \n",
    "    def shutdown(self):\n",
    "        if self.shutdown_flag == False:\n",
    "            if self.rightLinkTimer:\n",
    "                self.rightLinkTimer.cancel()\n",
    "            if self.createLinkTimer:\n",
    "                self.createLinkTimer.cancel()\n",
    "            self.shutdown_flag = True"
   ]
  },
  {
   "cell_type": "code",
   "execution_count": 325,
   "metadata": {},
   "outputs": [],
   "source": [
    "class simple_repeater_chain(object):\n",
    "    def __init__(self, length = 5, link_lifetime = 1, link_creation_time = 0.005,\n",
    "                 GUI_enabled = False, repeater_type = simple_repeater, parent_application = None):\n",
    "        self.length = length\n",
    "        self.link_lifetime = link_lifetime\n",
    "        self.link_creation_time = link_creation_time\n",
    "        self.link_creation_prob = 1\n",
    "        self.parent_application = parent_application\n",
    "        self.repeater_type = repeater_type\n",
    "        # Initialize the repeaters.\n",
    "        self.repeaters = []\n",
    "        for i in range(self.length):\n",
    "            new_repeater = repeater_type(str(i), link_lifetime, link_creation_time, self)\n",
    "            self.repeaters.append(new_repeater)\n",
    "        # Initialize the GUI.\n",
    "        self.GUI_enabled = GUI_enabled\n",
    "        if self.GUI_enabled:\n",
    "            self.GUI = GUI()\n",
    "        else:\n",
    "            self.GUI = None\n",
    "            \n",
    "    def success(self):\n",
    "        # reset GUI messages\n",
    "        self.GUI.set_message(\"\")\n",
    "        if self.repeaters[0].rightNode is None:\n",
    "            return False\n",
    "        return self.repeaters[0].rightNode.id == self.repeaters[-1].id\n",
    "    \n",
    "    def handle_success(self):\n",
    "        if self.GUI:\n",
    "            self.GUI.set_message(\"Success!\")\n",
    "        else:\n",
    "            print(\"Success!\")\n",
    "        if self.parent_application is not None:\n",
    "            self.parent_application.handle_link_ready()\n",
    "        # reset the chain\n",
    "#         self.reset()\n",
    "        \n",
    "        \n",
    "    def reset(self):\n",
    "#         print(\"resetting the chain\")\n",
    "        for repeater in self.repeaters:\n",
    "            # shutdown the repeater; e.g., to cancel timers\n",
    "            repeater.shutdown()\n",
    "            del repeater\n",
    "            # re-initialize the repeaters\n",
    "#             repeater = self.repeater_type(repeater.id, self.link_lifetime, self.link_creation_time, self)\n",
    "        self.repeaters = []\n",
    "        for i in range(self.length):\n",
    "            new_repeater = self.repeater_type(str(i), self.link_lifetime, self.link_creation_time, self)\n",
    "            self.repeaters.append(new_repeater)\n",
    "            \n",
    "    def shutdown(self):\n",
    "        print(\"shutting down repeater chain ...\")\n",
    "        if self.GUI:\n",
    "            self.GUI.shutdown()\n",
    "        for repeater in self.repeaters:\n",
    "            repeater.shutdown()"
   ]
  },
  {
   "cell_type": "code",
   "execution_count": 304,
   "metadata": {
    "colab": {},
    "colab_type": "code",
    "id": "Yp7yE6Kaa5f7"
   },
   "outputs": [],
   "source": [
    "class repeater_v2(simple_repeater):\n",
    "  def __init__(self, id, link_lifetime = 1, link_creation_time = 0.005, parent_chain = None):\n",
    "    \n",
    "    super().__init__(id, link_lifetime, link_creation_time, \n",
    "                      parent_chain)\n",
    "\n",
    "  def create_right_link_helper(self, other,expire_time=None):\n",
    "      # Creating a link is probabilistic. returns True if successful.\n",
    "      should_create = flip_unfair_coin(self.link_creation_prob) == 'H'\n",
    "      if should_create:\n",
    "        super().create_right_link_helper(other,expire_time)\n",
    "        return True\n",
    "      else:\n",
    "        return False \n",
    "  \n",
    "  def create_right_link(self, other, retry=True, retry_count=3):\n",
    "      retry_count = retry_count if retry else 1\n",
    "      for _ in range(retry_count):\n",
    "          # Creating link takes time.\n",
    "          if self.rightNode is None:\n",
    "            success = self.create_right_link_helper(other)\n",
    "            if success:\n",
    "              return\n",
    "            time.sleep(self.link_creation_time)\n",
    "          self.parent_chain.indicate_link_failiure([self, other])\n",
    "    \n",
    "  # Right link dies.\n",
    "  def right_link_expires(self):\n",
    "    if self.rightNode is not None:\n",
    "      other = self.rightNode\n",
    "      super().right_link_expires()\n",
    "      # self.parent_chain.indicate_link_failiure([self, other]) // yet to decide if the link expires, will it be same as link failiure?\n",
    "        \n",
    "  # Left link dies.\n",
    "  def left_link_expires(self):\n",
    "    if self.leftNode is not None:\n",
    "      other = self.leftNode\n",
    "      super().left_link_expires()\n",
    "        # self.parent_chain.indicate_link_failiure([self, other]) \n",
    "\n",
    "\n",
    "class repeater_v2_chain(simple_repeater_chain):\n",
    "  STATE_INIT, STATE_ACTIVE, STATE_BROKEN = 'INIT', 'ACTIVE', 'BROKE' \n",
    "  \n",
    "  def __init__(self, length = 5, link_lifetime = 1, link_creation_time = 0.005, GUI_enabled = False):\n",
    "    super().__init__(length, link_lifetime, link_creation_time, GUI_enabled, repeater_type=repeater_v2)\n",
    "\n",
    "    # self.failed_links = [] #In future version of this protocol we can make use of the failed links to re-route.\n",
    "    self.state = self.STATE_INIT\n",
    "\n",
    "\n",
    "  def indicate_link_failiure(self, repeaters):\n",
    "      \"\"\"Repeaters should call this function to indicate link creation failiure.\n",
    "       We can add broadcast function in future to inform all nodes that they can free resources since complete link was not established. \n",
    "      \"\"\"\n",
    "      # self.failed_links.append(repeaters)\n",
    "      self.state = self.STATE_BROKEN\n",
    "      print(f'Link creation failiure at: {repeaters[0].id}-{repeaters[1].id}.')\n",
    "\n",
    "  def make_chain_active(self):\n",
    "    if self.state != self.STATE_BROKEN:\n",
    "      self.state = self.STATE_ACTIVE\n",
    "\n",
    "  def is_active(self):\n",
    "    return self.state == self.STATE_ACTIVE"
   ]
  },
  {
   "cell_type": "markdown",
   "metadata": {
    "colab_type": "text",
    "id": "iWRHmaqcYaqw"
   },
   "source": [
    "#### Our goal is to end up with the first and last repeaters --- they are really nodes --- in the chain entangled."
   ]
  },
  {
   "cell_type": "markdown",
   "metadata": {
    "colab_type": "text",
    "id": "cXdencKUYaqx"
   },
   "source": [
    "Here's a possible protocol."
   ]
  },
  {
   "cell_type": "markdown",
   "metadata": {},
   "source": [
    "\n",
    "#### Protocol 1:  a naive protocol"
   ]
  },
  {
   "cell_type": "code",
   "execution_count": 326,
   "metadata": {
    "colab": {},
    "colab_type": "code",
    "id": "xOwWe6vfYaqx"
   },
   "outputs": [],
   "source": [
    "# Try once to establish all links, starting from the leftmost repeater. Then swap them one by one.\n",
    "def protocol1(simple_repeater_chain):\n",
    "    # Create links\n",
    "    for i in range(len(simple_repeater_chain.repeaters)-1):\n",
    "        this_repeater = simple_repeater_chain.repeaters[i]\n",
    "        next_repeater = simple_repeater_chain.repeaters[i+1]\n",
    "        this_repeater.create_right_link(next_repeater)\n",
    "        # Wait a bit\n",
    "        time.sleep(this_repeater.link_creation_time)\n",
    "    # Perform swap.\n",
    "    for repeater in simple_repeater_chain.repeaters:\n",
    "        repeater.swap()\n",
    "        # Wait a bit\n",
    "        time.sleep(repeater.link_creation_time)"
   ]
  },
  {
   "cell_type": "markdown",
   "metadata": {
    "colab_type": "text",
    "id": "dN-w78P9Yaq0"
   },
   "source": [
    "#### Let's test it\n",
    "Play with the parameters and see what happens!"
   ]
  },
  {
   "cell_type": "code",
   "execution_count": 330,
   "metadata": {
    "colab": {
     "base_uri": "https://localhost:8080/",
     "height": 68
    },
    "colab_type": "code",
    "id": "-4Dfg9U1Yaq1",
    "outputId": "e3919e98-cffe-427e-8052-9c0e2cf2b836"
   },
   "outputs": [
    {
     "name": "stdout",
     "output_type": "stream",
     "text": [
      "                            \n",
      "                            \n",
      "r      r      r      r      r\n",
      "message:  Success!\n"
     ]
    }
   ],
   "source": [
    "chain = simple_repeater_chain(length = 5, link_lifetime = 5, link_creation_time = 0.5, \n",
    "                              GUI_enabled = True)\n",
    "\n",
    "\n",
    "protocol1(chain)"
   ]
  },
  {
   "cell_type": "code",
   "execution_count": 331,
   "metadata": {},
   "outputs": [],
   "source": [
    "# see how often we successfully create end-to-end entanglement\n",
    "class TEST_PROTOCOL(object): # this class can be thought of as part of the application layer\n",
    "    \n",
    "    \n",
    "    def __init__(self, protocol, test_time, timeout):\n",
    "        self.repeater_chain = simple_repeater_chain(length = 5, link_lifetime = 8, link_creation_time = 0.5, \n",
    "                              GUI_enabled = True, parent_application = self)\n",
    "        # the number of EPR pairs shared\n",
    "        # between the end nodes. Later, \n",
    "        # this will be replaced by the \n",
    "        # BB84 key rate.\n",
    "        self.success_counter = 0\n",
    "        # the protocol under test\n",
    "        self.protocol = protocol\n",
    "        self.stop_test = False\n",
    "        self.timeout = timeout\n",
    "        # if the repeater chain does not return a link after timeout\n",
    "        # the protocol is executed again.\n",
    "        self.timeout_timer = Timer(self.timeout, self.handle_protocol_timeout, [])\n",
    "        self.conclude_test_timer = Timer(test_time, self.conclude_test, [])\n",
    "    \n",
    "    def start_test(self):\n",
    "        self.conclude_test_timer.start()\n",
    "        # do the protocol for the first time\n",
    "        self.timeout_timer.start()\n",
    "        self.protocol(self.repeater_chain)\n",
    "        \n",
    "    # this function is called when the protocol\n",
    "    # does not succeed in a certain time.\n",
    "    def handle_protocol_timeout(self):\n",
    "        self.timeout_timer.cancel()\n",
    "        # repeat the protocol.\n",
    "        if not self.stop_test:\n",
    "            self.repeater_chain.reset()\n",
    "            self.timeout_timer = Timer(self.timeout, self.handle_protocol_timeout, [])\n",
    "            self.timeout_timer.start()\n",
    "            self.protocol(self.repeater_chain)\n",
    "                 \n",
    "    # this function is called when the repeater chain has \n",
    "    # an end-to-end link.\n",
    "    def handle_link_ready(self):\n",
    "        self.timeout_timer.cancel()\n",
    "        # log the success\n",
    "        self.success_counter += 1\n",
    "        # repeat the protocol.\n",
    "        if not self.stop_test:\n",
    "            self.repeater_chain.reset()\n",
    "            self.timeout_timer = Timer(self.timeout, self.handle_protocol_timeout, [])\n",
    "            self.timeout_timer.start()\n",
    "            self.protocol(self.repeater_chain)\n",
    "              \n",
    "    def conclude_test(self):\n",
    "        self.stop_test = True\n",
    "        self.timeout_timer.cancel()\n",
    "        # stop all timers in the repeater chain.\n",
    "        self.repeater_chain.shutdown()\n",
    "        print(\"Number of pairs shared: \", self.success_counter)"
   ]
  },
  {
   "cell_type": "code",
   "execution_count": 336,
   "metadata": {},
   "outputs": [
    {
     "name": "stdout",
     "output_type": "stream",
     "text": [
      "                            \n",
      "                            \n",
      "r ---- r      r      r      r\n",
      "message:  Success!\n",
      "shutting down repeater chain ...\n",
      "shutting down GUI ...\n",
      "Number of pairs shared:  4\n"
     ]
    }
   ],
   "source": [
    "test_protocol1 = TEST_PROTOCOL(protocol1, test_time = 15, timeout = 5)\n",
    "test_protocol1.start_test()"
   ]
  },
  {
   "cell_type": "markdown",
   "metadata": {
    "colab_type": "text",
    "id": "9JRg2zg62fOR"
   },
   "source": [
    "#### Protocol 2\n",
    "Here is an alternate protocol that attempts to establish connection between nodes 0 and i+1 as soon as connection between 0 and i is established. This ensures that the first established link does not expire by the time connection between the last two nodes is established"
   ]
  },
  {
   "cell_type": "code",
   "execution_count": 14,
   "metadata": {
    "colab": {},
    "colab_type": "code",
    "id": "_oKEL7h4Yaq5"
   },
   "outputs": [],
   "source": [
    "def protocol2(simple_repeater_chain):\n",
    "  for i in range(len(simple_repeater_chain.repeaters)-1):\n",
    "    this_repeater = simple_repeater_chain.repeaters[i]\n",
    "    next_repeater = simple_repeater_chain.repeaters[i+1]\n",
    "    # print(\"creating right link from i=\",i)\n",
    "    this_repeater.create_right_link(next_repeater)\n",
    "    # Wait a bit\n",
    "    time.sleep(this_repeater.link_creation_time)\n",
    "    #perform swap if it is not the first node\n",
    "    if(i!=0):\n",
    "      # print(\"doing swap at i=\",i)\n",
    "      this_repeater.swap()\n",
    "      # Wait a bit\n",
    "      time.sleep(this_repeater.link_creation_time)"
   ]
  },
  {
   "cell_type": "code",
   "execution_count": 18,
   "metadata": {
    "colab": {
     "base_uri": "https://localhost:8080/",
     "height": 68
    },
    "colab_type": "code",
    "id": "uhppAd4SaTCP",
    "outputId": "8f0e0ef4-beb5-4c05-f57d-4585313d5c81"
   },
   "outputs": [
    {
     "name": "stdout",
     "output_type": "stream",
     "text": [
      "link created between 0 and 1\n",
      "link created between 1 and 2\n",
      "link created between 2 and 3\n",
      "link created between 3 and 4\n",
      "link created between 2 and 4\n",
      "link created between 4 and 5\n",
      "link created between 5 and 6\n",
      "link created between 4 and 6\n",
      "link created between 6 and 7\n"
     ]
    }
   ],
   "source": [
    "chain = simple_repeater_chain(length = 8, link_lifetime = 5, link_creation_time = 0.5,\n",
    "                              GUI_enabled = False)\n",
    "\n",
    "\n",
    "protocol2(chain)"
   ]
  },
  {
   "cell_type": "markdown",
   "metadata": {},
   "source": [
    "#### Protocol 3: link spawns in the middle of the chain\n",
    "\n",
    "It is not yet clear whether this protocol does anything better than the other ones. \n",
    "\n",
    "This because the it is not yet clear how the swaps affect the lifetime of the link.\n",
    "\n",
    "But if we assuming that swaps do not affect the link lifetime, and that the links expire only when one of the qubits supporting it decoheres, then this protocol should perform better --- because no qubit supports the link for too long.\n",
    "\n",
    "This is in contrast with, say, in Protocol 1 above. In Protocol 1 the very first repeater supports the link from the very beginning and until the whole chain has been created --- for long chains the qubit in the first repeated can't hold the link long enough for the entire chain to be created."
   ]
  },
  {
   "cell_type": "code",
   "execution_count": 138,
   "metadata": {},
   "outputs": [],
   "source": [
    "def protocol3(simple_repeater_chain):\n",
    "    middle = math.floor(len(simple_repeater_chain.repeaters) / 2)\n",
    "    # create the middle link\n",
    "    this_repeater = simple_repeater_chain.repeaters[middle]\n",
    "    next_repeater = simple_repeater_chain.repeaters[middle + 1]\n",
    "    this_repeater.create_right_link(next_repeater)\n",
    "    # Wait a bit\n",
    "    time.sleep(this_repeater.link_creation_time)\n",
    "    # step to the sides\n",
    "    i = middle - 1\n",
    "    j = middle + 1\n",
    "    while True:\n",
    "        if i > -1:\n",
    "            # create links on the left\n",
    "            this_repeater = simple_repeater_chain.repeaters[i]\n",
    "            next_repeater = simple_repeater_chain.repeaters[i + 1]\n",
    "            this_repeater.create_right_link(next_repeater)\n",
    "        if j < len(simple_repeater_chain.repeaters):\n",
    "            # create links on the right\n",
    "            this_repeater = simple_repeater_chain.repeaters[j - 1]\n",
    "            next_repeater = simple_repeater_chain.repeaters[j]\n",
    "            this_repeater.create_right_link(next_repeater)\n",
    "        # wait a bit\n",
    "        time.sleep(2 * this_repeater.link_creation_time)\n",
    "        # swap\n",
    "        simple_repeater_chain.repeaters[i + 1].swap()\n",
    "        simple_repeater_chain.repeaters[j - 1].swap()\n",
    "        # move to next repeaters  \n",
    "        i -= 1\n",
    "        j += 1\n",
    "        if i < 0 and j > len(simple_repeater_chain.repeaters) - 1:\n",
    "            break"
   ]
  },
  {
   "cell_type": "code",
   "execution_count": 139,
   "metadata": {},
   "outputs": [
    {
     "name": "stdout",
     "output_type": "stream",
     "text": [
      "                                                                                    \n",
      "                                                                                    \n",
      "r      r      r      r      r      r      r      r      r      r      r      r      r\n"
     ]
    }
   ],
   "source": [
    "chain = simple_repeater_chain(length = 13, link_lifetime = 5, link_creation_time = 0.5, \n",
    "                              GUI_enabled = True)\n",
    "\n",
    "\n",
    "protocol3(chain)"
   ]
  },
  {
   "cell_type": "markdown",
   "metadata": {
    "colab_type": "text",
    "id": "cA73v3hVwHGg"
   },
   "source": [
    "#### Protocol 1.1\n",
    "\n",
    "This protocol improves upon Protocol 1 by:\n",
    "* Only allowing swapping if the complete chain is ready.\n",
    "* Inform all the repeaters at once to create link. \n",
    "\n",
    "##### Protocol definition\n",
    "* Inform all the nodes at once which node they need to link with (can be done classically) and then wait for the time it would take maximum possible retries to complete.\n",
    "\n",
    "* Incase link creation fails, repeaters retry link creation. If all attempts for link creation fail, repeaters can inform parent chain/broadcast that the link creation  failed or link expired. If Parent chain receives information on link creation failiure, link is considered in broken state.\n",
    "\n",
    "* If no error was received until the (retries allowed * link_creation_time) seconds, the link is made active.\n",
    "\n",
    "* Start `swap()` operations  and keep swapping if the chain is in Active State.\n",
    "\n",
    "(PS. please use this protocol with GUI_enabled=False, does not work well with GUI)\n",
    " "
   ]
  },
  {
   "cell_type": "code",
   "execution_count": null,
   "metadata": {
    "colab": {},
    "colab_type": "code",
    "id": "uipOvtdhelQr"
   },
   "outputs": [],
   "source": [
    "def protocol1_1(repeater_chain):\n",
    "    # Create links\n",
    "    retries = 3\n",
    "    for i in range(len(repeater_chain.repeaters)-1):\n",
    "        # Inform all the repeaters simaltaneously whom they'll be linking up with.\n",
    "        this_repeater = repeater_chain.repeaters[i]\n",
    "        next_repeater = repeater_chain.repeaters[i+1]\n",
    "        this_repeater.create_right_link(next_repeater, retry_count=retries)\n",
    "\n",
    "    # Wait for a repeaters to indicate to `Parent Chain` if they failed in creating the link.\n",
    "    time.sleep(repeater_chain.link_creation_time * retries)\n",
    "    repeater_chain.make_chain_active() # If no failiures, make active.\n",
    "    \n",
    "    # Perform swap.\n",
    "    for repeater in repeater_chain.repeaters:\n",
    "        if repeater_chain.is_active():\n",
    "          repeater.swap()\n",
    "          # Wait a bit\n",
    "          time.sleep(repeater.link_creation_time)"
   ]
  },
  {
   "cell_type": "code",
   "execution_count": null,
   "metadata": {
    "colab": {
     "base_uri": "https://localhost:8080/",
     "height": 255
    },
    "colab_type": "code",
    "id": "6w59xFmme8KL",
    "outputId": "8b84a1a2-f2d7-43b5-951e-bb1fc9a76113"
   },
   "outputs": [],
   "source": [
    "chain = repeater_v2_chain(length = 8, link_lifetime = 5, link_creation_time = 0.5, GUI_enabled = False, )\n",
    "protocol1_1(chain)"
   ]
  },
  {
   "cell_type": "code",
   "execution_count": null,
   "metadata": {},
   "outputs": [],
   "source": []
  }
 ],
 "metadata": {
  "colab": {
   "collapsed_sections": [],
   "name": "Protocols.ipynb",
   "provenance": []
  },
  "kernelspec": {
   "display_name": "Python 3",
   "language": "python",
   "name": "python3"
  },
  "language_info": {
   "codemirror_mode": {
    "name": "ipython",
    "version": 3
   },
   "file_extension": ".py",
   "mimetype": "text/x-python",
   "name": "python",
   "nbconvert_exporter": "python",
   "pygments_lexer": "ipython3",
   "version": "3.7.4"
  }
 },
 "nbformat": 4,
 "nbformat_minor": 1
}
