{
 "cells": [
  {
   "cell_type": "markdown",
   "metadata": {},
   "source": [
    "#### A simple model of the hardware: a chain of $n$ simple repeaters\n",
    "\n",
    "    r[1] ---- r[2] ---- r[3] ---- ... ---- r[n]\n",
    "    \n",
    "A simple repeater: a repeater that can support 2 links that both have the same lifetime; and has ideal gates (applying gates on the qubits does not affect lifetimes)."
   ]
  },
  {
   "cell_type": "code",
   "execution_count": 558,
   "metadata": {},
   "outputs": [],
   "source": [
    "from threading import Timer\n",
    "import random\n",
    "from IPython.display import clear_output\n",
    "\n",
    "\n",
    "# Helper function: flips an unfair coin.\n",
    "def flip_unfair_coin(p):\n",
    "    return 'H' if random.random() < p else 'T'\n",
    "    \n",
    "    \n",
    "class simple_repeater(object):\n",
    "    # Constructor.\n",
    "    def __init__(self, id, link_lifetime = 1, link_creation_time = 0.005, link_creation_prob = 0.25, parent_chain = None):\n",
    "        # The repeater id.\n",
    "        self.id = id\n",
    "        # The lifetime of the links.\n",
    "        self.link_lifetime = link_lifetime\n",
    "        # The time needed to establish a link.\n",
    "        self.link_creation_time = link_creation_time\n",
    "        # The probability that a link is create successfully.\n",
    "        self.link_creation_prob = link_creation_prob\n",
    "        # Repeaters/nodes to the right and to the left.\n",
    "        # They are simple_repeater objects.\n",
    "        # None means the link is not alive.\n",
    "        self.rightNode = None\n",
    "        self.leftNode  = None\n",
    "        # Timers to keep track of the alive time of each link.\n",
    "        self.rightLinkTimer = None\n",
    "        self.leftLinkTimer = None\n",
    "        # Repeater chain in which the repeater is embedded.\n",
    "        self.parent_chain = parent_chain\n",
    "        # The repeater's queued tasks.\n",
    "#         self.task_queue = []\n",
    "\n",
    "    # Link repeater to another one sitting somewhere on its right.\n",
    "    def create_right_link_helper(self, other):\n",
    "        self.rightNode = other\n",
    "        other.leftNode = self\n",
    "        # Start expiry timer.\n",
    "        self.rightLinkTimer = Timer(self.link_lifetime, self.right_link_expires)\n",
    "        self.rightLinkTimer.start()\n",
    "        if self.parent_chain.GUI_enabled:\n",
    "            self.parent_chain.GUI.update_gui(self.parent_chain.pack_snapshot())\n",
    "        else:\n",
    "            print(\"link created between \" + self.id + \" and \" + self.rightNode.id)\n",
    "            # Check for success.\n",
    "            if self.parent_chain.success():\n",
    "               print(\"Success!\") \n",
    "            \n",
    "    def create_right_link(self, other):\n",
    "        # Creating a link is probabilistic.\n",
    "        if flip_unfair_coin(self.link_creation_prob) == 'H':\n",
    "            # And takes time.\n",
    "            Timer(self.link_creation_time, self.create_right_link_helper, [other]).start()\n",
    "    \n",
    "#     # Link repeater to another one sitting somewhere on its left.\n",
    "#     def create_left_link_helper(self, other):\n",
    "#         self.leftNode = other\n",
    "#         other.rightNode = self\n",
    "#         self.leftLinkTimer = Timer(self.link_lifetime, self.left_link_expires)\n",
    "#         self.leftLinkTimer.start()\n",
    "#         if self.parent_chain.GUI is not None:\n",
    "#             self.parent_chain.GUI.update_gui(self.parent_chain.pack_snapshot())\n",
    "            \n",
    "#     def create_left_link(self, other):\n",
    "#         if flip_unfair_coin(self.link_creation_prob) == 'H':\n",
    "#             Timer(self.link_creation_time, self.create_left_link_helper, [other]).start()\n",
    "        \n",
    "    # Right link dies.\n",
    "    def right_link_expires(self):\n",
    "        if self.rightNode is not None:\n",
    "            self.rightNode.leftNode = None\n",
    "            self.rightNode = None\n",
    "            self.rightLinkTimer = None\n",
    "            if self.parent_chain.GUI_enabled:\n",
    "                self.parent_chain.GUI.update_gui(self.parent_chain.pack_snapshot())\n",
    "        \n",
    "    # Left link dies.\n",
    "    def left_link_expires(self):\n",
    "        if self.leftNode is not None:\n",
    "            self.leftNode.rightNode = None\n",
    "            self.leftNode = None\n",
    "            self.leftLinkTimer = None\n",
    "            if self.parent_chain.GUI_enabled:\n",
    "                self.parent_chain.GUI.update_gui(self.parent_chain.pack_snapshot())\n",
    "        \n",
    "    # Perform entanglement swap.\n",
    "    def swap(self):\n",
    "#         print(\"Swapping in repeater\", self.id)\n",
    "        if self.leftNode is not None and self.rightNode is not None:\n",
    "            self.leftNode.create_right_link_helper(self.rightNode)\n",
    "            # Change link states to not alive.\n",
    "            self.rightNode = None\n",
    "            self.leftNode  = None\n",
    "            if self.parent_chain.GUI_enabled:\n",
    "                self.parent_chain.GUI.update_gui(self.parent_chain.pack_snapshot())\n",
    "            \n",
    "     \n",
    "\n",
    "class simple_repeater_chain(object):\n",
    "    def __init__(self, length = 5, link_lifetime = 1, link_creation_time = 0.005, link_creation_prob = 0.25, \n",
    "                 GUI_enabled = False):\n",
    "        self.length = length\n",
    "        self.link_lifetime = link_lifetime\n",
    "        self.link_creation_time = link_creation_time\n",
    "        self.link_creation_prob = link_creation_prob\n",
    "        # Initialize the repeaters.\n",
    "        self.repeaters = []\n",
    "        for i in range(self.length):\n",
    "            new_repeater = simple_repeater(str(i), link_lifetime, link_creation_time, link_creation_prob, self)\n",
    "            self.repeaters.append(new_repeater)\n",
    "        # Initialize the GUI.\n",
    "        self.GUI_enabled = GUI_enabled\n",
    "        if self.GUI_enabled:\n",
    "            self.GUI = GUI()\n",
    "            self.GUI.draw_state(self.pack_snapshot())\n",
    "            \n",
    "    def success(self):\n",
    "        if self.repeaters[0].rightNode is None:\n",
    "            return False\n",
    "        return self.repeaters[0].rightNode.id == self.repeaters[-1].id\n",
    "\n",
    "    # Says which link each link is connected to.\n",
    "    def pack_snapshot(self):\n",
    "        snapshot = []  \n",
    "        for repeater in self.repeaters:\n",
    "            if repeater.rightNode is not None:\n",
    "                snapshot.append(repeater.rightNode.id)\n",
    "            else:\n",
    "                # -1 means it's not linked to any repeaters.\n",
    "                snapshot.append(-1)\n",
    "#         print(snapshot)\n",
    "        return snapshot\n",
    "\n",
    "    \n",
    "\n",
    "# GUI (not finished yet)\n",
    "class GUI(object):\n",
    "    def __init__(self):\n",
    "        self.request_queue = []\n",
    "        self.busy = False\n",
    "        \n",
    "    def draw_state(self, state):\n",
    "        s = \"\"\n",
    "        for i in range(len(state)):\n",
    "            s = s + \"r\" + \"[\" + str(i+1) + \"]\"\n",
    "            if state[i] != -1:   # correct this: draw long links.\n",
    "                s += \" ---- \"\n",
    "            else:\n",
    "                s += \"      \"\n",
    "        if int(state[0]) == len(state)-1:\n",
    "            s += \"       Success!\"\n",
    "        clear_output(wait = True)\n",
    "        print(s)\n",
    "        \n",
    "    def update_gui(self, new_state):\n",
    "        self.request_queue.append(new_state)\n",
    "        if self.busy == False:\n",
    "            self.get_busy()\n",
    "        \n",
    "    def get_busy(self):\n",
    "        self.busy = True\n",
    "        while len(self.request_queue) > 0:\n",
    "            new_state = self.request_queue.pop(0)\n",
    "            self.draw_state(new_state)\n",
    "        self.busy = False "
   ]
  },
  {
   "cell_type": "markdown",
   "metadata": {},
   "source": [
    "#### Our goal is to end up with the first and last repeaters --- they are really nodes --- in the chain entangled."
   ]
  },
  {
   "cell_type": "markdown",
   "metadata": {},
   "source": [
    "#### Here's a possible protocol"
   ]
  },
  {
   "cell_type": "code",
   "execution_count": 565,
   "metadata": {},
   "outputs": [],
   "source": [
    "import time\n",
    "\n",
    "# Try once to establish all links, starting from the leftmost repeater. Then swap them one by one.\n",
    "def protocol1(simple_repeater_chain):\n",
    "    # Create links\n",
    "    for i in range(len(simple_repeater_chain.repeaters)-1):\n",
    "        this_repeater = simple_repeater_chain.repeaters[i]\n",
    "        next_repeater = simple_repeater_chain.repeaters[i+1]\n",
    "        this_repeater.create_right_link(next_repeater)\n",
    "        # Wait a bit\n",
    "        time.sleep(this_repeater.link_creation_time)\n",
    "    # Perform swap.\n",
    "    for repeater in simple_repeater_chain.repeaters:\n",
    "        repeater.swap()\n",
    "        # Wait a bit\n",
    "        time.sleep(repeater.link_creation_time)"
   ]
  },
  {
   "cell_type": "markdown",
   "metadata": {},
   "source": [
    "#### Let's test it\n",
    "Play with the parameters and see what happens!"
   ]
  },
  {
   "cell_type": "code",
   "execution_count": 570,
   "metadata": {},
   "outputs": [
    {
     "name": "stdout",
     "output_type": "stream",
     "text": [
      "r[1]      r[2]      r[3]      r[4]      r[5]      \n"
     ]
    }
   ],
   "source": [
    "chain = simple_repeater_chain(length = 5, link_lifetime = 10, link_creation_time = 0.5, link_creation_prob = 1, \n",
    "                              GUI_enabled = True)"
   ]
  },
  {
   "cell_type": "code",
   "execution_count": 573,
   "metadata": {},
   "outputs": [
    {
     "name": "stdout",
     "output_type": "stream",
     "text": [
      "r[1]      r[2]      r[3]      r[4]      r[5]      \n"
     ]
    }
   ],
   "source": [
    "protocol1(chain)"
   ]
  },
  {
   "cell_type": "code",
   "execution_count": null,
   "metadata": {},
   "outputs": [],
   "source": []
  }
 ],
 "metadata": {
  "kernelspec": {
   "display_name": "Python 3",
   "language": "python",
   "name": "python3"
  },
  "language_info": {
   "codemirror_mode": {
    "name": "ipython",
    "version": 3
   },
   "file_extension": ".py",
   "mimetype": "text/x-python",
   "name": "python",
   "nbconvert_exporter": "python",
   "pygments_lexer": "ipython3",
   "version": "3.7.4"
  }
 },
 "nbformat": 4,
 "nbformat_minor": 2
}
