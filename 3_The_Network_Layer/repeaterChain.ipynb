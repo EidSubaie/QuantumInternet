{
 "cells": [
  {
   "cell_type": "markdown",
   "metadata": {},
   "source": [
    "The network layer can ask specific repeaters to swap, because it's the first layer that has information about the entire network.\n",
    "\n",
    "The network layer can also ask repeaters to create links with a given minimum fidelity.\n",
    "\n",
    "In our simulations, the network layer will also contain a GUI object and a globalState object that together show graphically what the global state of the network is. Note that this information is only available to us because we are running a simulation. In realiy, we practically never know exactly the state we are using, unless we do a lot of measurements to try to figure it out. This is called [quantum state tomography](https://en.wikipedia.org/wiki/Quantum_tomography)."
   ]
  },
  {
   "cell_type": "code",
   "execution_count": 11,
   "metadata": {},
   "outputs": [
    {
     "name": "stdout",
     "output_type": "stream",
     "text": [
      "Overwriting repeaterChain.py\n"
     ]
    }
   ],
   "source": [
    "%%writefile repeaterChain.py\n",
    "%load_ext autoreload\n",
    "%autoreload 2\n",
    "\n",
    "from ../4_The_Link_Layer import repeater cable\n",
    "import globalState\n",
    "\n",
    "class repeaterChain(object):\n",
    "    def __init__(self, length):\n",
    "        self.length = length\n",
    "        self.repeaters = [repeater(self) for i in range(length)]\n",
    "#         self.connectedEndnodes = []\n",
    "        # connect the repeaters with cables\n",
    "        for i in range(length):\n",
    "            # for every repeater create a new cable to the right\n",
    "            if i < length-1:\n",
    "                self.repeaters[i].rightCable = cable(self.repeaters[i], self.repeaters[i+1])\n",
    "            if i > 0:\n",
    "                self.repeaters[i].leftCable = self.repeaters[i-1].rightCable\n",
    "\n",
    "    def attemptSwap(self, repeater):\n",
    "        #ask repeater to do a swap\n",
    "        repeater.attemptSwap(#specify the links to swap#)\n",
    "\n",
    "    def attemptLinkCreation(self, repeater1, repeater2):\n",
    "        repeater1.attemptLinkCreation(repeater2)\n",
    "\n",
    "    def connect(self, endnode): #endnode is a link layer object\n",
    "        if self.repeaters[0].leftCable == None: # in the future choose where to connect in a better way\n",
    "            endnode.cable = cable(endnode, self.repeaters[0])\n",
    "            self.repeaters[0].leftCable = endnode.cable\n",
    "        else:\n",
    "            self.repeaters[self.length-1].rightCable = cable(self.repeaters[self.length-1], endnode)\n",
    "            endnode.cable = self.repeaters[self.length-1].rightCable\n",
    "        self.assignNetworkId(endnode)\n",
    "\n",
    "    def assignNetworkId(self, node):\n",
    "        if type(node) == \"endnode\":\n",
    "            if node.cable == None:\n",
    "                print(\"endnode is not wired to network.\")\n",
    "            elif node.cable == self.repeaters[0].leftCable:\n",
    "                node.netId = 0\n",
    "            elif node.cable == self.repeaters[self.length-1].rightCable:\n",
    "                node.netId = self.length\n",
    "        elif type(node) == \"repeater\":\n",
    "            if node.rightCable == None and node.leftCable == None:\n",
    "                print(\"repeater is not wired to network\")\n",
    "            else:\n",
    "                node.netId = self.repeaters.index(node) + 1\n",
    "        else:\n",
    "            print(\"unknown node type.\")"
   ]
  },
  {
   "cell_type": "markdown",
   "metadata": {},
   "source": [
    "The function `assignNetworkIds` assigns Ids that identify the different link layer objects connected to the network. They are analogous to IP addresses in the classical internet. They are location-dependent: a repeater or an endnode with a smaller id is located more to the left."
   ]
  },
  {
   "cell_type": "code",
   "execution_count": null,
   "metadata": {},
   "outputs": [],
   "source": []
  }
 ],
 "metadata": {
  "kernelspec": {
   "display_name": "Python 3",
   "language": "python",
   "name": "python3"
  },
  "language_info": {
   "codemirror_mode": {
    "name": "ipython",
    "version": 3
   },
   "file_extension": ".py",
   "mimetype": "text/x-python",
   "name": "python",
   "nbconvert_exporter": "python",
   "pygments_lexer": "ipython3",
   "version": "3.7.6"
  }
 },
 "nbformat": 4,
 "nbformat_minor": 2
}
