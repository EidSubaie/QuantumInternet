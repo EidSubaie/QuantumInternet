{
 "cells": [
  {
   "cell_type": "markdown",
   "metadata": {},
   "source": [
    "An application has access to a quantum internet object.\n",
    "\n",
    "The application can ask the quantum internet for a link with a given user with given specs, like fidelity."
   ]
  },
  {
   "cell_type": "code",
   "execution_count": 3,
   "metadata": {},
   "outputs": [
    {
     "name": "stdout",
     "output_type": "stream",
     "text": [
      "Overwriting application.py\n"
     ]
    }
   ],
   "source": [
    "%%writefile application.py\n",
    "%load_ext autoreload\n",
    "%autoreload 2\n",
    "\n",
    "class application(object): # this code runs on the user's PQC (personal quantum computer)\n",
    "    def __init__(self, username = None):\n",
    "        self.quantumInternet = None\n",
    "        this.username = username\n",
    "        # endnode is the node the application is running on\n",
    "        self.endode = endnode() \n",
    "\n",
    "    def teleportQubit(qubit, remoteUser):\n",
    "        # check if we have a link with receiverId\n",
    "        # if we don't have one, request one\n",
    "        self.quantumIntenet.requestLink(\"Bob\")\n",
    "        # send the classical bits to Bob\n",
    "        qInternet.text(\"Bob\", \"bits are \" + ...)"
   ]
  },
  {
   "cell_type": "code",
   "execution_count": null,
   "metadata": {},
   "outputs": [],
   "source": []
  }
 ],
 "metadata": {
  "kernelspec": {
   "display_name": "Python 3",
   "language": "python",
   "name": "python3"
  },
  "language_info": {
   "codemirror_mode": {
    "name": "ipython",
    "version": 3
   },
   "file_extension": ".py",
   "mimetype": "text/x-python",
   "name": "python",
   "nbconvert_exporter": "python",
   "pygments_lexer": "ipython3",
   "version": "3.7.6"
  }
 },
 "nbformat": 4,
 "nbformat_minor": 2
}
