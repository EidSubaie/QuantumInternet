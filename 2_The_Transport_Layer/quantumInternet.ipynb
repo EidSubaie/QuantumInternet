{
 "cells": [
  {
   "cell_type": "markdown",
   "metadata": {},
   "source": [
    "I am not sure exactly what this layer does yet.\n",
    "\n",
    "I am guessing it does quantum error correction and stuff."
   ]
  },
  {
   "cell_type": "code",
   "execution_count": 1,
   "metadata": {},
   "outputs": [
    {
     "name": "stdout",
     "output_type": "stream",
     "text": [
      "Overwriting quantumInternet.py\n"
     ]
    }
   ],
   "source": [
    "%%writefile quantumInternet.py\n",
    "%load_ext autoreload\n",
    "%autoreload 2\n",
    "\n",
    "from ../3_The_Network_Layer import repeaterChain\n",
    "\n",
    "class quantumInternet(object):\n",
    "    def __init__(self, length):\n",
    "#         self.parentApplication = parentApplication\n",
    "        self.repeaterChain = repeaterChain(length)\n",
    "        self.userTable = {} # for our 2 user network this table can have \n",
    "                            # at most 2 users. In front of each username goes the\n",
    "                            # user's application object (BB84 object).\n",
    "\n",
    "    def requestLink(self, username, linkParams = [#minimum fidelity and stuff#]):\n",
    "        msg = packLinkReady\n",
    "        self.sendMessage(parentApplication, msg)\n",
    "        pass \n",
    "        \n",
    "    def checkIsOnline(self, username):\n",
    "        return username in self.userTable\n",
    "        \n",
    "    def connect(self, application):\n",
    "        application.quantumInternet = self\n",
    "        self.repeaterChain.connect(application.endnode)\n",
    "        self.userTable.update({application.username : application})\n",
    "\n",
    "    def sendMessage(self, obj, msg):\n",
    "        obj.handleMessage(msg)\n",
    "\n",
    "    def handleMessage(self, msg):\n",
    "        if msg['msg'] == \"forward to user\":\n",
    "            msg['msg'] = \"msg from user\"\n",
    "            self.sendMessage(self.userTable[msg.receiver], msg)"
   ]
  },
  {
   "cell_type": "code",
   "execution_count": null,
   "metadata": {},
   "outputs": [],
   "source": []
  }
 ],
 "metadata": {
  "kernelspec": {
   "display_name": "Python 3",
   "language": "python",
   "name": "python3"
  },
  "language_info": {
   "codemirror_mode": {
    "name": "ipython",
    "version": 3
   },
   "file_extension": ".py",
   "mimetype": "text/x-python",
   "name": "python",
   "nbconvert_exporter": "python",
   "pygments_lexer": "ipython3",
   "version": "3.7.6"
  }
 },
 "nbformat": 4,
 "nbformat_minor": 2
}
