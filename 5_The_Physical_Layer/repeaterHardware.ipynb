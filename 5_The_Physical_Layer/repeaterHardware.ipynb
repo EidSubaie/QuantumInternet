{
 "cells": [
  {
   "cell_type": "markdown",
   "metadata": {},
   "source": [
    "There can be improvements on this class.\n",
    "\n",
    "Future repeaters might, for instance, support extra qubits for quantum error correction."
   ]
  },
  {
   "cell_type": "code",
   "execution_count": 1,
   "metadata": {},
   "outputs": [
    {
     "name": "stdout",
     "output_type": "stream",
     "text": [
      "Writing repeaterHardware.py\n"
     ]
    }
   ],
   "source": [
    "%%writefile repeaterHardware.py\n",
    "%load_ext autoreload\n",
    "%autoreload 2\n",
    "\n",
    "from ./ import qubit\n",
    "\n",
    "class repeaterHardware(object):\n",
    "    def __init__(noOfQubits, parentRepeater):\n",
    "        self.parentRepeater = parentRepeater\n",
    "        # the order of the qubits in these lists is the same as the order\n",
    "        # of the links in the link lists in the repeater class.\n",
    "        self.rightQubits = [new qubit(1, self) for _ in range(noOfQubits)]\n",
    "        self.leftQubits = [new qubit(1, self) for _ in range(noOfQubits)]\n",
    "#         self.memoryQubits = []\n",
    "\n",
    "    def sendMessage(self, obj, msg):\n",
    "        obj.handleMessage(msg)\n",
    "        \n",
    "\n",
    "    def handleMessage(self, msg):\n",
    "        msg = msg.split('-')\n",
    "        # id of the sender\n",
    "        id = msg[0]\n",
    "        if msg[1] === \"decohered\":\n",
    "            # notify the link layer\n",
    "            msg2 = packLinkExpired(#specify which link expired#)\n",
    "            self.sendMessage(self.parentRepeater, msg2)\n",
    "\n",
    "    def attemptSwap(self): # proper quantum gates will be performed here.\n",
    "        \n",
    "        # reset qubits\n",
    "        \n",
    "        # pack message with result\n",
    "        # fidelity of the create link. (how do we compute this?)\n",
    "        fidelity = ...\n",
    "        msg = packSwapResult(\"success\", fidelity) # should be of the form \"swap-success-fidelity-0.5\".\n",
    "        # send message to parent repeater (link layer)\n",
    "        self.sendMessage(self.parentRepeater, msg)\n",
    "     \n",
    "    def attemptLinkCreation(self): \n",
    "        # here the physical details of link creation will be implemented:\n",
    "        # support for heralding stations and photon transmission, etc.\n",
    "        if success:\n",
    "            fidelity = ... \n",
    "            msg = packLinkCreationSuccess(\"success\", fidelity)\n",
    "            self.sendMessage(self.parentRepeater, msg)\n",
    "        pass\n",
    "                \n",
    "    def attemptDistillation(self):\n",
    "        # apply gates on the qubits here\n",
    "        pass\n",
    "    "
   ]
  }
 ],
 "metadata": {
  "kernelspec": {
   "display_name": "Python 3",
   "language": "python",
   "name": "python3"
  },
  "language_info": {
   "codemirror_mode": {
    "name": "ipython",
    "version": 3
   },
   "file_extension": ".py",
   "mimetype": "text/x-python",
   "name": "python",
   "nbconvert_exporter": "python",
   "pygments_lexer": "ipython3",
   "version": "3.7.4"
  }
 },
 "nbformat": 4,
 "nbformat_minor": 2
}
