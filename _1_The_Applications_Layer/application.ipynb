{
 "cells": [
  {
   "cell_type": "markdown",
   "metadata": {},
   "source": [
    "An application has access to a quantum internet object.\n",
    "\n",
    "The application can ask the quantum internet for a link with a given user with given specs, like fidelity.\n",
    "\n",
    "endnode is the node the application is running on"
   ]
  },
  {
   "cell_type": "code",
   "execution_count": 1,
   "metadata": {},
   "outputs": [],
   "source": [
    "%load_ext autoreload\n",
    "%autoreload 2"
   ]
  },
  {
   "cell_type": "code",
   "execution_count": 39,
   "metadata": {},
   "outputs": [
    {
     "name": "stdout",
     "output_type": "stream",
     "text": [
      "Overwriting application.py\n"
     ]
    }
   ],
   "source": [
    "%%writefile application.py\n",
    "import sys\n",
    "\n",
    "sys.path.append(\"..\")\n",
    "from _4_The_Link_Layer.endnode import Endnode\n",
    "\n",
    "class Application(object): # this code runs on the user's PQC (personal quantum computer)\n",
    "    def __init__(self, username = None):\n",
    "        print(\"creating new application\")\n",
    "        self.quantum_internet = None\n",
    "        self.username = username\n",
    "        self.endnode = Endnode()\n",
    "        self.endnode.parent_application = self\n",
    "\n",
    "    def send_qubit(self, remote_user): # qubit here is the local Qubit object on EndnodeHardware.\n",
    "        if self.quantum_internet:\n",
    "            self.quantum_internet.send_qubit(self.endnode.hardware.memory_qubit, self.username, remote_user)\n",
    "        else:\n",
    "            print(\"not connected to the quantum internet\")\n",
    "\n",
    "    def receive_qubit(self, qubit):\n",
    "        pass\n",
    "\n",
    "    def send_message(self, obj, msg):\n",
    "        obj.handle_message(msg)\n",
    " \n",
    "    def handle_message(self, msg):\n",
    "        if msg['msg'] == \"qubit received\":\n",
    "            receive_qubit()"
   ]
  },
  {
   "cell_type": "markdown",
   "metadata": {},
   "source": [
    "# Tests"
   ]
  },
  {
   "cell_type": "markdown",
   "metadata": {},
   "source": [
    "### Sending qubit to remote user"
   ]
  },
  {
   "cell_type": "code",
   "execution_count": 40,
   "metadata": {},
   "outputs": [
    {
     "name": "stdout",
     "output_type": "stream",
     "text": [
      "creating quantum internet\n",
      "creating new repeater chain\n",
      "creating new repeater\n",
      "creating new repeater hardware\n",
      "creating new qubit\n",
      "creating new qubit in global state\n",
      "before: None\n",
      "GUI not on\n",
      "after: Quantum object: dims = [[2], [2]], shape = (2, 2), type = oper, isherm = True\n",
      "Qobj data =\n",
      "[[1. 0.]\n",
      " [0. 0.]]\n",
      "[<_5_The_Physical_Layer.qubit_carriers.qubit.Qubit object at 0x000002178DD41DC8>]\n",
      "creating new qubit\n",
      "creating new qubit in global state\n",
      "before: Quantum object: dims = [[2], [2]], shape = (2, 2), type = oper, isherm = True\n",
      "Qobj data =\n",
      "[[1. 0.]\n",
      " [0. 0.]]\n",
      "GUI not on\n",
      "after: Quantum object: dims = [[2, 2], [2, 2]], shape = (4, 4), type = oper, isherm = True\n",
      "Qobj data =\n",
      "[[1. 0. 0. 0.]\n",
      " [0. 0. 0. 0.]\n",
      " [0. 0. 0. 0.]\n",
      " [0. 0. 0. 0.]]\n",
      "[<_5_The_Physical_Layer.qubit_carriers.qubit.Qubit object at 0x000002178DD41DC8>, <_5_The_Physical_Layer.qubit_carriers.qubit.Qubit object at 0x000002178DD37FC8>]\n",
      "repeater is not wired to network\n",
      "assigned net id None\n",
      "creating new application\n",
      "creating new endnode\n",
      "creating endnode hardware\n",
      "creating new qubit\n",
      "creating new qubit in global state\n",
      "before: Quantum object: dims = [[2, 2], [2, 2]], shape = (4, 4), type = oper, isherm = True\n",
      "Qobj data =\n",
      "[[1. 0. 0. 0.]\n",
      " [0. 0. 0. 0.]\n",
      " [0. 0. 0. 0.]\n",
      " [0. 0. 0. 0.]]\n",
      "GUI not on\n",
      "after: Quantum object: dims = [[2, 2, 2], [2, 2, 2]], shape = (8, 8), type = oper, isherm = True\n",
      "Qobj data =\n",
      "[[1. 0. 0. 0. 0. 0. 0. 0.]\n",
      " [0. 0. 0. 0. 0. 0. 0. 0.]\n",
      " [0. 0. 0. 0. 0. 0. 0. 0.]\n",
      " [0. 0. 0. 0. 0. 0. 0. 0.]\n",
      " [0. 0. 0. 0. 0. 0. 0. 0.]\n",
      " [0. 0. 0. 0. 0. 0. 0. 0.]\n",
      " [0. 0. 0. 0. 0. 0. 0. 0.]\n",
      " [0. 0. 0. 0. 0. 0. 0. 0.]]\n",
      "[<_5_The_Physical_Layer.qubit_carriers.qubit.Qubit object at 0x000002178DD41DC8>, <_5_The_Physical_Layer.qubit_carriers.qubit.Qubit object at 0x000002178DD37FC8>, <_5_The_Physical_Layer.qubit_carriers.qubit.Qubit object at 0x000002178DD6E708>]\n",
      "creating new qubit\n",
      "creating new qubit in global state\n",
      "before: Quantum object: dims = [[2, 2, 2], [2, 2, 2]], shape = (8, 8), type = oper, isherm = True\n",
      "Qobj data =\n",
      "[[1. 0. 0. 0. 0. 0. 0. 0.]\n",
      " [0. 0. 0. 0. 0. 0. 0. 0.]\n",
      " [0. 0. 0. 0. 0. 0. 0. 0.]\n",
      " [0. 0. 0. 0. 0. 0. 0. 0.]\n",
      " [0. 0. 0. 0. 0. 0. 0. 0.]\n",
      " [0. 0. 0. 0. 0. 0. 0. 0.]\n",
      " [0. 0. 0. 0. 0. 0. 0. 0.]\n",
      " [0. 0. 0. 0. 0. 0. 0. 0.]]\n",
      "GUI not on\n",
      "after: Quantum object: dims = [[2, 2, 2, 2], [2, 2, 2, 2]], shape = (16, 16), type = oper, isherm = True\n",
      "Qobj data =\n",
      "[[1. 0. 0. 0. 0. 0. 0. 0. 0. 0. 0. 0. 0. 0. 0. 0.]\n",
      " [0. 0. 0. 0. 0. 0. 0. 0. 0. 0. 0. 0. 0. 0. 0. 0.]\n",
      " [0. 0. 0. 0. 0. 0. 0. 0. 0. 0. 0. 0. 0. 0. 0. 0.]\n",
      " [0. 0. 0. 0. 0. 0. 0. 0. 0. 0. 0. 0. 0. 0. 0. 0.]\n",
      " [0. 0. 0. 0. 0. 0. 0. 0. 0. 0. 0. 0. 0. 0. 0. 0.]\n",
      " [0. 0. 0. 0. 0. 0. 0. 0. 0. 0. 0. 0. 0. 0. 0. 0.]\n",
      " [0. 0. 0. 0. 0. 0. 0. 0. 0. 0. 0. 0. 0. 0. 0. 0.]\n",
      " [0. 0. 0. 0. 0. 0. 0. 0. 0. 0. 0. 0. 0. 0. 0. 0.]\n",
      " [0. 0. 0. 0. 0. 0. 0. 0. 0. 0. 0. 0. 0. 0. 0. 0.]\n",
      " [0. 0. 0. 0. 0. 0. 0. 0. 0. 0. 0. 0. 0. 0. 0. 0.]\n",
      " [0. 0. 0. 0. 0. 0. 0. 0. 0. 0. 0. 0. 0. 0. 0. 0.]\n",
      " [0. 0. 0. 0. 0. 0. 0. 0. 0. 0. 0. 0. 0. 0. 0. 0.]\n",
      " [0. 0. 0. 0. 0. 0. 0. 0. 0. 0. 0. 0. 0. 0. 0. 0.]\n",
      " [0. 0. 0. 0. 0. 0. 0. 0. 0. 0. 0. 0. 0. 0. 0. 0.]\n",
      " [0. 0. 0. 0. 0. 0. 0. 0. 0. 0. 0. 0. 0. 0. 0. 0.]\n",
      " [0. 0. 0. 0. 0. 0. 0. 0. 0. 0. 0. 0. 0. 0. 0. 0.]]\n",
      "[<_5_The_Physical_Layer.qubit_carriers.qubit.Qubit object at 0x000002178DD41DC8>, <_5_The_Physical_Layer.qubit_carriers.qubit.Qubit object at 0x000002178DD37FC8>, <_5_The_Physical_Layer.qubit_carriers.qubit.Qubit object at 0x000002178DD6E708>, <_5_The_Physical_Layer.qubit_carriers.qubit.Qubit object at 0x000002178DD419C8>]\n",
      "creating new application\n",
      "creating new endnode\n",
      "creating endnode hardware\n",
      "creating new qubit\n",
      "creating new qubit in global state\n",
      "before: Quantum object: dims = [[2, 2, 2, 2], [2, 2, 2, 2]], shape = (16, 16), type = oper, isherm = True\n",
      "Qobj data =\n",
      "[[1. 0. 0. 0. 0. 0. 0. 0. 0. 0. 0. 0. 0. 0. 0. 0.]\n",
      " [0. 0. 0. 0. 0. 0. 0. 0. 0. 0. 0. 0. 0. 0. 0. 0.]\n",
      " [0. 0. 0. 0. 0. 0. 0. 0. 0. 0. 0. 0. 0. 0. 0. 0.]\n",
      " [0. 0. 0. 0. 0. 0. 0. 0. 0. 0. 0. 0. 0. 0. 0. 0.]\n",
      " [0. 0. 0. 0. 0. 0. 0. 0. 0. 0. 0. 0. 0. 0. 0. 0.]\n",
      " [0. 0. 0. 0. 0. 0. 0. 0. 0. 0. 0. 0. 0. 0. 0. 0.]\n",
      " [0. 0. 0. 0. 0. 0. 0. 0. 0. 0. 0. 0. 0. 0. 0. 0.]\n",
      " [0. 0. 0. 0. 0. 0. 0. 0. 0. 0. 0. 0. 0. 0. 0. 0.]\n",
      " [0. 0. 0. 0. 0. 0. 0. 0. 0. 0. 0. 0. 0. 0. 0. 0.]\n",
      " [0. 0. 0. 0. 0. 0. 0. 0. 0. 0. 0. 0. 0. 0. 0. 0.]\n",
      " [0. 0. 0. 0. 0. 0. 0. 0. 0. 0. 0. 0. 0. 0. 0. 0.]\n",
      " [0. 0. 0. 0. 0. 0. 0. 0. 0. 0. 0. 0. 0. 0. 0. 0.]\n",
      " [0. 0. 0. 0. 0. 0. 0. 0. 0. 0. 0. 0. 0. 0. 0. 0.]\n",
      " [0. 0. 0. 0. 0. 0. 0. 0. 0. 0. 0. 0. 0. 0. 0. 0.]\n",
      " [0. 0. 0. 0. 0. 0. 0. 0. 0. 0. 0. 0. 0. 0. 0. 0.]\n",
      " [0. 0. 0. 0. 0. 0. 0. 0. 0. 0. 0. 0. 0. 0. 0. 0.]]\n",
      "GUI not on\n",
      "after: Quantum object: dims = [[2, 2, 2, 2, 2], [2, 2, 2, 2, 2]], shape = (32, 32), type = oper, isherm = True\n",
      "Qobj data =\n",
      "[[1. 0. 0. ... 0. 0. 0.]\n",
      " [0. 0. 0. ... 0. 0. 0.]\n",
      " [0. 0. 0. ... 0. 0. 0.]\n",
      " ...\n",
      " [0. 0. 0. ... 0. 0. 0.]\n",
      " [0. 0. 0. ... 0. 0. 0.]\n",
      " [0. 0. 0. ... 0. 0. 0.]]\n",
      "[<_5_The_Physical_Layer.qubit_carriers.qubit.Qubit object at 0x000002178DD41DC8>, <_5_The_Physical_Layer.qubit_carriers.qubit.Qubit object at 0x000002178DD37FC8>, <_5_The_Physical_Layer.qubit_carriers.qubit.Qubit object at 0x000002178DD6E708>, <_5_The_Physical_Layer.qubit_carriers.qubit.Qubit object at 0x000002178DD419C8>, <_5_The_Physical_Layer.qubit_carriers.qubit.Qubit object at 0x000002178DDAA808>]\n",
      "creating new qubit\n",
      "creating new qubit in global state\n",
      "before: Quantum object: dims = [[2, 2, 2, 2, 2], [2, 2, 2, 2, 2]], shape = (32, 32), type = oper, isherm = True\n",
      "Qobj data =\n",
      "[[1. 0. 0. ... 0. 0. 0.]\n",
      " [0. 0. 0. ... 0. 0. 0.]\n",
      " [0. 0. 0. ... 0. 0. 0.]\n",
      " ...\n",
      " [0. 0. 0. ... 0. 0. 0.]\n",
      " [0. 0. 0. ... 0. 0. 0.]\n",
      " [0. 0. 0. ... 0. 0. 0.]]\n",
      "GUI not on\n",
      "after: Quantum object: dims = [[2, 2, 2, 2, 2, 2], [2, 2, 2, 2, 2, 2]], shape = (64, 64), type = oper, isherm = True\n",
      "Qobj data =\n",
      "[[1. 0. 0. ... 0. 0. 0.]\n",
      " [0. 0. 0. ... 0. 0. 0.]\n",
      " [0. 0. 0. ... 0. 0. 0.]\n",
      " ...\n",
      " [0. 0. 0. ... 0. 0. 0.]\n",
      " [0. 0. 0. ... 0. 0. 0.]\n",
      " [0. 0. 0. ... 0. 0. 0.]]\n",
      "[<_5_The_Physical_Layer.qubit_carriers.qubit.Qubit object at 0x000002178DD41DC8>, <_5_The_Physical_Layer.qubit_carriers.qubit.Qubit object at 0x000002178DD37FC8>, <_5_The_Physical_Layer.qubit_carriers.qubit.Qubit object at 0x000002178DD6E708>, <_5_The_Physical_Layer.qubit_carriers.qubit.Qubit object at 0x000002178DD419C8>, <_5_The_Physical_Layer.qubit_carriers.qubit.Qubit object at 0x000002178DDAA808>, <_5_The_Physical_Layer.qubit_carriers.qubit.Qubit object at 0x000002178DDB5DC8>]\n"
     ]
    }
   ],
   "source": [
    "from application import Application\n",
    "from _2_The_Transport_Layer.quantum_internet import QuantumInternet\n",
    "\n",
    "qInternet = QuantumInternet(length=1)\n",
    "\n",
    "app1 = Application(\"Alice\")\n",
    "app2 = Application(\"Bob\")"
   ]
  },
  {
   "cell_type": "code",
   "execution_count": 41,
   "metadata": {},
   "outputs": [
    {
     "name": "stdout",
     "output_type": "stream",
     "text": [
      "not connected to the quantum internet\n"
     ]
    }
   ],
   "source": [
    "app1.send_qubit(\"Bob\")"
   ]
  },
  {
   "cell_type": "code",
   "execution_count": 42,
   "metadata": {},
   "outputs": [
    {
     "name": "stdout",
     "output_type": "stream",
     "text": [
      "connecting application (endnode) to quantum internet\n",
      "connecting endnode to repeater chain\n",
      "creating new cable\n",
      "creating new optical fiber\n",
      "connecting cable in endnode\n",
      "connecting fiber\n",
      "connecting left cable in repeater\n",
      "connecting left optical fiber\n",
      "assigned net id 0\n",
      "new user added to user table: {'Alice': <application.Application object at 0x000002178DD41808>}\n"
     ]
    }
   ],
   "source": [
    "qInternet.connect(app1)"
   ]
  },
  {
   "cell_type": "code",
   "execution_count": 43,
   "metadata": {},
   "outputs": [
    {
     "name": "stdout",
     "output_type": "stream",
     "text": [
      "connecting application (endnode) to quantum internet\n",
      "connecting endnode to repeater chain\n",
      "creating new cable\n",
      "creating new optical fiber\n",
      "connecting right cable in repeater\n",
      "connecting right optical fiber\n",
      "connecting cable in endnode\n",
      "connecting fiber\n",
      "assigned net id 2\n",
      "new user added to user table: {'Alice': <application.Application object at 0x000002178DD41808>, 'Bob': <application.Application object at 0x000002178DD37B88>}\n"
     ]
    }
   ],
   "source": [
    "qInternet.connect(app2)"
   ]
  },
  {
   "cell_type": "code",
   "execution_count": 44,
   "metadata": {},
   "outputs": [],
   "source": [
    "app1.send_qubit(\"Bob\")"
   ]
  },
  {
   "cell_type": "code",
   "execution_count": null,
   "metadata": {},
   "outputs": [],
   "source": []
  }
 ],
 "metadata": {
  "kernelspec": {
   "display_name": "Python 3",
   "language": "python",
   "name": "python3"
  },
  "language_info": {
   "codemirror_mode": {
    "name": "ipython",
    "version": 3
   },
   "file_extension": ".py",
   "mimetype": "text/x-python",
   "name": "python",
   "nbconvert_exporter": "python",
   "pygments_lexer": "ipython3",
   "version": "3.7.6"
  }
 },
 "nbformat": 4,
 "nbformat_minor": 2
}
