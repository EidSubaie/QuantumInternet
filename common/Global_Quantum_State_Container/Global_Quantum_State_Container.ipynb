{
 "cells": [
  {
   "cell_type": "markdown",
   "metadata": {},
   "source": [
    "To simulate the the dynamics of a quantum network we need to give the physical layer components in our code access to the state of the whole network [WHY?]\n",
    "\n",
    "We give it to the network layer. The hardware layer fetches it from there.\n",
    "\n",
    "Note that, in a sense, the global state is part of the physical layer [ELABORATE].\n",
    "\n",
    "The state is initialized in the $|\\underbrace{000\\ldots}_{\\text{n times}}\\rangle$ state. Note that it's a pure state.\n",
    "\n",
    "We use QuTip for simulation of quantum operations on the global quantum state of the network.\n",
    "\n",
    "We don't have to worry about race conditions right away because operations done on the global state are currently coming from different qubits, and the so the gates commute; i.e., it doesn't matter when qubit changes the state first -- as long as all the gates are executed the state should be correct.\n",
    "\n",
    "We use persistent photons: the photons we use to send stuff through optical fibers are properties of the opticalFiber object, and have corresponding qubits in the global state. We have two photons per optical fiber: a photon going to the right and a photon going to the left.\n",
    "\n",
    "We use that following convention for the order of the qubits in the global state: \n",
    "\n",
    "$$|0000 \\ldots\\rangle = |\\text{qubit photon photon qubit qubit photon photon qubit } \\ldots \\text{ photon photon qubit} \\rangle.$$\n",
    "\n",
    "Note that you can use any convention you want as long as you make consistent use of the qubit ids."
   ]
  },
  {
   "cell_type": "code",
   "execution_count": 1,
   "metadata": {},
   "outputs": [
    {
     "name": "stdout",
     "output_type": "stream",
     "text": [
      "Overwriting Global_Quantum_State_Container.py\n"
     ]
    }
   ],
   "source": [
    "%%writefile Global_Quantum_State_Container.py\n",
    "\n",
    "from qutip import *\n",
    "\n",
    "class globalState(object):\n",
    "    def __init__(self, N):\n",
    "        self.N = N # the number of qubits\n",
    "        self.M = N - 1 # this is the number of optical fibers\n",
    "        self.state = basis(2**(N + 2*self.M), 0) # everything starts in the |000..0> state.\n",
    "        \n",
    "    def updateState(self, newState):\n",
    "        self.state = newState\n",
    "        # UpdateGUI here and only here.\n",
    "        # Use the GUI as a global object\n",
    "        if !!GUI:\n",
    "            GUI.updateGUI()\n",
    "            \n",
    "    # schedule quantum gates and maps to make \n",
    "    # it like a circuit with everything in the right order.\n",
    "    # Do it with a queue like the GUI.\n",
    "  \n",
    "    def applyChannel(self, channel, qubitId):\n",
    "        # act with the channel on the appropritate qubit.\n",
    "        # qutip knows how to do this.\n",
    "\n",
    "    # returns the fidelity of the link between any two qubits in the network.\n",
    "    def fidelity(self, qubit1, qubit2):\n",
    "        pass\n",
    "    \n",
    "    def newQubit(self):\n",
    "        newState = tensor(basis(2,0) * basis(2,0).dag(), self.state)\n",
    "        self.updateState(newState)\n",
    "        return self.state.size"
   ]
  },
  {
   "cell_type": "code",
   "execution_count": null,
   "metadata": {},
   "outputs": [],
   "source": []
  }
 ],
 "metadata": {
  "kernelspec": {
   "display_name": "Python 3",
   "language": "python",
   "name": "python3"
  },
  "language_info": {
   "codemirror_mode": {
    "name": "ipython",
    "version": 3
   },
   "file_extension": ".py",
   "mimetype": "text/x-python",
   "name": "python",
   "nbconvert_exporter": "python",
   "pygments_lexer": "ipython3",
   "version": "3.7.6"
  }
 },
 "nbformat": 4,
 "nbformat_minor": 4
}
