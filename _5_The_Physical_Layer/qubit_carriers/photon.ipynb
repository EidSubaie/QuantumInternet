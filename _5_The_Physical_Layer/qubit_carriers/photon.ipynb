{
 "cells": [
  {
   "cell_type": "code",
   "execution_count": 1,
   "metadata": {},
   "outputs": [],
   "source": [
    "%load_ext autoreload\n",
    "%autoreload 2"
   ]
  },
  {
   "cell_type": "code",
   "execution_count": 1,
   "metadata": {},
   "outputs": [
    {
     "name": "stdout",
     "output_type": "stream",
     "text": [
      "Overwriting photon.py\n"
     ]
    }
   ],
   "source": [
    "%%writefile photon.py\n",
    "import sys\n",
    "\n",
    "sys.path.append(\"../..\")\n",
    "from common.global_state_container import global_state_container\n",
    "print(\"imported global_state_container module\", global_state_container)\n",
    "\n",
    "class Photon(object):\n",
    "    def __init__(self, parent_optical_fiber):\n",
    "        self.global_state = global_state_container.state\n",
    "        self.id = self.global_state.create_qubit()\n",
    "        self.parent_optical_fiber = parent_optical_fiber\n",
    "        \n",
    "    # reset the state of the photon to the pure |0> state. \n",
    "    # This should be done everytime the qubit is used, \n",
    "    # because in real experiments the photon is absorbed \n",
    "    # and we have to use a new photon.\n",
    "    def reset(self):               \n",
    "        # Resetting is non-trivial! If the qubit \n",
    "        # you are initialization /reseting is entangled with other \n",
    "        # qubits you can mess up, or more precisely, lose track, of \n",
    "        # the state of the other qubits. The other qubit becomes \n",
    "        # entangled with the environment, which we generally \n",
    "        # don't have access to.\n",
    "        pass "
   ]
  },
  {
   "cell_type": "code",
   "execution_count": null,
   "metadata": {},
   "outputs": [],
   "source": []
  }
 ],
 "metadata": {
  "kernelspec": {
   "display_name": "Python 3",
   "language": "python",
   "name": "python3"
  },
  "language_info": {
   "codemirror_mode": {
    "name": "ipython",
    "version": 3
   },
   "file_extension": ".py",
   "mimetype": "text/x-python",
   "name": "python",
   "nbconvert_exporter": "python",
   "pygments_lexer": "ipython3",
   "version": "3.7.6"
  }
 },
 "nbformat": 4,
 "nbformat_minor": 4
}
