{
 "cells": [
  {
   "cell_type": "markdown",
   "metadata": {},
   "source": [
    "qubit hardware (part of the physical layer). \n",
    "\n",
    "Qubits live inside repeaterHardware."
   ]
  },
  {
   "cell_type": "code",
   "execution_count": 1,
   "metadata": {},
   "outputs": [
    {
     "name": "stdout",
     "output_type": "stream",
     "text": [
      "Writing qubit.py\n"
     ]
    }
   ],
   "source": [
    "%%writefile qubit.py\n",
    "%load_ext autoreload\n",
    "%autoreload 2\n",
    "\n",
    "class qubit(object):\n",
    "    def __init__(id, state, decoherenceTime, parentRepeaterHardware):\n",
    "        self.id = id\n",
    "#         self.state = state # this is the partial state of that qubit We can measure this local in a real setting\n",
    "#         self.globalState = parentRepeaterHardware\n",
    "#                             .parentRepeater  \n",
    "#                             .parentRepeaterChain\n",
    "#                             .globalState # this is a central globalState object passed down from the Network layer.\n",
    "        global globalState\n",
    "        self.globalState = globalState\n",
    "        self.decoherenceTime = decoherenceTime\n",
    "        self.parentRepeaterHardware = parentRepeaterHardware\n",
    "        \n",
    "    # reset the state of the qubit to the pure |0> state.    \n",
    "    def reset(self):               \n",
    "        # Resetting is non-trivial! If the qubit \n",
    "        # you are initialization /reseting is entangled with other \n",
    "        # qubits you can mess up, or more precisely, lose track, of \n",
    "        # the state of the other qubits. The other qubit becomes \n",
    "        # entangled with the environment, which we generally \n",
    "        # don't have access to.\n",
    "        pass \n",
    "\n",
    "\n",
    "#     def applyChannel(self, channel):\n",
    "#         Global_Quantum_State_Container.applyChannel(channel)\n",
    "        \n",
    "\n",
    "\n",
    "    # move these sendMessage functions to an external function\n",
    "    # This function is a wire running from the qubit to the repeater hardware.\n",
    "    # Can we detect when a qubit has decohered?\n",
    "#     def sendMessage(self, obj, msg):\n",
    "#         obj.handleMessage(msg)\n",
    "        \n",
    "    def decohere(self): # decoherence should happen gradually. How can we do that?\n",
    "#         channel = rx(phi, N=globalState.N, target=self.id):  # note that the id of the qubit is its position in the chain\n",
    "        # apply decoherence map here\n",
    "        gate = tensor([identity(2) for _ in range(globalState.N)])\n",
    "        newState = gate * self.globalState.state * gate.dag()  # for now the map is a identity unitary gate\n",
    "        self.globalState.updateState(newState)\n",
    "\n",
    "#     while True:\n",
    "#         # gradually decohere. Do it in a thread.\n",
    "        # see whiteboard for the new way"
   ]
  }
 ],
 "metadata": {
  "kernelspec": {
   "display_name": "Python 3",
   "language": "python",
   "name": "python3"
  },
  "language_info": {
   "codemirror_mode": {
    "name": "ipython",
    "version": 3
   },
   "file_extension": ".py",
   "mimetype": "text/x-python",
   "name": "python",
   "nbconvert_exporter": "python",
   "pygments_lexer": "ipython3",
   "version": "3.7.6"
  }
 },
 "nbformat": 4,
 "nbformat_minor": 2
}
