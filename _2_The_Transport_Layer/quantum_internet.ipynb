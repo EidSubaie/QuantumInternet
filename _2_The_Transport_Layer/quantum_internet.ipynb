{
 "cells": [
  {
   "cell_type": "markdown",
   "metadata": {},
   "source": [
    "I am not sure exactly what this layer does yet.\n",
    "\n",
    "I am guessing it does quantum error correction and stuff."
   ]
  },
  {
   "cell_type": "code",
   "execution_count": null,
   "metadata": {},
   "outputs": [],
   "source": [
    "%load_ext autoreload\n",
    "%autoreload 2"
   ]
  },
  {
   "cell_type": "code",
   "execution_count": 2,
   "metadata": {},
   "outputs": [
    {
     "name": "stdout",
     "output_type": "stream",
     "text": [
      "Overwriting quantum_internet.py\n"
     ]
    }
   ],
   "source": [
    "%%writefile quantum_internet.py\n",
    "import sys\n",
    "\n",
    "sys.path.append(\"..\")\n",
    "from _3_The_Network_Layer.repeater_chain import RepeaterChain\n",
    "from common.global_state_container import global_state_container\n",
    "\n",
    "class QuantumInternet(object):\n",
    "    def __init__(self, length):\n",
    "        print(\"creating quantum internet\")\n",
    "#         self.parentApplication = parentApplication\n",
    "        global_state_container.init()\n",
    "        self.repeater_chain = RepeaterChain(length)\n",
    "        self.user_table = {} # for our 2 user network this table can have \n",
    "                            # at most 2 users. In front of each username goes the\n",
    "                            # user's application object (BB84 object).\n",
    "\n",
    "#     def requestLink(self, username, fidelity=0):\n",
    "#         msg = packLinkReady\n",
    "#         self.sendMessage(parentApplication, msg)\n",
    "#         pass \n",
    "        \n",
    "    def check_IsOnline(self, username):\n",
    "        return username in self.user_table\n",
    "        \n",
    "    def connect(self, application):\n",
    "        print(\"connecting application (endnode) to quantum internet\")\n",
    "        application.quantum_internet = self\n",
    "        self.repeater_chain.connect(application.endnode)\n",
    "        self.user_table.update({application.username : application})\n",
    "        print(\"new user added to user table:\", self.user_table)\n",
    "\n",
    "    def send_message(self, obj, msg):\n",
    "        obj.handle_message(msg)\n",
    "\n",
    "    def handle_message(self, msg):\n",
    "        if msg['msg'] == \"forward to user\":\n",
    "            msg['msg'] = \"msg from user\"\n",
    "            self.send_message(self.user_table[msg.receiver], msg)"
   ]
  },
  {
   "cell_type": "code",
   "execution_count": null,
   "metadata": {},
   "outputs": [],
   "source": []
  }
 ],
 "metadata": {
  "kernelspec": {
   "display_name": "Python 3",
   "language": "python",
   "name": "python3"
  },
  "language_info": {
   "codemirror_mode": {
    "name": "ipython",
    "version": 3
   },
   "file_extension": ".py",
   "mimetype": "text/x-python",
   "name": "python",
   "nbconvert_exporter": "python",
   "pygments_lexer": "ipython3",
   "version": "3.7.6"
  }
 },
 "nbformat": 4,
 "nbformat_minor": 2
}
