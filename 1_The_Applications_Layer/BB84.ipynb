{
 "cells": [
  {
   "cell_type": "markdown",
   "metadata": {},
   "source": [
    "Example application: BB84"
   ]
  },
  {
   "cell_type": "code",
   "execution_count": 2,
   "metadata": {},
   "outputs": [
    {
     "name": "stdout",
     "output_type": "stream",
     "text": [
      "Overwriting BB84.py\n"
     ]
    }
   ],
   "source": [
    "%%writefile BB84.py\n",
    "%load_ext autoreload\n",
    "%autoreload 2\n",
    "\n",
    "from ./ import application\n",
    "\n",
    "class BB84(application):\n",
    "    def __init__(quantumInternet):\n",
    "        super().__init__(quantumInternet, locationOnNetwork = 0)\n",
    "        \n",
    "    def teleportQubit(qubit, receiverId):\n",
    "        super().teleportQubit(qubit, receiverId)\n",
    "    \n",
    "    def onQubit(qubit): # a state has been teleported onto a local qubit.\n",
    "        pass\n",
    "    \n",
    "    def initiateKeyExchange(remoteUser):\n",
    "        \n",
    "        if success:\n",
    "            print(key)\n",
    "            \n",
    "        pass\n"
   ]
  }
 ],
 "metadata": {
  "kernelspec": {
   "display_name": "Python 3",
   "language": "python",
   "name": "python3"
  },
  "language_info": {
   "codemirror_mode": {
    "name": "ipython",
    "version": 3
   },
   "file_extension": ".py",
   "mimetype": "text/x-python",
   "name": "python",
   "nbconvert_exporter": "python",
   "pygments_lexer": "ipython3",
   "version": "3.7.4"
  }
 },
 "nbformat": 4,
 "nbformat_minor": 2
}
