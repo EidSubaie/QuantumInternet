{
 "cells": [
  {
   "cell_type": "markdown",
   "metadata": {},
   "source": [
    "Users who want to use the quantum internet can buy an `endnodeHardware` unit and connect it to their quantum internet cable at home.\n",
    "\n",
    "[May be move this paragraph somewhere else, because it talks about the layers above.]\n",
    "Each `endnodeHardware` unit comes with software preinstalled that talks to rest of the layers of the quantum internet stack via the quantum internet cable. So what the users buy at the store is not just the `endnodeHardware` unit but also the software on top of it --- the sales people at the [COOL NAME FOR COMPANY THAT MAKES DEVICE] market the different iterations of this device with colorful names like [COOL NAME]."
   ]
  },
  {
   "cell_type": "code",
   "execution_count": null,
   "metadata": {},
   "outputs": [],
   "source": [
    "%load_ext autoreload\n",
    "%autoreload 2"
   ]
  },
  {
   "cell_type": "code",
   "execution_count": null,
   "metadata": {},
   "outputs": [],
   "source": [
    "%%writefile endnode_hardware.py\n",
    "import sys\n",
    "import math\n",
    "import random\n",
    "from qutip import *\n",
    "\n",
    "sys.path.append(\"../..\")\n",
    "from _5_The_Physical_Layer.qubit_carriers.qubit import Qubit\n",
    "print(\"imported Qubit object\", Qubit)\n",
    "from _5_The_Physical_Layer.qubit_carriers.photon import Photon\n",
    "print(\"imported Photon object\", Photon)\n",
    "\n",
    "from common.global_state_container import global_state_container\n",
    "\n",
    "class EndnodeHardware(object):\n",
    "    def __init__(self, parent_endnode, qubits=1):\n",
    "        print(\"creating endnode hardware\")\n",
    "#         self.id = None\n",
    "        self.parent_endnode = parent_endnode\n",
    "        self.global_state = global_state_container.state\n",
    "        self.qubit = Qubit(self)\n",
    "        self.fiber = None                                          \n",
    "#         self.memoryQubits = []\n",
    "\n",
    "    def connect_fiber(self, fiber):\n",
    "        print(\"connecting fiber\")\n",
    "        self.fiber = fiber\n",
    "        fiber.connect_node_hardware(self)\n",
    "\n",
    "    def send_message(self, obj, msg):\n",
    "        obj.handleMessage(msg)\n",
    "\n",
    "    def handle_message(self, msg):\n",
    "#         msg = msg.split('-')\n",
    "#         # id of the sender\n",
    "#         id = msg[0]\n",
    "#         if msg[1] == \"decohered\":\n",
    "#             # notify the link layer\n",
    "#             msg2 = packLinkExpired(#specify which link expired#)\n",
    "#             self.send_message(self.parent_endnode, msg2)\n",
    "        return\n",
    "\n",
    "    def measure(self, qubit, axis = \"01\"):\n",
    "        print(\"measuring qubit in endnode hardware\")\n",
    "        # https://inst.eecs.berkeley.edu/~cs191/fa14/lectures/lecture10.pdf\n",
    "        rho = self.global_state.state\n",
    "        # construct the projectors\n",
    "        P0 = tensor([identity(2) for _ in range(qubit.id)] + \n",
    "                    [basis(2,0) * basis(2,0).dag()] + \n",
    "                    [identity(2) for _ in range(qubit.id + 1, int(math.log2(self.global_state.state.shape[0])))])\n",
    "        P1 = tensor([identity(2) for _ in range(qubit.id)] + \n",
    "                    [basis(2,1) * basis(2,0).dag()] + \n",
    "                    [identity(2) for _ in range(qubit.id + 1, int(math.log2(self.global_state.state.shape[0])))])\n",
    "        # compute the probabilities of the 1 and 0 outcomes\n",
    "        p0 = (P0 * rho).tr()\n",
    "        p1 = (P1 * rho).tr() # check that p1 = 1 - p0\n",
    "        # choose an outcome at random using the probabilities above.\n",
    "        result = 0 if random.random() < p0 else 1\n",
    "        # simulate state collapse\n",
    "        new_state = P0 * rho * P0 / p0 if result == 0 else P1 * rho * P1 / p1\n",
    "        # update globalState\n",
    "        self.global_state.update_state(new_state)\n",
    "        # return the measurement result\n",
    "        return result\n",
    "\n",
    "    def load_qubit_on_photon(self, qubit, photon):  # both qubit and photon are qubit objects\n",
    "        print(\"loading data from local qubit onto photon\")\n",
    "        # swaps the state of the photon and the local qubit \n",
    "        # (the photon should be initialized to |0>. The initialization \n",
    "        # can be noisy).\n",
    "        SWAP = swap(N=int(math.log2(self.global_state.state.shape[0])), targets=[qubit.id-1, photon.id-1])\n",
    "        new_state = SWAP * self.global_state.state * SWAP.dag()\n",
    "        self.global_state.update_state(new_state)\n",
    "\n",
    "    def send_photon_through_fiber(self, photon, fiber):\n",
    "        fiber.carry_photon(photon, self)\n",
    "\n",
    "    def receive_photon_from_fiber(self, photon, fiber):\n",
    "        print(\"endnode hardware receiving photon\")\n",
    "        # This function is called by an optical fiber to\n",
    "        # alert the repeaterHardware to receive the incoming photon.\n",
    "        # The repeaterHardware chooses a (physical) qubit on which to unload the \n",
    "        # qubit carried on the photon.\n",
    "        self.unload_qubit_from_photon(self.qubit, photon) # confusing names.\n",
    "        \n",
    "    def unload_qubit_from_photon(self, qubit, photon):\n",
    "        print(\"unloading data from photon onto local qubit\")\n",
    "        # swaps the state of the photon and the local qubit \n",
    "        # (the local qubit should be initialized to |0>. The initialization \n",
    "        # can be noisy). \n",
    "        SWAP = swap(N=int(math.log2(self.global_state.state.shape[0])), targets=[qubit.id-1, photon.id-1])\n",
    "        new_state = SWAP * self.global_state.state * SWAP.dag()\n",
    "        self.global_state.update_state(new_state)\n",
    "        # notify the layers above that a qubit was received.\n",
    "        msg = {'msg' : \"received qubit\",  # this is the standard. Document it somewhere.\n",
    "               'sender' : self.fiber.node2 if self == self.fiber.node1 else self.fiber.node1, \n",
    "               'receiver' : self}\n",
    "        if self.parent_endnode:\n",
    "            self.send_message(self.parent_endnode, msg)\n",
    "        photon.destroy()\n",
    "\n",
    "    def attempt_link_creation(self, remote_node):\n",
    "        # remote is a repeater object.\n",
    "        # here the physical details of link creation will be implemented:\n",
    "        # 1. create EPR pair. Store one half locally and load the other on a photon.\n",
    "        # 2. send the photon to the remote receiver.\n",
    "        self.qubit.reset()\n",
    "        photon = Photon()\n",
    "        Z180 = rz(180, N=int(math.log2(self.global_state.state.shape[0])), target=self.qubit.id-1)\n",
    "        Y90  = ry(90, N=int(math.log2(self.global_state.state.shape[0])), target=self.qubit.id-1)\n",
    "        H = Y90 * Z180\n",
    "        new_state = H * self.global_state.state * H.dag()\n",
    "        CNOT = cnot(N=int(math.log2(self.global_state.state.shape[0])), control=self.qubit.id-1, target=photon.id-1)\n",
    "        new_state = CNOT * new_state * CNOT.dag()\n",
    "        self.global_state.update_state(new_state)\n",
    "        self.send_photon_through_fiber(photon, self.fiber)\n",
    "        # 3. (for later) check somehow that we have a good link.\n",
    "        # support for heralding stations and photon transmission, etc.\n",
    "\n",
    "    def attempt_distillation(self):\n",
    "        # apply gates on the qubits here\n",
    "        return"
   ]
  },
  {
   "cell_type": "markdown",
   "metadata": {},
   "source": [
    "# Tests"
   ]
  },
  {
   "cell_type": "markdown",
   "metadata": {},
   "source": [
    "### Two EndnodeHardware objects send photons between each other"
   ]
  },
  {
   "cell_type": "code",
   "execution_count": null,
   "metadata": {},
   "outputs": [],
   "source": [
    "from qutip import *\n",
    "\n",
    "from endnode_hardware import EndnodeHardware\n",
    "from _5_The_Physical_Layer.optical_fiber.optical_fiber import OpticalFiber\n",
    "from _5_The_Physical_Layer.qubit_carriers.photon import Photon\n",
    "\n",
    "from common.global_state_container import global_state_container\n",
    "\n",
    "global_state_container.init()\n",
    "\n",
    "node1 = EndnodeHardware(parent_endnode=None)\n",
    "node2 = EndnodeHardware(parent_endnode=None)\n",
    "\n",
    "fiber = OpticalFiber()\n",
    "node1.connect_fiber(fiber)\n",
    "node2.connect_fiber(fiber)\n",
    "\n",
    "node1.send_photon_through_fiber(Photon(), fiber)"
   ]
  },
  {
   "cell_type": "markdown",
   "metadata": {},
   "source": [
    "### Two EndnodeHardware objects create entanglement between each other"
   ]
  },
  {
   "cell_type": "code",
   "execution_count": null,
   "metadata": {},
   "outputs": [],
   "source": [
    "node1.attempt_link_creation(node2)"
   ]
  },
  {
   "cell_type": "code",
   "execution_count": null,
   "metadata": {},
   "outputs": [],
   "source": [
    "global_state_container.state.state"
   ]
  },
  {
   "cell_type": "markdown",
   "metadata": {},
   "source": [
    "### Unloading qubit from photon."
   ]
  },
  {
   "cell_type": "code",
   "execution_count": null,
   "metadata": {},
   "outputs": [],
   "source": [
    "node1.unload_qubit_from_photon(node1.qubit, Photon())"
   ]
  },
  {
   "cell_type": "code",
   "execution_count": null,
   "metadata": {},
   "outputs": [],
   "source": [
    "node1.measure(node1.qubit)"
   ]
  },
  {
   "cell_type": "code",
   "execution_count": null,
   "metadata": {},
   "outputs": [],
   "source": []
  }
 ],
 "metadata": {
  "kernelspec": {
   "display_name": "Python 3",
   "language": "python",
   "name": "python3"
  },
  "language_info": {
   "codemirror_mode": {
    "name": "ipython",
    "version": 3
   },
   "file_extension": ".py",
   "mimetype": "text/x-python",
   "name": "python",
   "nbconvert_exporter": "python",
   "pygments_lexer": "ipython3",
   "version": "3.7.6"
  }
 },
 "nbformat": 4,
 "nbformat_minor": 4
}
