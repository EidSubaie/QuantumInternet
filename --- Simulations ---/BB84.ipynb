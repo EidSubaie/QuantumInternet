{
 "cells": [
  {
   "cell_type": "code",
   "execution_count": 3,
   "metadata": {},
   "outputs": [],
   "source": [
    "%load_ext autoreload\n",
    "%autoreload 2"
   ]
  },
  {
   "cell_type": "code",
   "execution_count": 4,
   "metadata": {
    "tags": []
   },
   "outputs": [
    {
     "output_type": "stream",
     "name": "stdout",
     "text": "imported Qubit object\nimported global_state_container module <module 'common.global_state_container.global_state_container' from '..\\\\common\\\\global_state_container\\\\global_state_container.py'>\nimported Photon object\nimported RepeaterHardware object <class '_5_The_Physical_Layer.node_hardware.repeater_hardware.RepeaterHardware'>\nimported Link object <class '_4_The_Link_Layer.link.Link'>\nimported Repeater object <class '_4_The_Link_Layer.repeater.Repeater'>\nimported OpticalFiber object <class '_5_The_Physical_Layer.optical_fiber.optical_fiber.OpticalFiber'>\nimported Cable object <class '_4_The_Link_Layer.cable.Cable'>\nimported Qubit object <class '_5_The_Physical_Layer.qubit_carriers.qubit.Qubit'>\nimported Photon object <class '_5_The_Physical_Layer.qubit_carriers.photon.Photon'>\nimported EndnodeHardware object <class '_5_The_Physical_Layer.node_hardware.endnode_hardware.EndnodeHardware'>\nimported Link object <class '_4_The_Link_Layer.link.Link'>\ncreating quantum internet\ncreating new repeater chain\ncreating new repeater\ncreating new repeater hardware\ncreating new qubit\ncreating new qubit in global state\nbefore: None\nGUI not on\nafter: Quantum object: dims = [[2], [2]], shape = (2, 2), type = oper, isherm = True\nQobj data =\n[[1. 0.]\n [0. 0.]]\n[<_5_The_Physical_Layer.qubit_carriers.qubit.Qubit object at 0x00000243D1134C08>]\ncreating new qubit\ncreating new qubit in global state\nbefore: Quantum object: dims = [[2], [2]], shape = (2, 2), type = oper, isherm = True\nQobj data =\n[[1. 0.]\n [0. 0.]]\nGUI not on\nafter: Quantum object: dims = [[2, 2], [2, 2]], shape = (4, 4), type = oper, isherm = True\nQobj data =\n[[1. 0. 0. 0.]\n [0. 0. 0. 0.]\n [0. 0. 0. 0.]\n [0. 0. 0. 0.]]\n[<_5_The_Physical_Layer.qubit_carriers.qubit.Qubit object at 0x00000243D1134C08>, <_5_The_Physical_Layer.qubit_carriers.qubit.Qubit object at 0x00000243D11392C8>]\ncreating new repeater\ncreating new repeater hardware\ncreating new qubit\ncreating new qubit in global state\nbefore: Quantum object: dims = [[2, 2], [2, 2]], shape = (4, 4), type = oper, isherm = True\nQobj data =\n[[1. 0. 0. 0.]\n [0. 0. 0. 0.]\n [0. 0. 0. 0.]\n [0. 0. 0. 0.]]\nGUI not on\nafter: Quantum object: dims = [[2, 2, 2], [2, 2, 2]], shape = (8, 8), type = oper, isherm = True\nQobj data =\n[[1. 0. 0. 0. 0. 0. 0. 0.]\n [0. 0. 0. 0. 0. 0. 0. 0.]\n [0. 0. 0. 0. 0. 0. 0. 0.]\n [0. 0. 0. 0. 0. 0. 0. 0.]\n [0. 0. 0. 0. 0. 0. 0. 0.]\n [0. 0. 0. 0. 0. 0. 0. 0.]\n [0. 0. 0. 0. 0. 0. 0. 0.]\n [0. 0. 0. 0. 0. 0. 0. 0.]]\n[<_5_The_Physical_Layer.qubit_carriers.qubit.Qubit object at 0x00000243D1134C08>, <_5_The_Physical_Layer.qubit_carriers.qubit.Qubit object at 0x00000243D11392C8>, <_5_The_Physical_Layer.qubit_carriers.qubit.Qubit object at 0x00000243D1A6BFC8>]\ncreating new qubit\ncreating new qubit in global state\nbefore: Quantum object: dims = [[2, 2, 2], [2, 2, 2]], shape = (8, 8), type = oper, isherm = True\nQobj data =\n[[1. 0. 0. 0. 0. 0. 0. 0.]\n [0. 0. 0. 0. 0. 0. 0. 0.]\n [0. 0. 0. 0. 0. 0. 0. 0.]\n [0. 0. 0. 0. 0. 0. 0. 0.]\n [0. 0. 0. 0. 0. 0. 0. 0.]\n [0. 0. 0. 0. 0. 0. 0. 0.]\n [0. 0. 0. 0. 0. 0. 0. 0.]\n [0. 0. 0. 0. 0. 0. 0. 0.]]\nGUI not on\nafter: Quantum object: dims = [[2, 2, 2, 2], [2, 2, 2, 2]], shape = (16, 16), type = oper, isherm = True\nQobj data =\n[[1. 0. 0. 0. 0. 0. 0. 0. 0. 0. 0. 0. 0. 0. 0. 0.]\n [0. 0. 0. 0. 0. 0. 0. 0. 0. 0. 0. 0. 0. 0. 0. 0.]\n [0. 0. 0. 0. 0. 0. 0. 0. 0. 0. 0. 0. 0. 0. 0. 0.]\n [0. 0. 0. 0. 0. 0. 0. 0. 0. 0. 0. 0. 0. 0. 0. 0.]\n [0. 0. 0. 0. 0. 0. 0. 0. 0. 0. 0. 0. 0. 0. 0. 0.]\n [0. 0. 0. 0. 0. 0. 0. 0. 0. 0. 0. 0. 0. 0. 0. 0.]\n [0. 0. 0. 0. 0. 0. 0. 0. 0. 0. 0. 0. 0. 0. 0. 0.]\n [0. 0. 0. 0. 0. 0. 0. 0. 0. 0. 0. 0. 0. 0. 0. 0.]\n [0. 0. 0. 0. 0. 0. 0. 0. 0. 0. 0. 0. 0. 0. 0. 0.]\n [0. 0. 0. 0. 0. 0. 0. 0. 0. 0. 0. 0. 0. 0. 0. 0.]\n [0. 0. 0. 0. 0. 0. 0. 0. 0. 0. 0. 0. 0. 0. 0. 0.]\n [0. 0. 0. 0. 0. 0. 0. 0. 0. 0. 0. 0. 0. 0. 0. 0.]\n [0. 0. 0. 0. 0. 0. 0. 0. 0. 0. 0. 0. 0. 0. 0. 0.]\n [0. 0. 0. 0. 0. 0. 0. 0. 0. 0. 0. 0. 0. 0. 0. 0.]\n [0. 0. 0. 0. 0. 0. 0. 0. 0. 0. 0. 0. 0. 0. 0. 0.]\n [0. 0. 0. 0. 0. 0. 0. 0. 0. 0. 0. 0. 0. 0. 0. 0.]]\n[<_5_The_Physical_Layer.qubit_carriers.qubit.Qubit object at 0x00000243D1134C08>, <_5_The_Physical_Layer.qubit_carriers.qubit.Qubit object at 0x00000243D11392C8>, <_5_The_Physical_Layer.qubit_carriers.qubit.Qubit object at 0x00000243D1A6BFC8>, <_5_The_Physical_Layer.qubit_carriers.qubit.Qubit object at 0x00000243D1856DC8>]\ncreating new repeater\ncreating new repeater hardware\ncreating new qubit\ncreating new qubit in global state\nbefore: Quantum object: dims = [[2, 2, 2, 2], [2, 2, 2, 2]], shape = (16, 16), type = oper, isherm = True\nQobj data =\n[[1. 0. 0. 0. 0. 0. 0. 0. 0. 0. 0. 0. 0. 0. 0. 0.]\n [0. 0. 0. 0. 0. 0. 0. 0. 0. 0. 0. 0. 0. 0. 0. 0.]\n [0. 0. 0. 0. 0. 0. 0. 0. 0. 0. 0. 0. 0. 0. 0. 0.]\n [0. 0. 0. 0. 0. 0. 0. 0. 0. 0. 0. 0. 0. 0. 0. 0.]\n [0. 0. 0. 0. 0. 0. 0. 0. 0. 0. 0. 0. 0. 0. 0. 0.]\n [0. 0. 0. 0. 0. 0. 0. 0. 0. 0. 0. 0. 0. 0. 0. 0.]\n [0. 0. 0. 0. 0. 0. 0. 0. 0. 0. 0. 0. 0. 0. 0. 0.]\n [0. 0. 0. 0. 0. 0. 0. 0. 0. 0. 0. 0. 0. 0. 0. 0.]\n [0. 0. 0. 0. 0. 0. 0. 0. 0. 0. 0. 0. 0. 0. 0. 0.]\n [0. 0. 0. 0. 0. 0. 0. 0. 0. 0. 0. 0. 0. 0. 0. 0.]\n [0. 0. 0. 0. 0. 0. 0. 0. 0. 0. 0. 0. 0. 0. 0. 0.]\n [0. 0. 0. 0. 0. 0. 0. 0. 0. 0. 0. 0. 0. 0. 0. 0.]\n [0. 0. 0. 0. 0. 0. 0. 0. 0. 0. 0. 0. 0. 0. 0. 0.]\n [0. 0. 0. 0. 0. 0. 0. 0. 0. 0. 0. 0. 0. 0. 0. 0.]\n [0. 0. 0. 0. 0. 0. 0. 0. 0. 0. 0. 0. 0. 0. 0. 0.]\n [0. 0. 0. 0. 0. 0. 0. 0. 0. 0. 0. 0. 0. 0. 0. 0.]]\nGUI not on\nafter: Quantum object: dims = [[2, 2, 2, 2, 2], [2, 2, 2, 2, 2]], shape = (32, 32), type = oper, isherm = True\nQobj data =\n[[1. 0. 0. ... 0. 0. 0.]\n [0. 0. 0. ... 0. 0. 0.]\n [0. 0. 0. ... 0. 0. 0.]\n ...\n [0. 0. 0. ... 0. 0. 0.]\n [0. 0. 0. ... 0. 0. 0.]\n [0. 0. 0. ... 0. 0. 0.]]\n[<_5_The_Physical_Layer.qubit_carriers.qubit.Qubit object at 0x00000243D1134C08>, <_5_The_Physical_Layer.qubit_carriers.qubit.Qubit object at 0x00000243D11392C8>, <_5_The_Physical_Layer.qubit_carriers.qubit.Qubit object at 0x00000243D1A6BFC8>, <_5_The_Physical_Layer.qubit_carriers.qubit.Qubit object at 0x00000243D1856DC8>, <_5_The_Physical_Layer.qubit_carriers.qubit.Qubit object at 0x00000243D197A8C8>]\ncreating new qubit\ncreating new qubit in global state\nbefore: Quantum object: dims = [[2, 2, 2, 2, 2], [2, 2, 2, 2, 2]], shape = (32, 32), type = oper, isherm = True\nQobj data =\n[[1. 0. 0. ... 0. 0. 0.]\n [0. 0. 0. ... 0. 0. 0.]\n [0. 0. 0. ... 0. 0. 0.]\n ...\n [0. 0. 0. ... 0. 0. 0.]\n [0. 0. 0. ... 0. 0. 0.]\n [0. 0. 0. ... 0. 0. 0.]]\nGUI not on\nafter: Quantum object: dims = [[2, 2, 2, 2, 2, 2], [2, 2, 2, 2, 2, 2]], shape = (64, 64), type = oper, isherm = True\nQobj data =\n[[1. 0. 0. ... 0. 0. 0.]\n [0. 0. 0. ... 0. 0. 0.]\n [0. 0. 0. ... 0. 0. 0.]\n ...\n [0. 0. 0. ... 0. 0. 0.]\n [0. 0. 0. ... 0. 0. 0.]\n [0. 0. 0. ... 0. 0. 0.]]\n[<_5_The_Physical_Layer.qubit_carriers.qubit.Qubit object at 0x00000243D1134C08>, <_5_The_Physical_Layer.qubit_carriers.qubit.Qubit object at 0x00000243D11392C8>, <_5_The_Physical_Layer.qubit_carriers.qubit.Qubit object at 0x00000243D1A6BFC8>, <_5_The_Physical_Layer.qubit_carriers.qubit.Qubit object at 0x00000243D1856DC8>, <_5_The_Physical_Layer.qubit_carriers.qubit.Qubit object at 0x00000243D197A8C8>, <_5_The_Physical_Layer.qubit_carriers.qubit.Qubit object at 0x00000243D1A6BC88>]\ncreating new cable\ncreating new optical fiber\nconnecting right cable in repeater\nconnecting right optical fiber\nassigned net id 1\ncreating new cable\ncreating new optical fiber\nconnecting right cable in repeater\nconnecting right optical fiber\nconnecting left cable in repeater\nconnecting left optical fiber\nassigned net id 2\nconnecting left cable in repeater\nconnecting left optical fiber\nassigned net id 3\n"
    }
   ],
   "source": [
    "import sys\n",
    "\n",
    "sys.path.append(\"..\")\n",
    "# from common.GUI.GUI import GUI\n",
    "from _2_The_Transport_Layer.quantum_internet import QuantumInternet\n",
    "from _1_The_Applications_Layer.BB84 import BB84\n",
    "\n",
    "# Humans build a quantum internet. It is a linear chain of 3 repeaters\n",
    "# and it supports only two end users.\n",
    "qInternet = QuantumInternet(length=3)"
   ]
  },
  {
   "cell_type": "code",
   "execution_count": 5,
   "metadata": {
    "tags": []
   },
   "outputs": [
    {
     "output_type": "stream",
     "name": "stdout",
     "text": "creating new application\ncreating new endnode\ncreating endnode hardware\ncreating new qubit\ncreating new qubit in global state\nbefore: Quantum object: dims = [[2, 2, 2, 2, 2, 2], [2, 2, 2, 2, 2, 2]], shape = (64, 64), type = oper, isherm = True\nQobj data =\n[[1. 0. 0. ... 0. 0. 0.]\n [0. 0. 0. ... 0. 0. 0.]\n [0. 0. 0. ... 0. 0. 0.]\n ...\n [0. 0. 0. ... 0. 0. 0.]\n [0. 0. 0. ... 0. 0. 0.]\n [0. 0. 0. ... 0. 0. 0.]]\nGUI not on\nafter: Quantum object: dims = [[2, 2, 2, 2, 2, 2, 2], [2, 2, 2, 2, 2, 2, 2]], shape = (128, 128), type = oper, isherm = True\nQobj data =\n[[1. 0. 0. ... 0. 0. 0.]\n [0. 0. 0. ... 0. 0. 0.]\n [0. 0. 0. ... 0. 0. 0.]\n ...\n [0. 0. 0. ... 0. 0. 0.]\n [0. 0. 0. ... 0. 0. 0.]\n [0. 0. 0. ... 0. 0. 0.]]\n[<_5_The_Physical_Layer.qubit_carriers.qubit.Qubit object at 0x00000243D1134C08>, <_5_The_Physical_Layer.qubit_carriers.qubit.Qubit object at 0x00000243D11392C8>, <_5_The_Physical_Layer.qubit_carriers.qubit.Qubit object at 0x00000243D1A6BFC8>, <_5_The_Physical_Layer.qubit_carriers.qubit.Qubit object at 0x00000243D1856DC8>, <_5_The_Physical_Layer.qubit_carriers.qubit.Qubit object at 0x00000243D197A8C8>, <_5_The_Physical_Layer.qubit_carriers.qubit.Qubit object at 0x00000243D1A6BC88>, <_5_The_Physical_Layer.qubit_carriers.qubit.Qubit object at 0x00000243D1A7D388>]\ncreating new qubit\ncreating new qubit in global state\nbefore: Quantum object: dims = [[2, 2, 2, 2, 2, 2, 2], [2, 2, 2, 2, 2, 2, 2]], shape = (128, 128), type = oper, isherm = True\nQobj data =\n[[1. 0. 0. ... 0. 0. 0.]\n [0. 0. 0. ... 0. 0. 0.]\n [0. 0. 0. ... 0. 0. 0.]\n ...\n [0. 0. 0. ... 0. 0. 0.]\n [0. 0. 0. ... 0. 0. 0.]\n [0. 0. 0. ... 0. 0. 0.]]\nGUI not on\nafter: Quantum object: dims = [[2, 2, 2, 2, 2, 2, 2, 2], [2, 2, 2, 2, 2, 2, 2, 2]], shape = (256, 256), type = oper, isherm = True\nQobj data =\n[[1. 0. 0. ... 0. 0. 0.]\n [0. 0. 0. ... 0. 0. 0.]\n [0. 0. 0. ... 0. 0. 0.]\n ...\n [0. 0. 0. ... 0. 0. 0.]\n [0. 0. 0. ... 0. 0. 0.]\n [0. 0. 0. ... 0. 0. 0.]]\n[<_5_The_Physical_Layer.qubit_carriers.qubit.Qubit object at 0x00000243D1134C08>, <_5_The_Physical_Layer.qubit_carriers.qubit.Qubit object at 0x00000243D11392C8>, <_5_The_Physical_Layer.qubit_carriers.qubit.Qubit object at 0x00000243D1A6BFC8>, <_5_The_Physical_Layer.qubit_carriers.qubit.Qubit object at 0x00000243D1856DC8>, <_5_The_Physical_Layer.qubit_carriers.qubit.Qubit object at 0x00000243D197A8C8>, <_5_The_Physical_Layer.qubit_carriers.qubit.Qubit object at 0x00000243D1A6BC88>, <_5_The_Physical_Layer.qubit_carriers.qubit.Qubit object at 0x00000243D1A7D388>, <_5_The_Physical_Layer.qubit_carriers.qubit.Qubit object at 0x00000243D1A6BE48>]\nconnecting application (endnode) to quantum internet\nconnecting endnode to repeater chain\ncreating new cable\ncreating new optical fiber\nconnecting cable in endnode\nconnecting fiber\nconnecting left cable in repeater\nconnecting left optical fiber\nassigned net id 0\nnew user added to user table: {'Alice': <_1_The_Applications_Layer.BB84.BB84 object at 0x00000243CE79F288>}\n"
    }
   ],
   "source": [
    "# Alice, an eminent cryptologist at Star Fleet academy, has acquired\n",
    "# one of the new and popular BB84 machines. A BB84 machine allows any\n",
    "# two users to perform BB84 key exchange over the quantum internet\n",
    "# that humans have just built. \n",
    "# Alice starts her machine, then connects it to the quantum internet cable coming\n",
    "# out of her wall.\n",
    "BB84Alice = BB84(username = \"Alice\")\n",
    "qInternet.connect(BB84Alice)\n",
    "\n",
    "#               _,,,_\n",
    "#             .'     `'.\n",
    "#            /     ____ \\\n",
    "#           |    .'_  _\\/\n",
    "#           /    ) a  a|         .----.\n",
    "#          /    (    > |        /|     '--.\n",
    "#         (      ) ._  /        ||    ]|   `-.\n",
    "#         )    _/-.__.'`\\       ||    ]|    ::|\n",
    "#        (  .-'`-.   \\__ )      ||    ]|    ::|\n",
    "#         `/      `-./  `.      ||    ]|    ::|\n",
    "#        _ |    \\      \\  \\     \\|    ]|   .-'\n",
    "#       / \\|     \\   \\  \\  \\     L.__  .--'(\n",
    "#      |   |\\     `. /  /   \\  ,---|_      \\---------,\n",
    "#      |   `\\'.     '. /`\\   \\/ .--._|=-    |_      /|\n",
    "#      |     \\ '.     '._ './`\\/ .-'          '.   / |\n",
    "#      |     |   `'.     `;-:-;`)|             |-./  |\n",
    "#      |    /_      `'--./_  ` )/'-------------')/)  |\n",
    "#      \\   | `\"\"\"\"----\"`\\//`\"\"`/,===..'`````````/ (  |\n",
    "#       |  |            / `---` `==='          /   ) |\n",
    "#       /  \\           /                      /   (  |\n",
    "#      |    '------.  |'--------------------'|     ) |\n",
    "#       \\           `-|                      |    /  |\n",
    "#        `--...,______|                      |   (   |\n",
    "#               | |   |                      |    ) ,|\n",
    "#               | |   |                      |   ( /||\n",
    "#               | |   |                      |   )/ `\"\n",
    "#              /   \\  |                      |  (/\n",
    "#        jgs .' /I\\ '.|                      |  /)\n",
    "#         .-'_.'/ \\'. |                      | /\n",
    "#         ```  `\"\"\"` `| .-------------------.||\n",
    "#                     `\"`                   `\"`"
   ]
  },
  {
   "cell_type": "code",
   "execution_count": 6,
   "metadata": {
    "tags": []
   },
   "outputs": [
    {
     "output_type": "stream",
     "name": "stdout",
     "text": "creating new application\ncreating new endnode\ncreating endnode hardware\ncreating new qubit\ncreating new qubit in global state\nbefore: Quantum object: dims = [[2, 2, 2, 2, 2, 2, 2, 2], [2, 2, 2, 2, 2, 2, 2, 2]], shape = (256, 256), type = oper, isherm = True\nQobj data =\n[[1. 0. 0. ... 0. 0. 0.]\n [0. 0. 0. ... 0. 0. 0.]\n [0. 0. 0. ... 0. 0. 0.]\n ...\n [0. 0. 0. ... 0. 0. 0.]\n [0. 0. 0. ... 0. 0. 0.]\n [0. 0. 0. ... 0. 0. 0.]]\nGUI not on\nafter: Quantum object: dims = [[2, 2, 2, 2, 2, 2, 2, 2, 2], [2, 2, 2, 2, 2, 2, 2, 2, 2]], shape = (512, 512), type = oper, isherm = True\nQobj data =\n[[1. 0. 0. ... 0. 0. 0.]\n [0. 0. 0. ... 0. 0. 0.]\n [0. 0. 0. ... 0. 0. 0.]\n ...\n [0. 0. 0. ... 0. 0. 0.]\n [0. 0. 0. ... 0. 0. 0.]\n [0. 0. 0. ... 0. 0. 0.]]\n[<_5_The_Physical_Layer.qubit_carriers.qubit.Qubit object at 0x00000243D1134C08>, <_5_The_Physical_Layer.qubit_carriers.qubit.Qubit object at 0x00000243D11392C8>, <_5_The_Physical_Layer.qubit_carriers.qubit.Qubit object at 0x00000243D1A6BFC8>, <_5_The_Physical_Layer.qubit_carriers.qubit.Qubit object at 0x00000243D1856DC8>, <_5_The_Physical_Layer.qubit_carriers.qubit.Qubit object at 0x00000243D197A8C8>, <_5_The_Physical_Layer.qubit_carriers.qubit.Qubit object at 0x00000243D1A6BC88>, <_5_The_Physical_Layer.qubit_carriers.qubit.Qubit object at 0x00000243D1A7D388>, <_5_The_Physical_Layer.qubit_carriers.qubit.Qubit object at 0x00000243D1A6BE48>, <_5_The_Physical_Layer.qubit_carriers.qubit.Qubit object at 0x00000243D1A77548>]\ncreating new qubit\ncreating new qubit in global state\nbefore: Quantum object: dims = [[2, 2, 2, 2, 2, 2, 2, 2, 2], [2, 2, 2, 2, 2, 2, 2, 2, 2]], shape = (512, 512), type = oper, isherm = True\nQobj data =\n[[1. 0. 0. ... 0. 0. 0.]\n [0. 0. 0. ... 0. 0. 0.]\n [0. 0. 0. ... 0. 0. 0.]\n ...\n [0. 0. 0. ... 0. 0. 0.]\n [0. 0. 0. ... 0. 0. 0.]\n [0. 0. 0. ... 0. 0. 0.]]\nGUI not on\nafter: Quantum object: dims = [[2, 2, 2, 2, 2, 2, 2, 2, 2, 2], [2, 2, 2, 2, 2, 2, 2, 2, 2, 2]], shape = (1024, 1024), type = oper, isherm = True\nQobj data =\n[[1. 0. 0. ... 0. 0. 0.]\n [0. 0. 0. ... 0. 0. 0.]\n [0. 0. 0. ... 0. 0. 0.]\n ...\n [0. 0. 0. ... 0. 0. 0.]\n [0. 0. 0. ... 0. 0. 0.]\n [0. 0. 0. ... 0. 0. 0.]]\n[<_5_The_Physical_Layer.qubit_carriers.qubit.Qubit object at 0x00000243D1134C08>, <_5_The_Physical_Layer.qubit_carriers.qubit.Qubit object at 0x00000243D11392C8>, <_5_The_Physical_Layer.qubit_carriers.qubit.Qubit object at 0x00000243D1A6BFC8>, <_5_The_Physical_Layer.qubit_carriers.qubit.Qubit object at 0x00000243D1856DC8>, <_5_The_Physical_Layer.qubit_carriers.qubit.Qubit object at 0x00000243D197A8C8>, <_5_The_Physical_Layer.qubit_carriers.qubit.Qubit object at 0x00000243D1A6BC88>, <_5_The_Physical_Layer.qubit_carriers.qubit.Qubit object at 0x00000243D1A7D388>, <_5_The_Physical_Layer.qubit_carriers.qubit.Qubit object at 0x00000243D1A6BE48>, <_5_The_Physical_Layer.qubit_carriers.qubit.Qubit object at 0x00000243D1A77548>, <_5_The_Physical_Layer.qubit_carriers.qubit.Qubit object at 0x00000243CE6BBF08>]\nconnecting application (endnode) to quantum internet\nconnecting endnode to repeater chain\ncreating new cable\ncreating new optical fiber\nconnecting right cable in repeater\nconnecting right optical fiber\nconnecting cable in endnode\nconnecting fiber\nassigned net id 4\nnew user added to user table: {'Alice': <_1_The_Applications_Layer.BB84.BB84 object at 0x00000243CE79F288>, 'Bob': <_1_The_Applications_Layer.BB84.BB84 object at 0x00000243D1A773C8>}\n"
    }
   ],
   "source": [
    "# Bob, Alice's half-Vulcan half-brother, lives four federation cities away \n",
    "# from Alice. He bought the BB84 machine because Alice really wanted \n",
    "# to try it and he felt it would be a good opportunity for them to do \n",
    "# something fun together.\n",
    "# Bob starts his machine, then connects it to the quantum internet \n",
    "# cable in his wall.\n",
    "BB84Bob = BB84(username = \"Bob\")\n",
    "qInternet.connect(BB84Bob)\n",
    "\n",
    "#               :                                 :       \n",
    "#             :                                   :       \n",
    "#             :  RRVIttIti+==iiii++iii++=;:,       :      \n",
    "#             : IBMMMMWWWWMMMMMBXXVVYYIi=;:,        :     \n",
    "#             : tBBMMMWWWMMMMMMBXXXVYIti;;;:,,      :     \n",
    "#             t YXIXBMMWMMBMBBRXVIi+==;::;::::       ,    \n",
    "#            ;t IVYt+=+iIIVMBYi=:,,,=i+=;:::::,      ;;   \n",
    "#            YX=YVIt+=,,:=VWBt;::::=,,:::;;;:;:     ;;;   \n",
    "#            VMiXRttItIVRBBWRi:.tXXVVYItiIi==;:   ;;;;    \n",
    "#            =XIBWMMMBBBMRMBXi;,tXXRRXXXVYYt+;;: ;;;;;    \n",
    "#             =iBWWMMBBMBBWBY;;;,YXRRRRXXVIi;;;:;,;;;=    \n",
    "#              iXMMMMMWWBMWMY+;=+IXRRXXVYIi;:;;:,,;;=     \n",
    "#              iBRBBMMMMYYXV+:,:;+XRXXVIt+;;:;++::;;;     \n",
    "#              =MRRRBMMBBYtt;::::;+VXVIi=;;;:;=+;;;;=     \n",
    "#               XBRBBBBBMMBRRVItttYYYYt=;;;;;;==:;=       \n",
    "#                VRRRRRBRRRRXRVYYIttiti=::;:::=;=         \n",
    "#                 YRRRRXXVIIYIiitt+++ii=:;:::;==          \n",
    "#                 +XRRXIIIIYVVI;i+=;=tt=;::::;:;          \n",
    "#                  tRRXXVYti++==;;;=iYt;:::::,;;          \n",
    "#                   IXRRXVVVVYYItiitIIi=:::;,::;          \n",
    "#                    tVXRRRBBRXVYYYIti;::::,::::          \n",
    "#                     YVYVYYYYYItti+=:,,,,,:::::;         \n",
    "#                     YRVI+==;;;;;:,,,,,,,:::::::"
   ]
  },
  {
   "cell_type": "code",
   "execution_count": 6,
   "metadata": {},
   "outputs": [
    {
     "output_type": "error",
     "ename": "TypeError",
     "evalue": "send_qubit() missing 2 required positional arguments: 'qubit' and 'remote_user'",
     "traceback": [
      "\u001b[1;31m---------------------------------------------------------------------------\u001b[0m",
      "\u001b[1;31mTypeError\u001b[0m                                 Traceback (most recent call last)",
      "\u001b[1;32m<ipython-input-6-8b53d8475c9f>\u001b[0m in \u001b[0;36m<module>\u001b[1;34m\u001b[0m\n\u001b[0;32m      3\u001b[0m \u001b[1;31m# start with a little test. Let me try to send you\u001b[0m\u001b[1;33m\u001b[0m\u001b[1;33m\u001b[0m\u001b[1;33m\u001b[0m\u001b[0m\n\u001b[0;32m      4\u001b[0m \u001b[1;31m# a qubit. I am going to send you the |0> state.\u001b[0m\u001b[1;33m\u001b[0m\u001b[1;33m\u001b[0m\u001b[1;33m\u001b[0m\u001b[0m\n\u001b[1;32m----> 5\u001b[1;33m \u001b[0mBB84Alice\u001b[0m\u001b[1;33m.\u001b[0m\u001b[0msend_qubit\u001b[0m\u001b[1;33m(\u001b[0m\u001b[1;33m)\u001b[0m\u001b[1;33m\u001b[0m\u001b[1;33m\u001b[0m\u001b[0m\n\u001b[0m",
      "\u001b[1;31mTypeError\u001b[0m: send_qubit() missing 2 required positional arguments: 'qubit' and 'remote_user'"
     ]
    }
   ],
   "source": [
    "# * Alice and Bob on the phone *\n",
    "# Alice: looks like everything's connected. Let's\n",
    "# start with a little test. Let me try to send you \n",
    "# a qubit. I am going to send you the |0> state.\n",
    "BB84Alice.send_qubit()"
   ]
  },
  {
   "cell_type": "code",
   "execution_count": null,
   "metadata": {},
   "outputs": [],
   "source": [
    "# Alice: Ok, ready!\n",
    "# Bob: I am ready, as well.\n",
    "# Alice: I am going to initiate the key exchange ... now!\n",
    "BB84Alice.initiate_key_exchange(\"Bob\")"
   ]
  }
 ],
 "metadata": {
  "kernelspec": {
   "display_name": "Python 3.7.6 64-bit ('base': conda)",
   "language": "python",
   "name": "python_defaultSpec_1597082515967"
  },
  "language_info": {
   "codemirror_mode": {
    "name": "ipython",
    "version": 3
   },
   "file_extension": ".py",
   "mimetype": "text/x-python",
   "name": "python",
   "nbconvert_exporter": "python",
   "pygments_lexer": "ipython3",
   "version": "3.7.6-final"
  }
 },
 "nbformat": 4,
 "nbformat_minor": 2
}