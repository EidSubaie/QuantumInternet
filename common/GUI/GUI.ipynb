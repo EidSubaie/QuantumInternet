{
 "cells": [
  {
   "cell_type": "markdown",
   "metadata": {},
   "source": [
    "GUI is not finished yet"
   ]
  },
  {
   "cell_type": "code",
   "execution_count": 39,
   "metadata": {},
   "outputs": [
    {
     "name": "stdout",
     "output_type": "stream",
     "text": [
      "Overwriting GUI.py\n"
     ]
    }
   ],
   "source": [
    "%%writefile GUI.py\n",
    "\n",
    "from IPython.display import clear_output\n",
    "\n",
    "class GUI(object):\n",
    "    def __init__(self):\n",
    "        self.request_queue = []\n",
    "        self.busy = False\n",
    "        self.shutdown_flag = False\n",
    "        self.message = \"\"\n",
    "        \n",
    "    def draw_state(self, state):\n",
    "        t1 = \"\"\n",
    "        t2 = \"\"\n",
    "        s = \"\"\n",
    "        for i in range(len(state)):\n",
    "#             s = s + \"r\" + \"[\" + str(i+1) + \"]\"\n",
    "            s = s + \"r\"\n",
    "            if i < len(state) - 1:\n",
    "                if int(state[i]) == i + 1:\n",
    "                    s += \" ---- \"\n",
    "                    t1 += \"  \" + \"    \" + \" \"\n",
    "                    t2 += \"  \" + \"    \" + \" \"\n",
    "                else:\n",
    "                    s += \"      \"\n",
    "                    if state[i] != -1:\n",
    "                        t1 += \" /\" + (int(state[i])-i-1) * (\"    \" + \"   \") + \"    \" + \"\\\\\"\n",
    "                        t2 += \"  \" + (int(state[i])-i-1) * (\"----\" + \"---\") + \"----\" + \" \"\n",
    "                    else: \n",
    "                        t1 += \"  \" + \"    \" + \" \"\n",
    "                        t2 += \"  \" + \"    \" + \" \"\n",
    "#         if int(state[0]) == len(state)-1:\n",
    "#             s += \"       Success!\"\n",
    "        clear_output(wait = True)\n",
    "        print(t2)\n",
    "        print(t1)\n",
    "        print(s)\n",
    "        if self.message != \"\":\n",
    "            print(\"message: \", self.message)\n",
    "        if self.shutdown_flag:\n",
    "            print(\"shutting down GUI ...\")\n",
    "        \n",
    "    def update_gui(self, repeater_chain):\n",
    "        snapshot = self.pack_snapshot(repeater_chain)\n",
    "        self.request_queue.append(snapshot)\n",
    "        if self.busy == False and self.shutdown_flag == False:\n",
    "            self.get_busy()\n",
    "#             threading.Thread(target = self.get_busy, args = ()).start()\n",
    "        \n",
    "    def get_busy(self):\n",
    "        self.busy = True\n",
    "        while len(self.request_queue) > 0:\n",
    "            new_state = self.request_queue.pop(0)\n",
    "            self.draw_state(new_state)\n",
    "        self.busy = False \n",
    "        \n",
    "    def set_message(self, message):\n",
    "        self.message = message\n",
    "        \n",
    "    # Says which link each link is connected to.\n",
    "    def pack_snapshot(self, repeater_chain):\n",
    "        snapshot = []  \n",
    "        for repeater in repeater_chain.repeaters:\n",
    "            if repeater.rightNode is not None:\n",
    "                snapshot.append(repeater.rightNode.id)\n",
    "            else:\n",
    "                # -1 means it's not linked to any repeaters.\n",
    "                snapshot.append(-1)\n",
    "#         print(snapshot)\n",
    "        return snapshot\n",
    "        \n",
    "    def shutdown(self):\n",
    "        print(\"shutting down GUI ...\")\n",
    "        self.shutdown_flag = True"
   ]
  },
  {
   "cell_type": "code",
   "execution_count": null,
   "metadata": {},
   "outputs": [],
   "source": []
  }
 ],
 "metadata": {
  "kernelspec": {
   "display_name": "Python 3",
   "language": "python",
   "name": "python3"
  },
  "language_info": {
   "codemirror_mode": {
    "name": "ipython",
    "version": 3
   },
   "file_extension": ".py",
   "mimetype": "text/x-python",
   "name": "python",
   "nbconvert_exporter": "python",
   "pygments_lexer": "ipython3",
   "version": "3.7.4"
  }
 },
 "nbformat": 4,
 "nbformat_minor": 2
}
