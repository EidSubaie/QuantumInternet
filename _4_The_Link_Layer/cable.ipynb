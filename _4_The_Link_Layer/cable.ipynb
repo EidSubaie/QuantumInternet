{
 "cells": [
  {
   "cell_type": "markdown",
   "metadata": {},
   "source": [
    "`cable` is a link layer level object. Right now it's just a wrapper (in the software sense of the word) around opticalFiber, which is a physical layer object. "
   ]
  },
  {
   "cell_type": "code",
   "execution_count": 5,
   "metadata": {},
   "outputs": [],
   "source": [
    "%load_ext autoreload\n",
    "%autoreload 2"
   ]
  },
  {
   "cell_type": "code",
   "execution_count": 10,
   "metadata": {},
   "outputs": [
    {
     "name": "stdout",
     "output_type": "stream",
     "text": [
      "Overwriting cable.py\n"
     ]
    }
   ],
   "source": [
    "%%writefile cable.py\n",
    "import sys\n",
    "\n",
    "sys.path.append(\"..\")\n",
    "from _5_The_Physical_Layer.optical_fiber.optical_fiber import OpticalFiber\n",
    "print(\"imported OpticalFiber object\", OpticalFiber)\n",
    "\n",
    "class Cable(object):\n",
    "    def __init__(self, node1, node2):\n",
    "        print(\"creating new cable\")\n",
    "        self.id = None\n",
    "        # node1 and node2 are repeater objects (link layer)\n",
    "        self.node1 = node1\n",
    "        self.node2 = node2\n",
    "        self.optical_fiber = OpticalFiber(node1.hardware, node2.hardware) "
   ]
  },
  {
   "cell_type": "code",
   "execution_count": null,
   "metadata": {},
   "outputs": [],
   "source": []
  }
 ],
 "metadata": {
  "kernelspec": {
   "display_name": "Python 3",
   "language": "python",
   "name": "python3"
  },
  "language_info": {
   "codemirror_mode": {
    "name": "ipython",
    "version": 3
   },
   "file_extension": ".py",
   "mimetype": "text/x-python",
   "name": "python",
   "nbconvert_exporter": "python",
   "pygments_lexer": "ipython3",
   "version": "3.7.6"
  }
 },
 "nbformat": 4,
 "nbformat_minor": 4
}
