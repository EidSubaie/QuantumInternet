{
 "cells": [
  {
   "cell_type": "markdown",
   "metadata": {},
   "source": [
    "Optical fibers are used to transmit photons around, e.g., between repeaters.\n",
    "\n",
    "Physically, a photon passing through an optical fiber can be modelled by a quantum channel acting on the state of the qubit.\n",
    "\n",
    "The optical fiber is used in this scenario: repeater 1 wants to share entanglement with repeater 2. So repeater 1 prepares an EPR pair locally, then sends one half of the pair to repeater 2 through the quantum channel that models the passage of a photon through the fiber. The channel is applied to the qubit (in the global state container) in the function `carryQubit` below. For now we model the photon transmission by an identity map for simplicity until the simualtor is built up a bit."
   ]
  },
  {
   "cell_type": "code",
   "execution_count": 4,
   "metadata": {},
   "outputs": [
    {
     "name": "stdout",
     "output_type": "stream",
     "text": [
      "Overwriting optical_fiber.py\n"
     ]
    }
   ],
   "source": [
    "%%writefile optical_fiber.py\n",
    "import sys\n",
    "\n",
    "sys.path.append(\"..\")\n",
    "from common.global_state_container import global_state_container\n",
    "from ..qubit_carriers.photon import Photon\n",
    "\n",
    "class OpticalFiber(object):\n",
    "    def __init__(self, node1, node2, length=1):\n",
    "        self.global_state = global_state_container.state\n",
    "#         self.id = None\n",
    "        # The length of the fiber.\n",
    "        self.length = length\n",
    "        # The two nodes at the two ends of the fiber.\n",
    "        # A node can be a repeaterHardware, an end node, a heralding station, \n",
    "        # etc. For now it's a repeaterHardware object for simplicity.\n",
    "        self.node1 = node1\n",
    "        self.node2 = node2\n",
    "        self.photon12 = Photon(self)   # this is the photon going from node 1 to node 2\n",
    "        self.photon21 = Photon(self)\n",
    "\n",
    "    def carry_photon(self, photon, sender, receiver):  # Here there will be a quantum channel applied to the state\n",
    "        # apply channel here\n",
    "        # for now make it the identity channel\n",
    "        gate = tensor([identity(2) for _ in range(self.global_state.N)])\n",
    "        new_state = gate * self.global_state.state * gate.dag()  # for now the map is a identity unitary gate\n",
    "        self.global_state.update_state(new_state)\n",
    "        # send output state to the receiver\n",
    "        receiver.receive_photon()"
   ]
  },
  {
   "cell_type": "markdown",
   "metadata": {},
   "source": [
    "A channel that can be used to model an optical fiber is the Gaussian bosonic channel [CITATION NEEDED]. The capacity of this channel is ..."
   ]
  },
  {
   "cell_type": "code",
   "execution_count": null,
   "metadata": {},
   "outputs": [],
   "source": []
  }
 ],
 "metadata": {
  "kernelspec": {
   "display_name": "Python 3",
   "language": "python",
   "name": "python3"
  },
  "language_info": {
   "codemirror_mode": {
    "name": "ipython",
    "version": 3
   },
   "file_extension": ".py",
   "mimetype": "text/x-python",
   "name": "python",
   "nbconvert_exporter": "python",
   "pygments_lexer": "ipython3",
   "version": "3.7.6"
  }
 },
 "nbformat": 4,
 "nbformat_minor": 2
}
