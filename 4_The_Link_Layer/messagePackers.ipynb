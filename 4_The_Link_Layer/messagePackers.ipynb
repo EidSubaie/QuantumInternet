{
 "cells": [
  {
   "cell_type": "markdown",
   "metadata": {},
   "source": [
    "swap messages format:           str(idOfSender) + \"-swap\" + \"-success\"(or \"-failure\") + \"-fidelity\" + \"-\" + str(fidelity)\n",
    "\n",
    "link request messages format:   str(idOfSender) + \"-link-request\"\n",
    "\n",
    "link accept messages format :   str(idOfSender) + \"-link\" + \"-accept\"(or \"-deny\")\n",
    "\n"
   ]
  },
  {
   "cell_type": "code",
   "execution_count": 1,
   "metadata": {},
   "outputs": [
    {
     "name": "stdout",
     "output_type": "stream",
     "text": [
      "Writing messagePackers.py\n"
     ]
    }
   ],
   "source": [
    "%%writefile messagePackers.py\n",
    "%load_ext autoreload\n",
    "%autoreload 2\n",
    "\n",
    "def packSwapResult(success, fidelity):\n",
    "    return \"swap-\" + success + \"-fidelity\" + \"-\" + str(fidelity)\n",
    "\n",
    "def packLinkCreationSuccess(success, fidelity):\n",
    "    return \"link-\" + success + \"-fidelity\" + \"-\" + str(fidelity)\n",
    "\n",
    "def packLinkRequest(repeaterId):\n",
    "    return repeaterId + \"-link-request\"\n",
    "\n",
    "def packLinkRequestDeny(repeaterId):\n",
    "    return repeaterId + \"-link-deny\"\n",
    "\n",
    "def packLinkRequestAccept(repeaterId):\n",
    "    return repeaterId + \"-link-accept\"\n",
    "\n",
    "def packLinkExpired(id):\n",
    "    return id + \"-link-expired\"\n",
    "\n",
    "def packQubitDecohered(qubitId):\n",
    "    return qubitId + \"-decohered\""
   ]
  }
 ],
 "metadata": {
  "kernelspec": {
   "display_name": "Python 3",
   "language": "python",
   "name": "python3"
  },
  "language_info": {
   "codemirror_mode": {
    "name": "ipython",
    "version": 3
   },
   "file_extension": ".py",
   "mimetype": "text/x-python",
   "name": "python",
   "nbconvert_exporter": "python",
   "pygments_lexer": "ipython3",
   "version": "3.7.4"
  }
 },
 "nbformat": 4,
 "nbformat_minor": 2
}
