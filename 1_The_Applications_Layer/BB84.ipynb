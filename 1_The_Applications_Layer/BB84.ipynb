{
 "cells": [
  {
   "cell_type": "markdown",
   "metadata": {},
   "source": [
    "Example application: BB84\n",
    "\n",
    "Possible improvements in the next iteration:\n",
    "\n",
    "- add information reconciliation and privacy amplification steps."
   ]
  },
  {
   "cell_type": "code",
   "execution_count": 1,
   "metadata": {},
   "outputs": [
    {
     "name": "stdout",
     "output_type": "stream",
     "text": [
      "Overwriting BB84.py\n"
     ]
    }
   ],
   "source": [
    "%%writefile BB84.py\n",
    "%load_ext autoreload\n",
    "%autoreload 2\n",
    "\n",
    "from random import SystemRandom\n",
    "\n",
    "from ./ import application\n",
    "\n",
    "class BB84(application):\n",
    "    def __init__(self, quantumInternet, username):\n",
    "        super().__init__(quantumInternet, username)\n",
    "        self.RNG = SystemRandom() # a high quality random number generator\n",
    "\n",
    "    def teleportQubit(qubit, remoteUser):\n",
    "        super().teleportQubit(qubit, remoteUser)\n",
    "\n",
    "    def onQubit(qubit): # a state has been teleported onto a local qubit.\n",
    "        measure # that's why you need to create an endNode object in the link layer.\n",
    "        pass\n",
    "\n",
    "    def initiateKeyExchange(self, remoteUser, noOfBits=10):\n",
    "        # check that the user is connected to the network.\n",
    "        if !self.quantumInternet.checkIsOnline(remoteUser):\n",
    "            return\n",
    "        basisBits = self.randomBits(noOfBits)\n",
    "        keyBits = self.randomBits(noOfBits)\n",
    "        for (key,basis) in zip(keyBits,basisBits):\n",
    "            if basis == 0:\n",
    "                self.teleportQubit(basis(2,key))\n",
    "            else:\n",
    "                self.teleportQubit(H * basis(2,key))\n",
    "            # wait for the remoteUser to acknowledge receipt and measurement\n",
    "\n",
    "    def sendBases(self, remoteUser, basisBits):\n",
    "        msg = {'msg' : \"forward to user\",\n",
    "               'sender' : this.username, \n",
    "               'receiver' : remoteUser,\n",
    "               'type' : \"basis bits,\"\n",
    "               'data' : basisBits}\n",
    "        self.sendMessage(self.quantumInternet, msg)\n",
    "\n",
    "    def sendMessage(self, obj, msg):\n",
    "        obj.handleMessage(msg)\n",
    "\n",
    "    def handleMessage(self, msg):\n",
    "        if msg['msg'] == \"msg from user\":\n",
    "            if msg['type'] == \"basis bits\":\n",
    "                self.handleReceivedBases(msg['data'])\n",
    "\n",
    "    def handleReceivedBases(self, bases):\n",
    "        prunedKeyBits = []\n",
    "        for i in range(len(bases)):\n",
    "            if bases[i] == basisBits[i]:\n",
    "                prunedKeyBits.append(keyBits[i])\n",
    "        self.handleExchangeComplete()\n",
    "        \n",
    "    def handleExchangeComplete(self)\n",
    "        print(key)\n",
    "\n",
    "    def checkIfEve(self, prunedKeyBits):\n",
    "        # tests some bits of the key at random to check\n",
    "        # if there was an eavesdropper.\n",
    "        pass\n",
    "\n",
    "    def randomBits(self, noOfBits):\n",
    "        return [self.RNG.randrange(2) for i in range(noOfBits)]"
   ]
  },
  {
   "cell_type": "code",
   "execution_count": null,
   "metadata": {},
   "outputs": [],
   "source": []
  }
 ],
 "metadata": {
  "kernelspec": {
   "display_name": "Python 3",
   "language": "python",
   "name": "python3"
  },
  "language_info": {
   "codemirror_mode": {
    "name": "ipython",
    "version": 3
   },
   "file_extension": ".py",
   "mimetype": "text/x-python",
   "name": "python",
   "nbconvert_exporter": "python",
   "pygments_lexer": "ipython3",
   "version": "3.7.6"
  }
 },
 "nbformat": 4,
 "nbformat_minor": 2
}
