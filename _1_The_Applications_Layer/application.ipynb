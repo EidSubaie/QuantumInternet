{
 "cells": [
  {
   "cell_type": "markdown",
   "metadata": {},
   "source": [
    "An application has access to a quantum internet object.\n",
    "\n",
    "The application can ask the quantum internet for a link with a given user with given specs, like fidelity.\n",
    "\n",
    "endnode is the node the application is running on"
   ]
  },
  {
   "cell_type": "code",
   "execution_count": 1,
   "metadata": {},
   "outputs": [],
   "source": [
    "%load_ext autoreload\n",
    "%autoreload 2"
   ]
  },
  {
   "cell_type": "code",
   "execution_count": 2,
   "metadata": {},
   "outputs": [
    {
     "name": "stdout",
     "output_type": "stream",
     "text": [
      "Overwriting application.py\n"
     ]
    }
   ],
   "source": [
    "%%writefile application.py\n",
    "import sys\n",
    "\n",
    "sys.path.append(\"..\")\n",
    "from _4_The_Link_Layer.endnode import Endnode\n",
    "\n",
    "class Application(object): # this code runs on the user's PQC (personal quantum computer)\n",
    "    def __init__(self, username = None):\n",
    "        print(\"creating new application\")\n",
    "        self.quantum_internet = None\n",
    "        self.username = username\n",
    "        self.endnode = Endnode()\n",
    "        self.endnode.parent_application = self\n",
    "\n",
    "    def send_qubit(self, qubit, remote_user):\n",
    "        self.quantum_internet.send_qubit(qubit, self.username, remote_user)\n",
    "\n",
    "    def receive_qubit(self, qubit):\n",
    "        pass"
   ]
  },
  {
   "cell_type": "code",
   "execution_count": null,
   "metadata": {},
   "outputs": [],
   "source": []
  }
 ],
 "metadata": {
  "kernelspec": {
   "display_name": "Python 3",
   "language": "python",
   "name": "python3"
  },
  "language_info": {
   "codemirror_mode": {
    "name": "ipython",
    "version": 3
   },
   "file_extension": ".py",
   "mimetype": "text/x-python",
   "name": "python",
   "nbconvert_exporter": "python",
   "pygments_lexer": "ipython3",
   "version": "3.7.6"
  }
 },
 "nbformat": 4,
 "nbformat_minor": 2
}
