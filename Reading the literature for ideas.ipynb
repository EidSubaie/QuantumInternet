{
 "cells": [
  {
   "cell_type": "markdown",
   "metadata": {},
   "source": [
    "### Shortcuts to quantum network routing ([arxiv.org/pdf/1610.05238.pdf](https://arxiv.org/pdf/1610.05238.pdf))\n",
    "\n",
    "    ..."
   ]
  },
  {
   "cell_type": "markdown",
   "metadata": {},
   "source": [
    "..."
   ]
  },
  {
   "cell_type": "markdown",
   "metadata": {},
   "source": [
    "#### Quantum network coding --- a whole other approach\n",
    "\"Another line of quantum research considers quantum network coding (see e.g. [[Epping2016](https://arxiv.org/abs/1605.08384)]). We remark that in this context, the term routing is in the quantum literature sometimes taken synonymous to\n",
    "network coding [[Pirandola2016](https://arxiv.org/abs/1601.00966)]. **As in classical networks, network coding can outperform routing when trying to maximize the flow of information through a quantum network - albeit at the expense of requiring much more complex quantum operations.** On the one hand, work in this area has an information-theoretic flavor in which limits to network flows are derived in terms of quantum capacities [[Wilde2011](https://arxiv.org/abs/1106.1445)]. These works are of great appeal to establish the ultimate limits of transmitting quantum information. We remark that of course achieving the capacities does in general require a full blown quantum computer, and indeed it is known that even arbitrarily\n",
    "large block sizes (and hence quantum computers and memories) are required to achieve some capacities of quantum channels [[Cubitt2015](https://arxiv.org/abs/1408.5115)].\""
   ]
  },
  {
   "cell_type": "markdown",
   "metadata": {},
   "source": [
    "#### Is this paper useful to us?\n",
    "\n",
    "It will come in handy when we start thinking about non-linear networks. It uses graph theory in the analysis.\n",
    "\n",
    "It assumes repeaters have the ability to store qubits so they can be later forwarded. We should write repeaters that can do that at some point."
   ]
  },
  {
   "cell_type": "markdown",
   "metadata": {},
   "source": [
    " ------------------------"
   ]
  },
  {
   "cell_type": "markdown",
   "metadata": {},
   "source": [
    "### Entanglement Percolation in Quantum Networks ([arxiv.org/pdf/quant-ph/0612167.pdf](https://arxiv.org/pdf/quant-ph/0612167.pdf))\n",
    "\n",
    "    Studies how entanglement spreads (or percolates) in a repeater chain. Takes inspiration from percolation theory.\n",
    "    \n",
    "\"A general network may be characterized by a quantum state, $\\rho$, shared by the different nodes. The goal is then: given two nodes, $A$ and $B$, find the measurements to be performed in the nodes, assisted with classical communication, such that A and B share a maximally entangled state, or singlet, with maximal probability. We call this probability the singlet conversion probability (SCP).\n",
    "\n",
    "We focus on the SCP because of its operational meaning. These quantities cannot be determined in general, given that they require the optimization over all possible measurements in the different nodes, which is a formidable task even for small\n",
    "networks.\"\n",
    "\n",
    "     The optimization mentioned is that of finding the protocol that achieves the quantum capacity of the channel between A and B. This is also what \"maximize the flow of information through a quantum network\" in the previous section refers to.\n",
    "     \n",
    "     Although the optimization problem is difficult, we can still try to find upper bounds on the quantum capacity --- like in arxiv.org/pdf/1511.08710.pdf. The authors of this paper use a quantity called squashed entanglement as an upper bound. They didn't invent this quantity, it was already well-known as an upper bound on quantum capacity. \n",
    "     \n",
    "     The authors don't actually upper bound the capacity of a repeater chain as a channel. They compute an upper bound on some channels that model direct transmission and compare them with the rates they get using repeaters. Still, the concept is the same, and is a good trick to know.\n",
    "     \n",
    "\n"
   ]
  },
  {
   "cell_type": "markdown",
   "metadata": {},
   "source": [
    "#### Analyzing a naive protocol: how often do we succeed in connecting two end-nodes if we create links between all pairs of nodes then perfrom one big swap?\n",
    "\n",
    "    The next paragraph is based on the assumption that if a link is created between any two local pair of nodes then it will have maximum fidelity; i.e, it will be a maximally entangled state. Also, it is assumed that the links are either created or not in a probabilistic manner.\n",
    "\n",
    "\"This problem is equivalent to a standard bond percolation situation [6], where one distributes connections among the nodes of a lattice in a probabilistic way: with probability $p$ an edge connecting a pair of nodes is\n",
    "established, otherwise the nodes are kept unconnected. We call this measurement strategy classical entanglement\n",
    "percolation (CEP). In bond percolation, for each lattice geometry there exists a percolation threshold probability, $p_{th}$, such that an infinite connected cluster can be established if and only if $p > p_{th}$ (see also Table 1). The probability $\\theta(p)$ that a given node belongs to an infinite cluster, or percolation probability, is strictly positive for $p \\geq p_{th}$, and zero otherwise (in the limit of an infinite number of nodes). Then, the probability that two given distant nodes can be connected by a path is distance independent and given, correspondingly, by $\\theta^2(p)$ for $p > p_{th}$; for $p < p_{th}$ this probability decays exponentially with the number of nodes, $N$.\"\n"
   ]
  },
  {
   "cell_type": "markdown",
   "metadata": {},
   "source": [
    "#### Is this paper useful to us?\n",
    "\n",
    "It has some nice ways to think about things. It provides an example of how to think about protocols analytically. But other than that, I (Bassem) think after skimming through that it's too old and contains too little information to be very useful to us now. "
   ]
  },
  {
   "cell_type": "code",
   "execution_count": null,
   "metadata": {},
   "outputs": [],
   "source": []
  }
 ],
 "metadata": {
  "kernelspec": {
   "display_name": "Python 3",
   "language": "python",
   "name": "python3"
  },
  "language_info": {
   "codemirror_mode": {
    "name": "ipython",
    "version": 3
   },
   "file_extension": ".py",
   "mimetype": "text/x-python",
   "name": "python",
   "nbconvert_exporter": "python",
   "pygments_lexer": "ipython3",
   "version": "3.7.4"
  }
 },
 "nbformat": 4,
 "nbformat_minor": 2
}
